{
 "cells": [
  {
   "cell_type": "code",
   "execution_count": 1,
   "metadata": {},
   "outputs": [
    {
     "name": "stdout",
     "output_type": "stream",
     "text": [
      "Loading DLC 3.0.0rc5...\n"
     ]
    },
    {
     "name": "stderr",
     "output_type": "stream",
     "text": [
      "c:\\Users\\quods\\miniconda3\\envs\\snow_petrel\\lib\\site-packages\\tqdm\\auto.py:21: TqdmWarning: IProgress not found. Please update jupyter and ipywidgets. See https://ipywidgets.readthedocs.io/en/stable/user_install.html\n",
      "  from .autonotebook import tqdm as notebook_tqdm\n"
     ]
    }
   ],
   "source": [
    "import tensorflow as tf\n",
    "import deeplabcut"
   ]
  },
  {
   "cell_type": "code",
   "execution_count": 2,
   "metadata": {},
   "outputs": [],
   "source": [
    "# copy_videos=False: not to copy files, handling images.\n",
    "# deeplabcut.create_new_project('SnowPetrel', 'SnowPetrel', ['SnowPetrel-Adam-2024-10-09/training-datasets'], working_directory='./', copy_videos=False, multianimal=False)"
   ]
  },
  {
   "cell_type": "code",
   "execution_count": 3,
   "metadata": {},
   "outputs": [
    {
     "name": "stdout",
     "output_type": "stream",
     "text": [
      "['animaltokenpose_base', 'dekr_w18', 'dekr_w32', 'dekr_w48', 'dlcrnet_stride16_ms5', 'dlcrnet_stride32_ms5', 'hrnet_w18', 'hrnet_w32', 'hrnet_w48', 'resnet_101', 'resnet_50', 'top_down_hrnet_w18', 'top_down_hrnet_w32', 'top_down_hrnet_w48', 'top_down_resnet_101', 'top_down_resnet_50']\n"
     ]
    }
   ],
   "source": [
    "from deeplabcut.pose_estimation_pytorch import available_models\n",
    "print(available_models())"
   ]
  },
  {
   "cell_type": "code",
   "execution_count": 4,
   "metadata": {},
   "outputs": [],
   "source": [
    "config_path = \"./SnowPetrel-Adam-2024-10-09/config.yaml\"\n",
    "# deeplabcut.extract_frames(config_path, mode='manual')"
   ]
  },
  {
   "cell_type": "code",
   "execution_count": 7,
   "metadata": {},
   "outputs": [
    {
     "name": "stdout",
     "output_type": "stream",
     "text": [
      "C:\\Developments\\MachineLearning\\SnowPetrel\\SnowPetrel-Adam-2024-10-09\\labeled-data\\01-20151220154116\\CollectedData_Adam.h5  not found (perhaps not annotated).\n",
      "Annotation data was not found by splitting video paths (from config['video_sets']). An alternative route is taken...\n",
      "The following folders were found: ['C:\\\\Developments\\\\MachineLearning\\\\SnowPetrel\\\\SnowPetrel-Adam-2024-10-09\\\\labeled-data\\\\n_001', 'C:\\\\Developments\\\\MachineLearning\\\\SnowPetrel\\\\SnowPetrel-Adam-2024-10-09\\\\labeled-data\\\\n_002', 'C:\\\\Developments\\\\MachineLearning\\\\SnowPetrel\\\\SnowPetrel-Adam-2024-10-09\\\\labeled-data\\\\n_003', 'C:\\\\Developments\\\\MachineLearning\\\\SnowPetrel\\\\SnowPetrel-Adam-2024-10-09\\\\labeled-data\\\\n_004', 'C:\\\\Developments\\\\MachineLearning\\\\SnowPetrel\\\\SnowPetrel-Adam-2024-10-09\\\\labeled-data\\\\n_005', 'C:\\\\Developments\\\\MachineLearning\\\\SnowPetrel\\\\SnowPetrel-Adam-2024-10-09\\\\labeled-data\\\\n_006', 'C:\\\\Developments\\\\MachineLearning\\\\SnowPetrel\\\\SnowPetrel-Adam-2024-10-09\\\\labeled-data\\\\n_007', 'C:\\\\Developments\\\\MachineLearning\\\\SnowPetrel\\\\SnowPetrel-Adam-2024-10-09\\\\labeled-data\\\\n_008', 'C:\\\\Developments\\\\MachineLearning\\\\SnowPetrel\\\\SnowPetrel-Adam-2024-10-09\\\\labeled-data\\\\n_009', 'C:\\\\Developments\\\\MachineLearning\\\\SnowPetrel\\\\SnowPetrel-Adam-2024-10-09\\\\labeled-data\\\\n_010', 'C:\\\\Developments\\\\MachineLearning\\\\SnowPetrel\\\\SnowPetrel-Adam-2024-10-09\\\\labeled-data\\\\n_011', 'C:\\\\Developments\\\\MachineLearning\\\\SnowPetrel\\\\SnowPetrel-Adam-2024-10-09\\\\labeled-data\\\\n_012', 'C:\\\\Developments\\\\MachineLearning\\\\SnowPetrel\\\\SnowPetrel-Adam-2024-10-09\\\\labeled-data\\\\n_013', 'C:\\\\Developments\\\\MachineLearning\\\\SnowPetrel\\\\SnowPetrel-Adam-2024-10-09\\\\labeled-data\\\\n_014', 'C:\\\\Developments\\\\MachineLearning\\\\SnowPetrel\\\\SnowPetrel-Adam-2024-10-09\\\\labeled-data\\\\n_015', 'C:\\\\Developments\\\\MachineLearning\\\\SnowPetrel\\\\SnowPetrel-Adam-2024-10-09\\\\labeled-data\\\\n_016', 'C:\\\\Developments\\\\MachineLearning\\\\SnowPetrel\\\\SnowPetrel-Adam-2024-10-09\\\\labeled-data\\\\n_017', 'C:\\\\Developments\\\\MachineLearning\\\\SnowPetrel\\\\SnowPetrel-Adam-2024-10-09\\\\labeled-data\\\\n_018', 'C:\\\\Developments\\\\MachineLearning\\\\SnowPetrel\\\\SnowPetrel-Adam-2024-10-09\\\\labeled-data\\\\n_019', 'C:\\\\Developments\\\\MachineLearning\\\\SnowPetrel\\\\SnowPetrel-Adam-2024-10-09\\\\labeled-data\\\\n_020', 'C:\\\\Developments\\\\MachineLearning\\\\SnowPetrel\\\\SnowPetrel-Adam-2024-10-09\\\\labeled-data\\\\n_021', 'C:\\\\Developments\\\\MachineLearning\\\\SnowPetrel\\\\SnowPetrel-Adam-2024-10-09\\\\labeled-data\\\\n_022', 'C:\\\\Developments\\\\MachineLearning\\\\SnowPetrel\\\\SnowPetrel-Adam-2024-10-09\\\\labeled-data\\\\p_001', 'C:\\\\Developments\\\\MachineLearning\\\\SnowPetrel\\\\SnowPetrel-Adam-2024-10-09\\\\labeled-data\\\\p_002', 'C:\\\\Developments\\\\MachineLearning\\\\SnowPetrel\\\\SnowPetrel-Adam-2024-10-09\\\\labeled-data\\\\p_003', 'C:\\\\Developments\\\\MachineLearning\\\\SnowPetrel\\\\SnowPetrel-Adam-2024-10-09\\\\labeled-data\\\\p_004', 'C:\\\\Developments\\\\MachineLearning\\\\SnowPetrel\\\\SnowPetrel-Adam-2024-10-09\\\\labeled-data\\\\p_005', 'C:\\\\Developments\\\\MachineLearning\\\\SnowPetrel\\\\SnowPetrel-Adam-2024-10-09\\\\labeled-data\\\\p_006', 'C:\\\\Developments\\\\MachineLearning\\\\SnowPetrel\\\\SnowPetrel-Adam-2024-10-09\\\\labeled-data\\\\p_007', 'C:\\\\Developments\\\\MachineLearning\\\\SnowPetrel\\\\SnowPetrel-Adam-2024-10-09\\\\labeled-data\\\\p_008', 'C:\\\\Developments\\\\MachineLearning\\\\SnowPetrel\\\\SnowPetrel-Adam-2024-10-09\\\\labeled-data\\\\p_009', 'C:\\\\Developments\\\\MachineLearning\\\\SnowPetrel\\\\SnowPetrel-Adam-2024-10-09\\\\labeled-data\\\\p_010', 'C:\\\\Developments\\\\MachineLearning\\\\SnowPetrel\\\\SnowPetrel-Adam-2024-10-09\\\\labeled-data\\\\p_011', 'C:\\\\Developments\\\\MachineLearning\\\\SnowPetrel\\\\SnowPetrel-Adam-2024-10-09\\\\labeled-data\\\\p_012', 'C:\\\\Developments\\\\MachineLearning\\\\SnowPetrel\\\\SnowPetrel-Adam-2024-10-09\\\\labeled-data\\\\p_013', 'C:\\\\Developments\\\\MachineLearning\\\\SnowPetrel\\\\SnowPetrel-Adam-2024-10-09\\\\labeled-data\\\\p_014', 'C:\\\\Developments\\\\MachineLearning\\\\SnowPetrel\\\\SnowPetrel-Adam-2024-10-09\\\\labeled-data\\\\p_015', 'C:\\\\Developments\\\\MachineLearning\\\\SnowPetrel\\\\SnowPetrel-Adam-2024-10-09\\\\labeled-data\\\\p_016', 'C:\\\\Developments\\\\MachineLearning\\\\SnowPetrel\\\\SnowPetrel-Adam-2024-10-09\\\\labeled-data\\\\p_017', 'C:\\\\Developments\\\\MachineLearning\\\\SnowPetrel\\\\SnowPetrel-Adam-2024-10-09\\\\labeled-data\\\\p_018', 'C:\\\\Developments\\\\MachineLearning\\\\SnowPetrel\\\\SnowPetrel-Adam-2024-10-09\\\\labeled-data\\\\p_019']\n"
     ]
    },
    {
     "ename": "FileNotFoundError",
     "evalue": "[Errno 2] No such file or directory: 'C:\\\\Developments\\\\MachineLearning\\\\SnowPetrel\\\\SnowPetrel-Adam-2024-10-09\\\\nesting\\\\n_006\\\\15-20151219172029-00.jpg'",
     "output_type": "error",
     "traceback": [
      "\u001b[1;31m---------------------------------------------------------------------------\u001b[0m",
      "\u001b[1;31mFileNotFoundError\u001b[0m                         Traceback (most recent call last)",
      "Cell \u001b[1;32mIn[7], line 1\u001b[0m\n\u001b[1;32m----> 1\u001b[0m \u001b[43mdeeplabcut\u001b[49m\u001b[38;5;241;43m.\u001b[39;49m\u001b[43mcreate_training_dataset\u001b[49m\u001b[43m(\u001b[49m\u001b[43mconfig_path\u001b[49m\u001b[43m,\u001b[49m\u001b[43m \u001b[49m\u001b[43mnum_shuffles\u001b[49m\u001b[38;5;241;43m=\u001b[39;49m\u001b[38;5;241;43m1\u001b[39;49m\u001b[43m,\u001b[49m\u001b[43m \u001b[49m\u001b[43maugmenter_type\u001b[49m\u001b[38;5;241;43m=\u001b[39;49m\u001b[38;5;124;43m'\u001b[39;49m\u001b[38;5;124;43mimgaug\u001b[39;49m\u001b[38;5;124;43m'\u001b[39;49m\u001b[43m,\u001b[49m\u001b[43m \u001b[49m\u001b[43mnet_type\u001b[49m\u001b[38;5;241;43m=\u001b[39;49m\u001b[38;5;124;43m\"\u001b[39;49m\u001b[38;5;124;43mresnet_50\u001b[39;49m\u001b[38;5;124;43m\"\u001b[39;49m\u001b[43m)\u001b[49m\n",
      "File \u001b[1;32mc:\\Users\\quods\\miniconda3\\envs\\snow_petrel\\lib\\site-packages\\deeplabcut\\generate_training_dataset\\trainingsetmanipulation.py:1156\u001b[0m, in \u001b[0;36mcreate_training_dataset\u001b[1;34m(config, num_shuffles, Shuffles, windows2linux, userfeedback, trainIndices, testIndices, net_type, detector_type, augmenter_type, posecfg_template, superanimal_name, weight_init, engine)\u001b[0m\n\u001b[0;32m   1146\u001b[0m (\n\u001b[0;32m   1147\u001b[0m     datafilename,\n\u001b[0;32m   1148\u001b[0m     metadatafilename,\n\u001b[0;32m   1149\u001b[0m ) \u001b[38;5;241m=\u001b[39m auxiliaryfunctions\u001b[38;5;241m.\u001b[39mget_data_and_metadata_filenames(\n\u001b[0;32m   1150\u001b[0m     trainingsetfolder, trainFraction, shuffle, cfg\n\u001b[0;32m   1151\u001b[0m )\n\u001b[0;32m   1153\u001b[0m \u001b[38;5;66;03m################################################################################\u001b[39;00m\n\u001b[0;32m   1154\u001b[0m \u001b[38;5;66;03m# Saving data file (convert to training file for deeper cut (*.mat))\u001b[39;00m\n\u001b[0;32m   1155\u001b[0m \u001b[38;5;66;03m################################################################################\u001b[39;00m\n\u001b[1;32m-> 1156\u001b[0m data, MatlabData \u001b[38;5;241m=\u001b[39m \u001b[43mformat_training_data\u001b[49m\u001b[43m(\u001b[49m\n\u001b[0;32m   1157\u001b[0m \u001b[43m    \u001b[49m\u001b[43mData\u001b[49m\u001b[43m,\u001b[49m\u001b[43m \u001b[49m\u001b[43mtrainIndices\u001b[49m\u001b[43m,\u001b[49m\u001b[43m \u001b[49m\u001b[43mnbodyparts\u001b[49m\u001b[43m,\u001b[49m\u001b[43m \u001b[49m\u001b[43mproject_path\u001b[49m\n\u001b[0;32m   1158\u001b[0m \u001b[43m\u001b[49m\u001b[43m)\u001b[49m\n\u001b[0;32m   1159\u001b[0m sio\u001b[38;5;241m.\u001b[39msavemat(\n\u001b[0;32m   1160\u001b[0m     os\u001b[38;5;241m.\u001b[39mpath\u001b[38;5;241m.\u001b[39mjoin(project_path, datafilename), {\u001b[38;5;124m\"\u001b[39m\u001b[38;5;124mdataset\u001b[39m\u001b[38;5;124m\"\u001b[39m: MatlabData}\n\u001b[0;32m   1161\u001b[0m )\n\u001b[0;32m   1163\u001b[0m \u001b[38;5;66;03m################################################################################\u001b[39;00m\n\u001b[0;32m   1164\u001b[0m \u001b[38;5;66;03m# Saving metadata (Pickle file)\u001b[39;00m\n\u001b[0;32m   1165\u001b[0m \u001b[38;5;66;03m################################################################################\u001b[39;00m\n",
      "File \u001b[1;32mc:\\Users\\quods\\miniconda3\\envs\\snow_petrel\\lib\\site-packages\\deeplabcut\\generate_training_dataset\\trainingsetmanipulation.py:743\u001b[0m, in \u001b[0;36mformat_training_data\u001b[1;34m(df, train_inds, nbodyparts, project_path)\u001b[0m\n\u001b[0;32m    741\u001b[0m filename \u001b[38;5;241m=\u001b[39m df\u001b[38;5;241m.\u001b[39mindex[i]\n\u001b[0;32m    742\u001b[0m data[\u001b[38;5;124m\"\u001b[39m\u001b[38;5;124mimage\u001b[39m\u001b[38;5;124m\"\u001b[39m] \u001b[38;5;241m=\u001b[39m filename\n\u001b[1;32m--> 743\u001b[0m img_shape \u001b[38;5;241m=\u001b[39m \u001b[43mread_image_shape_fast\u001b[49m\u001b[43m(\u001b[49m\u001b[43mos\u001b[49m\u001b[38;5;241;43m.\u001b[39;49m\u001b[43mpath\u001b[49m\u001b[38;5;241;43m.\u001b[39;49m\u001b[43mjoin\u001b[49m\u001b[43m(\u001b[49m\u001b[43mproject_path\u001b[49m\u001b[43m,\u001b[49m\u001b[43m \u001b[49m\u001b[38;5;241;43m*\u001b[39;49m\u001b[43mfilename\u001b[49m\u001b[43m)\u001b[49m\u001b[43m)\u001b[49m\n\u001b[0;32m    744\u001b[0m data[\u001b[38;5;124m\"\u001b[39m\u001b[38;5;124msize\u001b[39m\u001b[38;5;124m\"\u001b[39m] \u001b[38;5;241m=\u001b[39m img_shape\n\u001b[0;32m    745\u001b[0m temp \u001b[38;5;241m=\u001b[39m df\u001b[38;5;241m.\u001b[39miloc[i]\u001b[38;5;241m.\u001b[39mvalues\u001b[38;5;241m.\u001b[39mreshape(\u001b[38;5;241m-\u001b[39m\u001b[38;5;241m1\u001b[39m, \u001b[38;5;241m2\u001b[39m)\n",
      "File \u001b[1;32mc:\\Users\\quods\\miniconda3\\envs\\snow_petrel\\lib\\site-packages\\deeplabcut\\generate_training_dataset\\trainingsetmanipulation.py:725\u001b[0m, in \u001b[0;36mread_image_shape_fast\u001b[1;34m(path)\u001b[0m\n\u001b[0;32m    722\u001b[0m \u001b[38;5;129m@lru_cache\u001b[39m(maxsize\u001b[38;5;241m=\u001b[39m\u001b[38;5;28;01mNone\u001b[39;00m)\n\u001b[0;32m    723\u001b[0m \u001b[38;5;28;01mdef\u001b[39;00m \u001b[38;5;21mread_image_shape_fast\u001b[39m(path):\n\u001b[0;32m    724\u001b[0m     \u001b[38;5;66;03m# Blazing fast and does not load the image into memory\u001b[39;00m\n\u001b[1;32m--> 725\u001b[0m     \u001b[38;5;28;01mwith\u001b[39;00m \u001b[43mImage\u001b[49m\u001b[38;5;241;43m.\u001b[39;49m\u001b[43mopen\u001b[49m\u001b[43m(\u001b[49m\u001b[43mpath\u001b[49m\u001b[43m)\u001b[49m \u001b[38;5;28;01mas\u001b[39;00m img:\n\u001b[0;32m    726\u001b[0m         width, height \u001b[38;5;241m=\u001b[39m img\u001b[38;5;241m.\u001b[39msize\n\u001b[0;32m    727\u001b[0m         \u001b[38;5;28;01mreturn\u001b[39;00m \u001b[38;5;28mlen\u001b[39m(img\u001b[38;5;241m.\u001b[39mgetbands()), height, width\n",
      "File \u001b[1;32mc:\\Users\\quods\\miniconda3\\envs\\snow_petrel\\lib\\site-packages\\PIL\\Image.py:3431\u001b[0m, in \u001b[0;36mopen\u001b[1;34m(fp, mode, formats)\u001b[0m\n\u001b[0;32m   3428\u001b[0m     filename \u001b[38;5;241m=\u001b[39m os\u001b[38;5;241m.\u001b[39mpath\u001b[38;5;241m.\u001b[39mrealpath(os\u001b[38;5;241m.\u001b[39mfspath(fp))\n\u001b[0;32m   3430\u001b[0m \u001b[38;5;28;01mif\u001b[39;00m filename:\n\u001b[1;32m-> 3431\u001b[0m     fp \u001b[38;5;241m=\u001b[39m \u001b[43mbuiltins\u001b[49m\u001b[38;5;241;43m.\u001b[39;49m\u001b[43mopen\u001b[49m\u001b[43m(\u001b[49m\u001b[43mfilename\u001b[49m\u001b[43m,\u001b[49m\u001b[43m \u001b[49m\u001b[38;5;124;43m\"\u001b[39;49m\u001b[38;5;124;43mrb\u001b[39;49m\u001b[38;5;124;43m\"\u001b[39;49m\u001b[43m)\u001b[49m\n\u001b[0;32m   3432\u001b[0m     exclusive_fp \u001b[38;5;241m=\u001b[39m \u001b[38;5;28;01mTrue\u001b[39;00m\n\u001b[0;32m   3433\u001b[0m \u001b[38;5;28;01melse\u001b[39;00m:\n",
      "\u001b[1;31mFileNotFoundError\u001b[0m: [Errno 2] No such file or directory: 'C:\\\\Developments\\\\MachineLearning\\\\SnowPetrel\\\\SnowPetrel-Adam-2024-10-09\\\\nesting\\\\n_006\\\\15-20151219172029-00.jpg'"
     ]
    }
   ],
   "source": [
    "deeplabcut.create_training_dataset(config_path, num_shuffles=1, augmenter_type='imgaug', net_type=\"resnet_50\")"
   ]
  },
  {
   "cell_type": "code",
   "execution_count": null,
   "metadata": {},
   "outputs": [],
   "source": [
    "deeplabcut.train_network(config_path, shuffle=1, trainingsetindex=0, gputouse=None, max_snapshots_to_keep=5, autotune=False, displayiters=100, saveiters=15000, maxiters=30000, allow_growth=True)"
   ]
  },
  {
   "cell_type": "code",
   "execution_count": null,
   "metadata": {},
   "outputs": [],
   "source": []
  }
 ],
 "metadata": {
  "kernelspec": {
   "display_name": "snow_petrel",
   "language": "python",
   "name": "python3"
  },
  "language_info": {
   "codemirror_mode": {
    "name": "ipython",
    "version": 3
   },
   "file_extension": ".py",
   "mimetype": "text/x-python",
   "name": "python",
   "nbconvert_exporter": "python",
   "pygments_lexer": "ipython3",
   "version": "3.12.7"
  }
 },
 "nbformat": 4,
 "nbformat_minor": 2
}
