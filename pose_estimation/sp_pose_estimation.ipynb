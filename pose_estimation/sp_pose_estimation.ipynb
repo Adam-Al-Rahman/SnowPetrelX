{
 "cells": [
  {
   "cell_type": "code",
   "execution_count": 1,
   "metadata": {},
   "outputs": [],
   "source": [
    "import matplotlib.pyplot as plt\n",
    "import numpy as np\n",
    "import pandas as pd\n",
    "\n",
    "from PIL import Image\n",
    "from rich import print\n",
    "import os"
   ]
  },
  {
   "cell_type": "code",
   "execution_count": 2,
   "metadata": {},
   "outputs": [],
   "source": [
    "import torch\n",
    "import torch.nn as nn\n",
    "\n",
    "from torch.utils.data import Dataset, DataLoader\n",
    "from torchvision import models\n",
    "from torchvision import transforms"
   ]
  },
  {
   "cell_type": "code",
   "execution_count": 3,
   "metadata": {},
   "outputs": [
    {
     "data": {
      "text/html": [
       "<pre style=\"white-space:pre;overflow-x:auto;line-height:normal;font-family:Menlo,'DejaVu Sans Mono',consolas,'Courier New',monospace\">\n",
       "Device: cuda\n",
       "Device CUDNN enabled: <span style=\"color: #00ff00; text-decoration-color: #00ff00; font-style: italic\">True</span>\n",
       "\n",
       "</pre>\n"
      ],
      "text/plain": [
       "\n",
       "Device: cuda\n",
       "Device CUDNN enabled: \u001b[3;92mTrue\u001b[0m\n",
       "\n"
      ]
     },
     "metadata": {},
     "output_type": "display_data"
    }
   ],
   "source": [
    "# Device-Agnostic\n",
    "device = torch.device('cuda' if torch.cuda.is_available() else 'cpu')\n",
    "print(f\"\"\"\n",
    "Device: {device}\n",
    "Device CUDNN enabled: {torch.backends.cudnn.enabled}\n",
    "\"\"\")"
   ]
  },
  {
   "cell_type": "code",
   "execution_count": 4,
   "metadata": {},
   "outputs": [],
   "source": [
    "IMG_WIDTH = 320\n",
    "IMG_HEIGHT = 240\n",
    "NUM_KEYPOINTS = 7\n",
    "NUM_BATCH = 16\n",
    "\n",
    "MODEL_PATH = \"../models/pose_estimation\"\n",
    "DATASET_ROOT = \"../datasets\"\n",
    "DATASET_FILE = DATASET_ROOT + \"/preprocessed_dataset.csv\"\n",
    "\n",
    "dataset = pd.read_csv(DATASET_FILE)\n",
    "\n",
    "# SKELETON = []"
   ]
  },
  {
   "cell_type": "code",
   "execution_count": 5,
   "metadata": {},
   "outputs": [
    {
     "data": {
      "text/html": [
       "<div>\n",
       "<style scoped>\n",
       "    .dataframe tbody tr th:only-of-type {\n",
       "        vertical-align: middle;\n",
       "    }\n",
       "\n",
       "    .dataframe tbody tr th {\n",
       "        vertical-align: top;\n",
       "    }\n",
       "\n",
       "    .dataframe thead th {\n",
       "        text-align: right;\n",
       "    }\n",
       "</style>\n",
       "<table border=\"1\" class=\"dataframe\">\n",
       "  <thead>\n",
       "    <tr style=\"text-align: right;\">\n",
       "      <th></th>\n",
       "      <th>behavior</th>\n",
       "      <th>image_id</th>\n",
       "      <th>image_file</th>\n",
       "      <th>head_x</th>\n",
       "      <th>head_y</th>\n",
       "      <th>beak_base_x</th>\n",
       "      <th>beak_base_y</th>\n",
       "      <th>beak_tip_x</th>\n",
       "      <th>beak_tip_y</th>\n",
       "      <th>neck_x</th>\n",
       "      <th>neck_y</th>\n",
       "      <th>body1_x</th>\n",
       "      <th>body1_y</th>\n",
       "      <th>body2_x</th>\n",
       "      <th>body2_y</th>\n",
       "      <th>tail_base_x</th>\n",
       "      <th>tail_base_y</th>\n",
       "    </tr>\n",
       "  </thead>\n",
       "  <tbody>\n",
       "    <tr>\n",
       "      <th>0</th>\n",
       "      <td>nesting</td>\n",
       "      <td>n_001</td>\n",
       "      <td>59-20151230231705-00.jpg</td>\n",
       "      <td>19.234443</td>\n",
       "      <td>92.112384</td>\n",
       "      <td>41.246921</td>\n",
       "      <td>134.089668</td>\n",
       "      <td>39.711167</td>\n",
       "      <td>149.447212</td>\n",
       "      <td>61.211727</td>\n",
       "      <td>86.993203</td>\n",
       "      <td>79.640779</td>\n",
       "      <td>136.137341</td>\n",
       "      <td>123.153818</td>\n",
       "      <td>131.530078</td>\n",
       "      <td>176.393301</td>\n",
       "      <td>7.133978</td>\n",
       "    </tr>\n",
       "    <tr>\n",
       "      <th>1</th>\n",
       "      <td>nesting</td>\n",
       "      <td>n_001</td>\n",
       "      <td>59-20151230231706-00.jpg</td>\n",
       "      <td>12.579507</td>\n",
       "      <td>49.111263</td>\n",
       "      <td>43.806512</td>\n",
       "      <td>116.684453</td>\n",
       "      <td>55.580628</td>\n",
       "      <td>136.137341</td>\n",
       "      <td>70.426253</td>\n",
       "      <td>83.921694</td>\n",
       "      <td>83.736124</td>\n",
       "      <td>139.208850</td>\n",
       "      <td>145.166297</td>\n",
       "      <td>131.018160</td>\n",
       "      <td>164.619185</td>\n",
       "      <td>5.086305</td>\n",
       "    </tr>\n",
       "    <tr>\n",
       "      <th>2</th>\n",
       "      <td>nesting</td>\n",
       "      <td>n_001</td>\n",
       "      <td>59-20151230231714-00.jpg</td>\n",
       "      <td>24.865542</td>\n",
       "      <td>28.634538</td>\n",
       "      <td>38.175412</td>\n",
       "      <td>83.921694</td>\n",
       "      <td>35.615822</td>\n",
       "      <td>99.279237</td>\n",
       "      <td>61.211727</td>\n",
       "      <td>54.742362</td>\n",
       "      <td>86.295715</td>\n",
       "      <td>137.161177</td>\n",
       "      <td>139.535198</td>\n",
       "      <td>132.553914</td>\n",
       "      <td>193.286599</td>\n",
       "      <td>5.086305</td>\n",
       "    </tr>\n",
       "    <tr>\n",
       "      <th>3</th>\n",
       "      <td>nesting</td>\n",
       "      <td>n_001</td>\n",
       "      <td>59-20151230231720-00.jpg</td>\n",
       "      <td>23.841705</td>\n",
       "      <td>105.934174</td>\n",
       "      <td>38.175412</td>\n",
       "      <td>120.267882</td>\n",
       "      <td>42.270757</td>\n",
       "      <td>127.946653</td>\n",
       "      <td>49.949529</td>\n",
       "      <td>112.589110</td>\n",
       "      <td>73.497762</td>\n",
       "      <td>132.553916</td>\n",
       "      <td>111.379702</td>\n",
       "      <td>121.291718</td>\n",
       "      <td>126.225327</td>\n",
       "      <td>-0.544792</td>\n",
       "    </tr>\n",
       "    <tr>\n",
       "      <th>4</th>\n",
       "      <td>nesting</td>\n",
       "      <td>n_001</td>\n",
       "      <td>59-20151230231721-00.jpg</td>\n",
       "      <td>26.913214</td>\n",
       "      <td>101.838830</td>\n",
       "      <td>37.151576</td>\n",
       "      <td>117.708291</td>\n",
       "      <td>44.318430</td>\n",
       "      <td>125.387062</td>\n",
       "      <td>51.997201</td>\n",
       "      <td>109.005683</td>\n",
       "      <td>66.842826</td>\n",
       "      <td>139.720769</td>\n",
       "      <td>104.212848</td>\n",
       "      <td>131.018162</td>\n",
       "      <td>141.070952</td>\n",
       "      <td>3.550553</td>\n",
       "    </tr>\n",
       "  </tbody>\n",
       "</table>\n",
       "</div>"
      ],
      "text/plain": [
       "  behavior image_id                image_file     head_x      head_y  \\\n",
       "0  nesting    n_001  59-20151230231705-00.jpg  19.234443   92.112384   \n",
       "1  nesting    n_001  59-20151230231706-00.jpg  12.579507   49.111263   \n",
       "2  nesting    n_001  59-20151230231714-00.jpg  24.865542   28.634538   \n",
       "3  nesting    n_001  59-20151230231720-00.jpg  23.841705  105.934174   \n",
       "4  nesting    n_001  59-20151230231721-00.jpg  26.913214  101.838830   \n",
       "\n",
       "   beak_base_x  beak_base_y  beak_tip_x  beak_tip_y     neck_x      neck_y  \\\n",
       "0    41.246921   134.089668   39.711167  149.447212  61.211727   86.993203   \n",
       "1    43.806512   116.684453   55.580628  136.137341  70.426253   83.921694   \n",
       "2    38.175412    83.921694   35.615822   99.279237  61.211727   54.742362   \n",
       "3    38.175412   120.267882   42.270757  127.946653  49.949529  112.589110   \n",
       "4    37.151576   117.708291   44.318430  125.387062  51.997201  109.005683   \n",
       "\n",
       "     body1_x     body1_y     body2_x     body2_y  tail_base_x  tail_base_y  \n",
       "0  79.640779  136.137341  123.153818  131.530078   176.393301     7.133978  \n",
       "1  83.736124  139.208850  145.166297  131.018160   164.619185     5.086305  \n",
       "2  86.295715  137.161177  139.535198  132.553914   193.286599     5.086305  \n",
       "3  73.497762  132.553916  111.379702  121.291718   126.225327    -0.544792  \n",
       "4  66.842826  139.720769  104.212848  131.018162   141.070952     3.550553  "
      ]
     },
     "execution_count": 5,
     "metadata": {},
     "output_type": "execute_result"
    }
   ],
   "source": [
    "dataset.head()"
   ]
  },
  {
   "cell_type": "code",
   "execution_count": 6,
   "metadata": {},
   "outputs": [],
   "source": [
    "class PoseDataset(Dataset):\n",
    "    def __init__(self, dataframe, dataset_root_folder, img_transform=None, kp_transform=None):\n",
    "        self.annotations = dataframe  # Load the pandas DataFrame directly\n",
    "        self.dataset_root_folder = dataset_root_folder  # Root folder for the dataset\n",
    "        self.img_transform = img_transform\n",
    "        self.kp_transform = kp_transform\n",
    "\n",
    "    def __len__(self):\n",
    "        return len(self.annotations)\n",
    "\n",
    "    def __getitem__(self, idx):\n",
    "        # Construct the image path from behavior, image_id, and image_file columns\n",
    "        behavior = self.annotations.iloc[idx]['behavior']\n",
    "        image_id = self.annotations.iloc[idx]['image_id']\n",
    "        image_file = self.annotations.iloc[idx]['image_file']\n",
    "        \n",
    "        # Create the full image path\n",
    "        img_path = os.path.join(self.dataset_root_folder, behavior, image_id, image_file)\n",
    "        \n",
    "        # Load and process the image\n",
    "        image = Image.open(img_path).convert(\"RGB\")\n",
    "        \n",
    "        # Extract the keypoints (head_x, head_y, ..., body2_x, body2_y) as numpy array\n",
    "        keypoints = self.annotations.iloc[idx, 3:].values.astype('float32')\n",
    "        \n",
    "        if self.img_transform:\n",
    "            image = self.img_transform(image)\n",
    "\n",
    "        if self.kp_transform:\n",
    "            keypoints = self.kp_transform(keypoints)\n",
    "        \n",
    "\n",
    "        return image, keypoints\n"
   ]
  },
  {
   "cell_type": "code",
   "execution_count": 7,
   "metadata": {},
   "outputs": [],
   "source": [
    "## Q. Why nn.SiLU (Swish Activation) [ f(x) = x * sigmoid(x) ]\n",
    "## A. Allows smooth, non-monotonic behavior, enhancing gradient flow\n",
    "\n",
    "# ARCHITECTURE = \"efficientnet_b0_batch_norm2d_swish\"\n",
    "\n",
    "# class BirdPoseModel(nn.Module):\n",
    "#     def __init__(self, num_keypoints: int):\n",
    "#         super(BirdPoseModel, self).__init__()\n",
    "        \n",
    "#         # Efficient backbone (EfficientNet-B0) for feature extraction\n",
    "#         efficientnet = models.efficientnet_b0(weights=models.EfficientNet_B0_Weights.DEFAULT)\n",
    "#         self.backbone = nn.Sequential(*list(efficientnet.features))\n",
    "        \n",
    "#         # Reduce feature map channel sizes\n",
    "#         self.conv_layers = nn.Sequential(\n",
    "#             nn.Conv2d(1280, 128, kernel_size=3, padding=1),  # From EfficientNet-B0 last layer (1280 channels)\n",
    "#             nn.BatchNorm2d(128),\n",
    "#             nn.SiLU(),  # Swish Activation\n",
    "#             nn.Conv2d(128, 64, kernel_size=3, padding=1),\n",
    "#             nn.BatchNorm2d(64),\n",
    "#             nn.SiLU()\n",
    "#         )\n",
    "        \n",
    "#         # Global average pooling\n",
    "#         self.global_avg_pool = nn.AdaptiveAvgPool2d(1)\n",
    "        \n",
    "#         # Fully connected layer for keypoints prediction\n",
    "#         self.fc = nn.Sequential(\n",
    "#             nn.Dropout(0.3),  # Add dropout for regularization\n",
    "#             nn.Linear(64, num_keypoints * 2),\n",
    "#         )\n",
    "\n",
    "#     def forward(self, x: torch.Tensor) -> torch.Tensor:\n",
    "#         # Feature extraction\n",
    "#         x = self.backbone(x)\n",
    "        \n",
    "#         # Channel size reduction\n",
    "#         x = self.conv_layers(x)\n",
    "        \n",
    "#         # Global average pooling\n",
    "#         x = self.global_avg_pool(x)  # Shape: (batch_size, 64, 1, 1)\n",
    "#         x = torch.flatten(x, 1)  # Shape: (batch_size, 64)\n",
    "        \n",
    "#         # Fully connected layer for keypoints\n",
    "#         x = self.fc(x)  # Shape: (batch_size, num_keypoints * 2)\n",
    "#         return x\n"
   ]
  },
  {
   "cell_type": "code",
   "execution_count": 8,
   "metadata": {},
   "outputs": [],
   "source": [
    "# ARCHITECTURE = \"first_resnet50\"\n",
    "\n",
    "# class BirdPoseModel(nn.Module):\n",
    "#     def __init__(self, num_keypoints: int):\n",
    "#         super(BirdPoseModel, self).__init__()\n",
    "#         resnet = models.resnet50(weights=models.ResNet50_Weights.DEFAULT)\n",
    "        \n",
    "#         # Use all layers except the last two\n",
    "#         self.backbone = nn.Sequential(*list(resnet.children())[:-2])\n",
    "        \n",
    "#         # Reduce the output channel size\n",
    "#         self.conv = nn.Conv2d(2048, 512, kernel_size=3, padding=1)\n",
    "        \n",
    "#         # Global average pooling for spatial dimensions\n",
    "#         self.global_avg_pool = nn.AdaptiveAvgPool2d(1)\n",
    "\n",
    "#         # Fully connected layer for final predictions\n",
    "#         self.fc = nn.Linear(512, num_keypoints * 2)\n",
    "\n",
    "#     def forward(self, x: torch.Tensor) -> torch.Tensor:\n",
    "#         # Pass through the backbone\n",
    "#         x = self.backbone(x)\n",
    "        \n",
    "#         # Apply convolutional layer\n",
    "#         x = self.conv(x)\n",
    "#         x = nn.ReLU()(x)\n",
    "        \n",
    "#         # Global average pooling\n",
    "#         x = self.global_avg_pool(x)  # Shape: (batch_size, 512, 1, 1)\n",
    "#         x = torch.flatten(x, 1)  # Shape: (batch_size, 512)\n",
    "        \n",
    "#         # Fully connected layer for keypoints\n",
    "#         x = self.fc(x)  # Shape: (batch_size, num_keypoints * 2)\n",
    "        \n",
    "#         # Reshape to (batch_size, num_keypoints * 2)\n",
    "#         return x.view(-1, NUM_KEYPOINTS * 2)"
   ]
  },
  {
   "cell_type": "code",
   "execution_count": 9,
   "metadata": {},
   "outputs": [],
   "source": [
    "ARCHITECTURE = \"resnet50_batch_norm2d_relu\"\n",
    "\n",
    "class BirdPoseModel(nn.Module):\n",
    "    def __init__(self, num_keypoints: int):\n",
    "        super(BirdPoseModel, self).__init__()\n",
    "        \n",
    "        # Load ResNet-50 backbone and remove the last two layers\n",
    "        resnet = models.resnet50(weights=models.ResNet50_Weights.DEFAULT)\n",
    "        self.backbone = nn.Sequential(*list(resnet.children())[:-2])\n",
    "        \n",
    "        # Reduce the channel size progressively\n",
    "        self.conv_layers = nn.Sequential(\n",
    "            nn.Conv2d(2048, 1024, kernel_size=3, padding=1),\n",
    "            nn.BatchNorm2d(1024),\n",
    "            nn.ReLU(),\n",
    "            nn.Conv2d(1024, 512, kernel_size=3, padding=1),\n",
    "            nn.BatchNorm2d(512),\n",
    "            nn.ReLU(),\n",
    "            nn.Conv2d(512, 256, kernel_size=3, padding=1),\n",
    "            nn.BatchNorm2d(256),\n",
    "            nn.ReLU(),\n",
    "            nn.Conv2d(256, 64, kernel_size=3, padding=1),\n",
    "            nn.BatchNorm2d(64),\n",
    "            nn.ReLU()\n",
    "        )\n",
    "        \n",
    "        # Global average pooling\n",
    "        self.global_avg_pool = nn.AdaptiveAvgPool2d(1)\n",
    "        \n",
    "        # Fully connected layer for keypoints\n",
    "        self.fc = nn.Linear(64, num_keypoints * 2)\n",
    "\n",
    "    def forward(self, x: torch.Tensor) -> torch.Tensor:\n",
    "        # Pass input through the ResNet backbone\n",
    "        x = self.backbone(x)\n",
    "        \n",
    "        # Apply the convolutional layers\n",
    "        x = self.conv_layers(x)\n",
    "        \n",
    "        # Global average pooling\n",
    "        x = self.global_avg_pool(x)  # Shape: (batch_size, 64, 1, 1)\n",
    "        x = torch.flatten(x, 1)  # Shape: (batch_size, 64)\n",
    "        \n",
    "        # Fully connected layer for keypoint prediction\n",
    "        x = self.fc(x)  # Shape: (batch_size, num_keypoints * 2)\n",
    "        \n",
    "        return x\n"
   ]
  },
  {
   "cell_type": "code",
   "execution_count": 10,
   "metadata": {},
   "outputs": [],
   "source": [
    "# ARCHITECTURE = \"resnet50_batch_norm2d_swish\"\n",
    "\n",
    "# class BirdPoseModel(nn.Module):\n",
    "#     def __init__(self, num_keypoints: int):\n",
    "#         super(BirdPoseModel, self).__init__()\n",
    "        \n",
    "#         # Load ResNet-50 backbone and remove the last two layers\n",
    "#         resnet = models.resnet50(weights=models.ResNet50_Weights.DEFAULT)\n",
    "#         self.backbone = nn.Sequential(*list(resnet.children())[:-2])\n",
    "        \n",
    "#         # Reduce the channel size progressively with BatchNorm and SiLU\n",
    "#         self.conv_layers = nn.Sequential(\n",
    "#             nn.Conv2d(2048, 1024, kernel_size=3, padding=1),\n",
    "#             nn.BatchNorm2d(1024),\n",
    "#             nn.SiLU(),\n",
    "            \n",
    "#             nn.Conv2d(1024, 512, kernel_size=3, padding=1),\n",
    "#             nn.BatchNorm2d(512),\n",
    "#             nn.SiLU(),\n",
    "            \n",
    "#             nn.Conv2d(512, 256, kernel_size=3, padding=1),\n",
    "#             nn.BatchNorm2d(256),\n",
    "#             nn.SiLU(),\n",
    "            \n",
    "#             nn.Conv2d(256, 64, kernel_size=3, padding=1),\n",
    "#             nn.BatchNorm2d(64),\n",
    "#             nn.SiLU()\n",
    "#         )\n",
    "        \n",
    "#         # Global average pooling\n",
    "#         self.global_avg_pool = nn.AdaptiveAvgPool2d(1)\n",
    "        \n",
    "#         # Fully connected layer for keypoints\n",
    "#         self.fc = nn.Linear(64, num_keypoints * 2)\n",
    "\n",
    "#     def forward(self, x: torch.Tensor) -> torch.Tensor:\n",
    "#         # Pass input through the ResNet backbone\n",
    "#         x = self.backbone(x)\n",
    "        \n",
    "#         # Apply the convolutional layers\n",
    "#         x = self.conv_layers(x)\n",
    "        \n",
    "#         # Global average pooling\n",
    "#         x = self.global_avg_pool(x)  # Shape: (batch_size, 64, 1, 1)\n",
    "#         x = torch.flatten(x, 1)  # Shape: (batch_size, 64)\n",
    "        \n",
    "#         # Fully connected layer for keypoint prediction\n",
    "#         x = self.fc(x)  # Shape: (batch_size, num_keypoints * 2)\n",
    "        \n",
    "#         return x\n"
   ]
  },
  {
   "cell_type": "code",
   "execution_count": 11,
   "metadata": {},
   "outputs": [],
   "source": [
    "class NormalizeKeypoints:\n",
    "    def __init__(self, image_width: int, image_height: int):\n",
    "        self.image_width = image_width\n",
    "        self.image_height = image_height\n",
    "\n",
    "    def __call__(self, keypoints):\n",
    "        # Convert to tensor if not already a tensor\n",
    "        keypoints = torch.tensor(keypoints, dtype=torch.float32) if not isinstance(keypoints, torch.Tensor) else keypoints\n",
    "        \n",
    "        keypoints[0::2] /= self.image_width  # Normalize x-coordinates\n",
    "        keypoints[1::2] /= self.image_height  # Normalize y-coordinates\n",
    "        return keypoints\n",
    "\n",
    "\n",
    "class DenormalizeKeypoints:\n",
    "    def __init__(self, image_width: int, image_height: int):\n",
    "        self.image_width = image_width\n",
    "        self.image_height = image_height\n",
    "\n",
    "    def __call__(self, keypoints):\n",
    "        # Convert to tensor if not already a tensor\n",
    "        keypoints = torch.tensor(keypoints, dtype=torch.float32) if not isinstance(keypoints, torch.Tensor) else keypoints.clone()\n",
    "        \n",
    "        # Perform non-in-place operations\n",
    "        denormalized = keypoints.clone()\n",
    "        denormalized[0::2] = denormalized[0::2] * self.image_width  # Denormalize x-coordinates\n",
    "        denormalized[1::2] = denormalized[1::2] * self.image_height  # Denormalize y-coordinates\n",
    "        return denormalized\n"
   ]
  },
  {
   "cell_type": "code",
   "execution_count": 12,
   "metadata": {},
   "outputs": [],
   "source": [
    "\n",
    "# Image Transformations Defination\n",
    "img_transform = transforms.Compose([\n",
    "    transforms.Resize((IMG_HEIGHT, IMG_WIDTH)),\n",
    "    transforms.ToTensor(),\n",
    "])\n",
    "\n",
    "kp_transform = NormalizeKeypoints(IMG_WIDTH, IMG_HEIGHT)\n",
    "\n",
    "# Initialize the dataset and dataloader\n",
    "pose_dataset = PoseDataset(dataframe=dataset, dataset_root_folder=DATASET_ROOT, img_transform=img_transform, kp_transform=kp_transform)\n",
    "dataloader = DataLoader(pose_dataset, batch_size=NUM_BATCH, shuffle=True, num_workers=0, pin_memory=True)"
   ]
  },
  {
   "cell_type": "code",
   "execution_count": 13,
   "metadata": {},
   "outputs": [],
   "source": [
    "model = BirdPoseModel(NUM_KEYPOINTS).to(device)"
   ]
  },
  {
   "cell_type": "code",
   "execution_count": 14,
   "metadata": {},
   "outputs": [],
   "source": [
    "# Why scaling?: \n",
    "# If you want to accumulate the loss over multiple batches,\n",
    "# you need to ensure that each batch contributes the correct amount to the total loss,\n",
    "# regardless of the batch size. Multiplying by images.size(0) gives the total loss for that batch instead of just the average."
   ]
  },
  {
   "cell_type": "code",
   "execution_count": 15,
   "metadata": {},
   "outputs": [
    {
     "name": "stderr",
     "output_type": "stream",
     "text": [
      "Epoch 1/100:   0%|          | 0/73 [00:00<?, ?batch/s]"
     ]
    },
    {
     "name": "stderr",
     "output_type": "stream",
     "text": [
      "Epoch 1/100: 100%|██████████| 73/73 [00:38<00:00,  1.92batch/s, batch_loss=0.32] \n"
     ]
    },
    {
     "data": {
      "text/html": [
       "<pre style=\"white-space:pre;overflow-x:auto;line-height:normal;font-family:Menlo,'DejaVu Sans Mono',consolas,'Courier New',monospace\">Epoch <span style=\"font-weight: bold\">[</span><span style=\"color: #008080; text-decoration-color: #008080; font-weight: bold\">1</span>/<span style=\"color: #008080; text-decoration-color: #008080; font-weight: bold\">100</span><span style=\"font-weight: bold\">]</span>, Epoch Loss: <span style=\"color: #008080; text-decoration-color: #008080; font-weight: bold\">0.0540</span>\n",
       "</pre>\n"
      ],
      "text/plain": [
       "Epoch \u001b[1m[\u001b[0m\u001b[1;36m1\u001b[0m/\u001b[1;36m100\u001b[0m\u001b[1m]\u001b[0m, Epoch Loss: \u001b[1;36m0.0540\u001b[0m\n"
      ]
     },
     "metadata": {},
     "output_type": "display_data"
    },
    {
     "name": "stderr",
     "output_type": "stream",
     "text": [
      "Epoch 2/100: 100%|██████████| 73/73 [00:40<00:00,  1.79batch/s, batch_loss=0.091] \n"
     ]
    },
    {
     "data": {
      "text/html": [
       "<pre style=\"white-space:pre;overflow-x:auto;line-height:normal;font-family:Menlo,'DejaVu Sans Mono',consolas,'Courier New',monospace\">Epoch <span style=\"font-weight: bold\">[</span><span style=\"color: #008080; text-decoration-color: #008080; font-weight: bold\">2</span>/<span style=\"color: #008080; text-decoration-color: #008080; font-weight: bold\">100</span><span style=\"font-weight: bold\">]</span>, Epoch Loss: <span style=\"color: #008080; text-decoration-color: #008080; font-weight: bold\">0.0101</span>\n",
       "</pre>\n"
      ],
      "text/plain": [
       "Epoch \u001b[1m[\u001b[0m\u001b[1;36m2\u001b[0m/\u001b[1;36m100\u001b[0m\u001b[1m]\u001b[0m, Epoch Loss: \u001b[1;36m0.0101\u001b[0m\n"
      ]
     },
     "metadata": {},
     "output_type": "display_data"
    },
    {
     "name": "stderr",
     "output_type": "stream",
     "text": [
      "Epoch 3/100: 100%|██████████| 73/73 [00:39<00:00,  1.83batch/s, batch_loss=0.0424]\n"
     ]
    },
    {
     "data": {
      "text/html": [
       "<pre style=\"white-space:pre;overflow-x:auto;line-height:normal;font-family:Menlo,'DejaVu Sans Mono',consolas,'Courier New',monospace\">Epoch <span style=\"font-weight: bold\">[</span><span style=\"color: #008080; text-decoration-color: #008080; font-weight: bold\">3</span>/<span style=\"color: #008080; text-decoration-color: #008080; font-weight: bold\">100</span><span style=\"font-weight: bold\">]</span>, Epoch Loss: <span style=\"color: #008080; text-decoration-color: #008080; font-weight: bold\">0.0067</span>\n",
       "</pre>\n"
      ],
      "text/plain": [
       "Epoch \u001b[1m[\u001b[0m\u001b[1;36m3\u001b[0m/\u001b[1;36m100\u001b[0m\u001b[1m]\u001b[0m, Epoch Loss: \u001b[1;36m0.0067\u001b[0m\n"
      ]
     },
     "metadata": {},
     "output_type": "display_data"
    },
    {
     "name": "stderr",
     "output_type": "stream",
     "text": [
      "Epoch 4/100: 100%|██████████| 73/73 [00:40<00:00,  1.82batch/s, batch_loss=0.0364]\n"
     ]
    },
    {
     "data": {
      "text/html": [
       "<pre style=\"white-space:pre;overflow-x:auto;line-height:normal;font-family:Menlo,'DejaVu Sans Mono',consolas,'Courier New',monospace\">Epoch <span style=\"font-weight: bold\">[</span><span style=\"color: #008080; text-decoration-color: #008080; font-weight: bold\">4</span>/<span style=\"color: #008080; text-decoration-color: #008080; font-weight: bold\">100</span><span style=\"font-weight: bold\">]</span>, Epoch Loss: <span style=\"color: #008080; text-decoration-color: #008080; font-weight: bold\">0.0057</span>\n",
       "</pre>\n"
      ],
      "text/plain": [
       "Epoch \u001b[1m[\u001b[0m\u001b[1;36m4\u001b[0m/\u001b[1;36m100\u001b[0m\u001b[1m]\u001b[0m, Epoch Loss: \u001b[1;36m0.0057\u001b[0m\n"
      ]
     },
     "metadata": {},
     "output_type": "display_data"
    },
    {
     "name": "stderr",
     "output_type": "stream",
     "text": [
      "Epoch 5/100: 100%|██████████| 73/73 [00:40<00:00,  1.82batch/s, batch_loss=0.045] \n"
     ]
    },
    {
     "data": {
      "text/html": [
       "<pre style=\"white-space:pre;overflow-x:auto;line-height:normal;font-family:Menlo,'DejaVu Sans Mono',consolas,'Courier New',monospace\">Epoch <span style=\"font-weight: bold\">[</span><span style=\"color: #008080; text-decoration-color: #008080; font-weight: bold\">5</span>/<span style=\"color: #008080; text-decoration-color: #008080; font-weight: bold\">100</span><span style=\"font-weight: bold\">]</span>, Epoch Loss: <span style=\"color: #008080; text-decoration-color: #008080; font-weight: bold\">0.0049</span>\n",
       "</pre>\n"
      ],
      "text/plain": [
       "Epoch \u001b[1m[\u001b[0m\u001b[1;36m5\u001b[0m/\u001b[1;36m100\u001b[0m\u001b[1m]\u001b[0m, Epoch Loss: \u001b[1;36m0.0049\u001b[0m\n"
      ]
     },
     "metadata": {},
     "output_type": "display_data"
    },
    {
     "name": "stderr",
     "output_type": "stream",
     "text": [
      "Epoch 6/100: 100%|██████████| 73/73 [00:40<00:00,  1.82batch/s, batch_loss=0.0536]\n"
     ]
    },
    {
     "data": {
      "text/html": [
       "<pre style=\"white-space:pre;overflow-x:auto;line-height:normal;font-family:Menlo,'DejaVu Sans Mono',consolas,'Courier New',monospace\">Epoch <span style=\"font-weight: bold\">[</span><span style=\"color: #008080; text-decoration-color: #008080; font-weight: bold\">6</span>/<span style=\"color: #008080; text-decoration-color: #008080; font-weight: bold\">100</span><span style=\"font-weight: bold\">]</span>, Epoch Loss: <span style=\"color: #008080; text-decoration-color: #008080; font-weight: bold\">0.0047</span>\n",
       "</pre>\n"
      ],
      "text/plain": [
       "Epoch \u001b[1m[\u001b[0m\u001b[1;36m6\u001b[0m/\u001b[1;36m100\u001b[0m\u001b[1m]\u001b[0m, Epoch Loss: \u001b[1;36m0.0047\u001b[0m\n"
      ]
     },
     "metadata": {},
     "output_type": "display_data"
    },
    {
     "name": "stderr",
     "output_type": "stream",
     "text": [
      "Epoch 7/100: 100%|██████████| 73/73 [00:40<00:00,  1.79batch/s, batch_loss=0.112] \n"
     ]
    },
    {
     "data": {
      "text/html": [
       "<pre style=\"white-space:pre;overflow-x:auto;line-height:normal;font-family:Menlo,'DejaVu Sans Mono',consolas,'Courier New',monospace\">Epoch <span style=\"font-weight: bold\">[</span><span style=\"color: #008080; text-decoration-color: #008080; font-weight: bold\">7</span>/<span style=\"color: #008080; text-decoration-color: #008080; font-weight: bold\">100</span><span style=\"font-weight: bold\">]</span>, Epoch Loss: <span style=\"color: #008080; text-decoration-color: #008080; font-weight: bold\">0.0042</span>\n",
       "</pre>\n"
      ],
      "text/plain": [
       "Epoch \u001b[1m[\u001b[0m\u001b[1;36m7\u001b[0m/\u001b[1;36m100\u001b[0m\u001b[1m]\u001b[0m, Epoch Loss: \u001b[1;36m0.0042\u001b[0m\n"
      ]
     },
     "metadata": {},
     "output_type": "display_data"
    },
    {
     "name": "stderr",
     "output_type": "stream",
     "text": [
      "Epoch 8/100: 100%|██████████| 73/73 [00:40<00:00,  1.82batch/s, batch_loss=0.0506]\n"
     ]
    },
    {
     "data": {
      "text/html": [
       "<pre style=\"white-space:pre;overflow-x:auto;line-height:normal;font-family:Menlo,'DejaVu Sans Mono',consolas,'Courier New',monospace\">Epoch <span style=\"font-weight: bold\">[</span><span style=\"color: #008080; text-decoration-color: #008080; font-weight: bold\">8</span>/<span style=\"color: #008080; text-decoration-color: #008080; font-weight: bold\">100</span><span style=\"font-weight: bold\">]</span>, Epoch Loss: <span style=\"color: #008080; text-decoration-color: #008080; font-weight: bold\">0.0034</span>\n",
       "</pre>\n"
      ],
      "text/plain": [
       "Epoch \u001b[1m[\u001b[0m\u001b[1;36m8\u001b[0m/\u001b[1;36m100\u001b[0m\u001b[1m]\u001b[0m, Epoch Loss: \u001b[1;36m0.0034\u001b[0m\n"
      ]
     },
     "metadata": {},
     "output_type": "display_data"
    },
    {
     "name": "stderr",
     "output_type": "stream",
     "text": [
      "Epoch 9/100: 100%|██████████| 73/73 [00:40<00:00,  1.78batch/s, batch_loss=0.0383]\n"
     ]
    },
    {
     "data": {
      "text/html": [
       "<pre style=\"white-space:pre;overflow-x:auto;line-height:normal;font-family:Menlo,'DejaVu Sans Mono',consolas,'Courier New',monospace\">Epoch <span style=\"font-weight: bold\">[</span><span style=\"color: #008080; text-decoration-color: #008080; font-weight: bold\">9</span>/<span style=\"color: #008080; text-decoration-color: #008080; font-weight: bold\">100</span><span style=\"font-weight: bold\">]</span>, Epoch Loss: <span style=\"color: #008080; text-decoration-color: #008080; font-weight: bold\">0.0033</span>\n",
       "</pre>\n"
      ],
      "text/plain": [
       "Epoch \u001b[1m[\u001b[0m\u001b[1;36m9\u001b[0m/\u001b[1;36m100\u001b[0m\u001b[1m]\u001b[0m, Epoch Loss: \u001b[1;36m0.0033\u001b[0m\n"
      ]
     },
     "metadata": {},
     "output_type": "display_data"
    },
    {
     "name": "stderr",
     "output_type": "stream",
     "text": [
      "Epoch 10/100: 100%|██████████| 73/73 [00:40<00:00,  1.78batch/s, batch_loss=0.036] \n"
     ]
    },
    {
     "data": {
      "text/html": [
       "<pre style=\"white-space:pre;overflow-x:auto;line-height:normal;font-family:Menlo,'DejaVu Sans Mono',consolas,'Courier New',monospace\">Epoch <span style=\"font-weight: bold\">[</span><span style=\"color: #008080; text-decoration-color: #008080; font-weight: bold\">10</span>/<span style=\"color: #008080; text-decoration-color: #008080; font-weight: bold\">100</span><span style=\"font-weight: bold\">]</span>, Epoch Loss: <span style=\"color: #008080; text-decoration-color: #008080; font-weight: bold\">0.0029</span>\n",
       "</pre>\n"
      ],
      "text/plain": [
       "Epoch \u001b[1m[\u001b[0m\u001b[1;36m10\u001b[0m/\u001b[1;36m100\u001b[0m\u001b[1m]\u001b[0m, Epoch Loss: \u001b[1;36m0.0029\u001b[0m\n"
      ]
     },
     "metadata": {},
     "output_type": "display_data"
    },
    {
     "name": "stderr",
     "output_type": "stream",
     "text": [
      "Epoch 11/100: 100%|██████████| 73/73 [00:41<00:00,  1.77batch/s, batch_loss=0.0472]\n"
     ]
    },
    {
     "data": {
      "text/html": [
       "<pre style=\"white-space:pre;overflow-x:auto;line-height:normal;font-family:Menlo,'DejaVu Sans Mono',consolas,'Courier New',monospace\">Epoch <span style=\"font-weight: bold\">[</span><span style=\"color: #008080; text-decoration-color: #008080; font-weight: bold\">11</span>/<span style=\"color: #008080; text-decoration-color: #008080; font-weight: bold\">100</span><span style=\"font-weight: bold\">]</span>, Epoch Loss: <span style=\"color: #008080; text-decoration-color: #008080; font-weight: bold\">0.0030</span>\n",
       "</pre>\n"
      ],
      "text/plain": [
       "Epoch \u001b[1m[\u001b[0m\u001b[1;36m11\u001b[0m/\u001b[1;36m100\u001b[0m\u001b[1m]\u001b[0m, Epoch Loss: \u001b[1;36m0.0030\u001b[0m\n"
      ]
     },
     "metadata": {},
     "output_type": "display_data"
    },
    {
     "name": "stderr",
     "output_type": "stream",
     "text": [
      "Epoch 12/100: 100%|██████████| 73/73 [00:41<00:00,  1.77batch/s, batch_loss=0.0288]\n"
     ]
    },
    {
     "data": {
      "text/html": [
       "<pre style=\"white-space:pre;overflow-x:auto;line-height:normal;font-family:Menlo,'DejaVu Sans Mono',consolas,'Courier New',monospace\">Epoch <span style=\"font-weight: bold\">[</span><span style=\"color: #008080; text-decoration-color: #008080; font-weight: bold\">12</span>/<span style=\"color: #008080; text-decoration-color: #008080; font-weight: bold\">100</span><span style=\"font-weight: bold\">]</span>, Epoch Loss: <span style=\"color: #008080; text-decoration-color: #008080; font-weight: bold\">0.0026</span>\n",
       "</pre>\n"
      ],
      "text/plain": [
       "Epoch \u001b[1m[\u001b[0m\u001b[1;36m12\u001b[0m/\u001b[1;36m100\u001b[0m\u001b[1m]\u001b[0m, Epoch Loss: \u001b[1;36m0.0026\u001b[0m\n"
      ]
     },
     "metadata": {},
     "output_type": "display_data"
    },
    {
     "name": "stderr",
     "output_type": "stream",
     "text": [
      "Epoch 13/100: 100%|██████████| 73/73 [00:40<00:00,  1.82batch/s, batch_loss=0.0235]\n"
     ]
    },
    {
     "data": {
      "text/html": [
       "<pre style=\"white-space:pre;overflow-x:auto;line-height:normal;font-family:Menlo,'DejaVu Sans Mono',consolas,'Courier New',monospace\">Epoch <span style=\"font-weight: bold\">[</span><span style=\"color: #008080; text-decoration-color: #008080; font-weight: bold\">13</span>/<span style=\"color: #008080; text-decoration-color: #008080; font-weight: bold\">100</span><span style=\"font-weight: bold\">]</span>, Epoch Loss: <span style=\"color: #008080; text-decoration-color: #008080; font-weight: bold\">0.0024</span>\n",
       "</pre>\n"
      ],
      "text/plain": [
       "Epoch \u001b[1m[\u001b[0m\u001b[1;36m13\u001b[0m/\u001b[1;36m100\u001b[0m\u001b[1m]\u001b[0m, Epoch Loss: \u001b[1;36m0.0024\u001b[0m\n"
      ]
     },
     "metadata": {},
     "output_type": "display_data"
    },
    {
     "name": "stderr",
     "output_type": "stream",
     "text": [
      "Epoch 14/100: 100%|██████████| 73/73 [00:40<00:00,  1.81batch/s, batch_loss=0.0165]\n"
     ]
    },
    {
     "data": {
      "text/html": [
       "<pre style=\"white-space:pre;overflow-x:auto;line-height:normal;font-family:Menlo,'DejaVu Sans Mono',consolas,'Courier New',monospace\">Epoch <span style=\"font-weight: bold\">[</span><span style=\"color: #008080; text-decoration-color: #008080; font-weight: bold\">14</span>/<span style=\"color: #008080; text-decoration-color: #008080; font-weight: bold\">100</span><span style=\"font-weight: bold\">]</span>, Epoch Loss: <span style=\"color: #008080; text-decoration-color: #008080; font-weight: bold\">0.0022</span>\n",
       "</pre>\n"
      ],
      "text/plain": [
       "Epoch \u001b[1m[\u001b[0m\u001b[1;36m14\u001b[0m/\u001b[1;36m100\u001b[0m\u001b[1m]\u001b[0m, Epoch Loss: \u001b[1;36m0.0022\u001b[0m\n"
      ]
     },
     "metadata": {},
     "output_type": "display_data"
    },
    {
     "name": "stderr",
     "output_type": "stream",
     "text": [
      "Epoch 15/100: 100%|██████████| 73/73 [00:39<00:00,  1.84batch/s, batch_loss=0.0498]\n"
     ]
    },
    {
     "data": {
      "text/html": [
       "<pre style=\"white-space:pre;overflow-x:auto;line-height:normal;font-family:Menlo,'DejaVu Sans Mono',consolas,'Courier New',monospace\">Epoch <span style=\"font-weight: bold\">[</span><span style=\"color: #008080; text-decoration-color: #008080; font-weight: bold\">15</span>/<span style=\"color: #008080; text-decoration-color: #008080; font-weight: bold\">100</span><span style=\"font-weight: bold\">]</span>, Epoch Loss: <span style=\"color: #008080; text-decoration-color: #008080; font-weight: bold\">0.0020</span>\n",
       "</pre>\n"
      ],
      "text/plain": [
       "Epoch \u001b[1m[\u001b[0m\u001b[1;36m15\u001b[0m/\u001b[1;36m100\u001b[0m\u001b[1m]\u001b[0m, Epoch Loss: \u001b[1;36m0.0020\u001b[0m\n"
      ]
     },
     "metadata": {},
     "output_type": "display_data"
    },
    {
     "name": "stderr",
     "output_type": "stream",
     "text": [
      "Epoch 16/100: 100%|██████████| 73/73 [00:40<00:00,  1.81batch/s, batch_loss=0.0128]\n"
     ]
    },
    {
     "data": {
      "text/html": [
       "<pre style=\"white-space:pre;overflow-x:auto;line-height:normal;font-family:Menlo,'DejaVu Sans Mono',consolas,'Courier New',monospace\">Epoch <span style=\"font-weight: bold\">[</span><span style=\"color: #008080; text-decoration-color: #008080; font-weight: bold\">16</span>/<span style=\"color: #008080; text-decoration-color: #008080; font-weight: bold\">100</span><span style=\"font-weight: bold\">]</span>, Epoch Loss: <span style=\"color: #008080; text-decoration-color: #008080; font-weight: bold\">0.0019</span>\n",
       "</pre>\n"
      ],
      "text/plain": [
       "Epoch \u001b[1m[\u001b[0m\u001b[1;36m16\u001b[0m/\u001b[1;36m100\u001b[0m\u001b[1m]\u001b[0m, Epoch Loss: \u001b[1;36m0.0019\u001b[0m\n"
      ]
     },
     "metadata": {},
     "output_type": "display_data"
    },
    {
     "name": "stderr",
     "output_type": "stream",
     "text": [
      "Epoch 17/100: 100%|██████████| 73/73 [00:40<00:00,  1.82batch/s, batch_loss=0.0268]\n"
     ]
    },
    {
     "data": {
      "text/html": [
       "<pre style=\"white-space:pre;overflow-x:auto;line-height:normal;font-family:Menlo,'DejaVu Sans Mono',consolas,'Courier New',monospace\">Epoch <span style=\"font-weight: bold\">[</span><span style=\"color: #008080; text-decoration-color: #008080; font-weight: bold\">17</span>/<span style=\"color: #008080; text-decoration-color: #008080; font-weight: bold\">100</span><span style=\"font-weight: bold\">]</span>, Epoch Loss: <span style=\"color: #008080; text-decoration-color: #008080; font-weight: bold\">0.0019</span>\n",
       "</pre>\n"
      ],
      "text/plain": [
       "Epoch \u001b[1m[\u001b[0m\u001b[1;36m17\u001b[0m/\u001b[1;36m100\u001b[0m\u001b[1m]\u001b[0m, Epoch Loss: \u001b[1;36m0.0019\u001b[0m\n"
      ]
     },
     "metadata": {},
     "output_type": "display_data"
    },
    {
     "name": "stderr",
     "output_type": "stream",
     "text": [
      "Epoch 18/100: 100%|██████████| 73/73 [00:40<00:00,  1.79batch/s, batch_loss=0.0461]\n"
     ]
    },
    {
     "data": {
      "text/html": [
       "<pre style=\"white-space:pre;overflow-x:auto;line-height:normal;font-family:Menlo,'DejaVu Sans Mono',consolas,'Courier New',monospace\">Epoch <span style=\"font-weight: bold\">[</span><span style=\"color: #008080; text-decoration-color: #008080; font-weight: bold\">18</span>/<span style=\"color: #008080; text-decoration-color: #008080; font-weight: bold\">100</span><span style=\"font-weight: bold\">]</span>, Epoch Loss: <span style=\"color: #008080; text-decoration-color: #008080; font-weight: bold\">0.0017</span>\n",
       "</pre>\n"
      ],
      "text/plain": [
       "Epoch \u001b[1m[\u001b[0m\u001b[1;36m18\u001b[0m/\u001b[1;36m100\u001b[0m\u001b[1m]\u001b[0m, Epoch Loss: \u001b[1;36m0.0017\u001b[0m\n"
      ]
     },
     "metadata": {},
     "output_type": "display_data"
    },
    {
     "name": "stderr",
     "output_type": "stream",
     "text": [
      "Epoch 19/100: 100%|██████████| 73/73 [00:41<00:00,  1.77batch/s, batch_loss=0.0149]\n"
     ]
    },
    {
     "data": {
      "text/html": [
       "<pre style=\"white-space:pre;overflow-x:auto;line-height:normal;font-family:Menlo,'DejaVu Sans Mono',consolas,'Courier New',monospace\">Epoch <span style=\"font-weight: bold\">[</span><span style=\"color: #008080; text-decoration-color: #008080; font-weight: bold\">19</span>/<span style=\"color: #008080; text-decoration-color: #008080; font-weight: bold\">100</span><span style=\"font-weight: bold\">]</span>, Epoch Loss: <span style=\"color: #008080; text-decoration-color: #008080; font-weight: bold\">0.0015</span>\n",
       "</pre>\n"
      ],
      "text/plain": [
       "Epoch \u001b[1m[\u001b[0m\u001b[1;36m19\u001b[0m/\u001b[1;36m100\u001b[0m\u001b[1m]\u001b[0m, Epoch Loss: \u001b[1;36m0.0015\u001b[0m\n"
      ]
     },
     "metadata": {},
     "output_type": "display_data"
    },
    {
     "name": "stderr",
     "output_type": "stream",
     "text": [
      "Epoch 20/100: 100%|██████████| 73/73 [00:39<00:00,  1.83batch/s, batch_loss=0.0215]\n"
     ]
    },
    {
     "data": {
      "text/html": [
       "<pre style=\"white-space:pre;overflow-x:auto;line-height:normal;font-family:Menlo,'DejaVu Sans Mono',consolas,'Courier New',monospace\">Epoch <span style=\"font-weight: bold\">[</span><span style=\"color: #008080; text-decoration-color: #008080; font-weight: bold\">20</span>/<span style=\"color: #008080; text-decoration-color: #008080; font-weight: bold\">100</span><span style=\"font-weight: bold\">]</span>, Epoch Loss: <span style=\"color: #008080; text-decoration-color: #008080; font-weight: bold\">0.0014</span>\n",
       "</pre>\n"
      ],
      "text/plain": [
       "Epoch \u001b[1m[\u001b[0m\u001b[1;36m20\u001b[0m/\u001b[1;36m100\u001b[0m\u001b[1m]\u001b[0m, Epoch Loss: \u001b[1;36m0.0014\u001b[0m\n"
      ]
     },
     "metadata": {},
     "output_type": "display_data"
    },
    {
     "name": "stderr",
     "output_type": "stream",
     "text": [
      "Epoch 21/100: 100%|██████████| 73/73 [00:39<00:00,  1.86batch/s, batch_loss=0.0217]\n"
     ]
    },
    {
     "data": {
      "text/html": [
       "<pre style=\"white-space:pre;overflow-x:auto;line-height:normal;font-family:Menlo,'DejaVu Sans Mono',consolas,'Courier New',monospace\">Epoch <span style=\"font-weight: bold\">[</span><span style=\"color: #008080; text-decoration-color: #008080; font-weight: bold\">21</span>/<span style=\"color: #008080; text-decoration-color: #008080; font-weight: bold\">100</span><span style=\"font-weight: bold\">]</span>, Epoch Loss: <span style=\"color: #008080; text-decoration-color: #008080; font-weight: bold\">0.0015</span>\n",
       "</pre>\n"
      ],
      "text/plain": [
       "Epoch \u001b[1m[\u001b[0m\u001b[1;36m21\u001b[0m/\u001b[1;36m100\u001b[0m\u001b[1m]\u001b[0m, Epoch Loss: \u001b[1;36m0.0015\u001b[0m\n"
      ]
     },
     "metadata": {},
     "output_type": "display_data"
    },
    {
     "name": "stderr",
     "output_type": "stream",
     "text": [
      "Epoch 22/100: 100%|██████████| 73/73 [00:39<00:00,  1.86batch/s, batch_loss=0.0288]\n"
     ]
    },
    {
     "data": {
      "text/html": [
       "<pre style=\"white-space:pre;overflow-x:auto;line-height:normal;font-family:Menlo,'DejaVu Sans Mono',consolas,'Courier New',monospace\">Epoch <span style=\"font-weight: bold\">[</span><span style=\"color: #008080; text-decoration-color: #008080; font-weight: bold\">22</span>/<span style=\"color: #008080; text-decoration-color: #008080; font-weight: bold\">100</span><span style=\"font-weight: bold\">]</span>, Epoch Loss: <span style=\"color: #008080; text-decoration-color: #008080; font-weight: bold\">0.0013</span>\n",
       "</pre>\n"
      ],
      "text/plain": [
       "Epoch \u001b[1m[\u001b[0m\u001b[1;36m22\u001b[0m/\u001b[1;36m100\u001b[0m\u001b[1m]\u001b[0m, Epoch Loss: \u001b[1;36m0.0013\u001b[0m\n"
      ]
     },
     "metadata": {},
     "output_type": "display_data"
    },
    {
     "name": "stderr",
     "output_type": "stream",
     "text": [
      "Epoch 23/100: 100%|██████████| 73/73 [00:39<00:00,  1.85batch/s, batch_loss=0.00989]\n"
     ]
    },
    {
     "data": {
      "text/html": [
       "<pre style=\"white-space:pre;overflow-x:auto;line-height:normal;font-family:Menlo,'DejaVu Sans Mono',consolas,'Courier New',monospace\">Epoch <span style=\"font-weight: bold\">[</span><span style=\"color: #008080; text-decoration-color: #008080; font-weight: bold\">23</span>/<span style=\"color: #008080; text-decoration-color: #008080; font-weight: bold\">100</span><span style=\"font-weight: bold\">]</span>, Epoch Loss: <span style=\"color: #008080; text-decoration-color: #008080; font-weight: bold\">0.0012</span>\n",
       "</pre>\n"
      ],
      "text/plain": [
       "Epoch \u001b[1m[\u001b[0m\u001b[1;36m23\u001b[0m/\u001b[1;36m100\u001b[0m\u001b[1m]\u001b[0m, Epoch Loss: \u001b[1;36m0.0012\u001b[0m\n"
      ]
     },
     "metadata": {},
     "output_type": "display_data"
    },
    {
     "name": "stderr",
     "output_type": "stream",
     "text": [
      "Epoch 24/100: 100%|██████████| 73/73 [00:39<00:00,  1.84batch/s, batch_loss=0.0216] \n"
     ]
    },
    {
     "data": {
      "text/html": [
       "<pre style=\"white-space:pre;overflow-x:auto;line-height:normal;font-family:Menlo,'DejaVu Sans Mono',consolas,'Courier New',monospace\">Epoch <span style=\"font-weight: bold\">[</span><span style=\"color: #008080; text-decoration-color: #008080; font-weight: bold\">24</span>/<span style=\"color: #008080; text-decoration-color: #008080; font-weight: bold\">100</span><span style=\"font-weight: bold\">]</span>, Epoch Loss: <span style=\"color: #008080; text-decoration-color: #008080; font-weight: bold\">0.0012</span>\n",
       "</pre>\n"
      ],
      "text/plain": [
       "Epoch \u001b[1m[\u001b[0m\u001b[1;36m24\u001b[0m/\u001b[1;36m100\u001b[0m\u001b[1m]\u001b[0m, Epoch Loss: \u001b[1;36m0.0012\u001b[0m\n"
      ]
     },
     "metadata": {},
     "output_type": "display_data"
    },
    {
     "name": "stderr",
     "output_type": "stream",
     "text": [
      "Epoch 25/100: 100%|██████████| 73/73 [00:39<00:00,  1.84batch/s, batch_loss=0.0179]\n"
     ]
    },
    {
     "data": {
      "text/html": [
       "<pre style=\"white-space:pre;overflow-x:auto;line-height:normal;font-family:Menlo,'DejaVu Sans Mono',consolas,'Courier New',monospace\">Epoch <span style=\"font-weight: bold\">[</span><span style=\"color: #008080; text-decoration-color: #008080; font-weight: bold\">25</span>/<span style=\"color: #008080; text-decoration-color: #008080; font-weight: bold\">100</span><span style=\"font-weight: bold\">]</span>, Epoch Loss: <span style=\"color: #008080; text-decoration-color: #008080; font-weight: bold\">0.0012</span>\n",
       "</pre>\n"
      ],
      "text/plain": [
       "Epoch \u001b[1m[\u001b[0m\u001b[1;36m25\u001b[0m/\u001b[1;36m100\u001b[0m\u001b[1m]\u001b[0m, Epoch Loss: \u001b[1;36m0.0012\u001b[0m\n"
      ]
     },
     "metadata": {},
     "output_type": "display_data"
    },
    {
     "name": "stderr",
     "output_type": "stream",
     "text": [
      "Epoch 26/100: 100%|██████████| 73/73 [00:40<00:00,  1.81batch/s, batch_loss=0.0145]\n"
     ]
    },
    {
     "data": {
      "text/html": [
       "<pre style=\"white-space:pre;overflow-x:auto;line-height:normal;font-family:Menlo,'DejaVu Sans Mono',consolas,'Courier New',monospace\">Epoch <span style=\"font-weight: bold\">[</span><span style=\"color: #008080; text-decoration-color: #008080; font-weight: bold\">26</span>/<span style=\"color: #008080; text-decoration-color: #008080; font-weight: bold\">100</span><span style=\"font-weight: bold\">]</span>, Epoch Loss: <span style=\"color: #008080; text-decoration-color: #008080; font-weight: bold\">0.0013</span>\n",
       "</pre>\n"
      ],
      "text/plain": [
       "Epoch \u001b[1m[\u001b[0m\u001b[1;36m26\u001b[0m/\u001b[1;36m100\u001b[0m\u001b[1m]\u001b[0m, Epoch Loss: \u001b[1;36m0.0013\u001b[0m\n"
      ]
     },
     "metadata": {},
     "output_type": "display_data"
    },
    {
     "name": "stderr",
     "output_type": "stream",
     "text": [
      "Epoch 27/100: 100%|██████████| 73/73 [00:39<00:00,  1.85batch/s, batch_loss=0.0528] \n"
     ]
    },
    {
     "data": {
      "text/html": [
       "<pre style=\"white-space:pre;overflow-x:auto;line-height:normal;font-family:Menlo,'DejaVu Sans Mono',consolas,'Courier New',monospace\">Epoch <span style=\"font-weight: bold\">[</span><span style=\"color: #008080; text-decoration-color: #008080; font-weight: bold\">27</span>/<span style=\"color: #008080; text-decoration-color: #008080; font-weight: bold\">100</span><span style=\"font-weight: bold\">]</span>, Epoch Loss: <span style=\"color: #008080; text-decoration-color: #008080; font-weight: bold\">0.0011</span>\n",
       "</pre>\n"
      ],
      "text/plain": [
       "Epoch \u001b[1m[\u001b[0m\u001b[1;36m27\u001b[0m/\u001b[1;36m100\u001b[0m\u001b[1m]\u001b[0m, Epoch Loss: \u001b[1;36m0.0011\u001b[0m\n"
      ]
     },
     "metadata": {},
     "output_type": "display_data"
    },
    {
     "name": "stderr",
     "output_type": "stream",
     "text": [
      "Epoch 28/100: 100%|██████████| 73/73 [00:39<00:00,  1.85batch/s, batch_loss=0.0151] \n"
     ]
    },
    {
     "data": {
      "text/html": [
       "<pre style=\"white-space:pre;overflow-x:auto;line-height:normal;font-family:Menlo,'DejaVu Sans Mono',consolas,'Courier New',monospace\">Epoch <span style=\"font-weight: bold\">[</span><span style=\"color: #008080; text-decoration-color: #008080; font-weight: bold\">28</span>/<span style=\"color: #008080; text-decoration-color: #008080; font-weight: bold\">100</span><span style=\"font-weight: bold\">]</span>, Epoch Loss: <span style=\"color: #008080; text-decoration-color: #008080; font-weight: bold\">0.0012</span>\n",
       "</pre>\n"
      ],
      "text/plain": [
       "Epoch \u001b[1m[\u001b[0m\u001b[1;36m28\u001b[0m/\u001b[1;36m100\u001b[0m\u001b[1m]\u001b[0m, Epoch Loss: \u001b[1;36m0.0012\u001b[0m\n"
      ]
     },
     "metadata": {},
     "output_type": "display_data"
    },
    {
     "name": "stderr",
     "output_type": "stream",
     "text": [
      "Epoch 29/100: 100%|██████████| 73/73 [00:40<00:00,  1.79batch/s, batch_loss=0.0109] \n"
     ]
    },
    {
     "data": {
      "text/html": [
       "<pre style=\"white-space:pre;overflow-x:auto;line-height:normal;font-family:Menlo,'DejaVu Sans Mono',consolas,'Courier New',monospace\">Epoch <span style=\"font-weight: bold\">[</span><span style=\"color: #008080; text-decoration-color: #008080; font-weight: bold\">29</span>/<span style=\"color: #008080; text-decoration-color: #008080; font-weight: bold\">100</span><span style=\"font-weight: bold\">]</span>, Epoch Loss: <span style=\"color: #008080; text-decoration-color: #008080; font-weight: bold\">0.0012</span>\n",
       "</pre>\n"
      ],
      "text/plain": [
       "Epoch \u001b[1m[\u001b[0m\u001b[1;36m29\u001b[0m/\u001b[1;36m100\u001b[0m\u001b[1m]\u001b[0m, Epoch Loss: \u001b[1;36m0.0012\u001b[0m\n"
      ]
     },
     "metadata": {},
     "output_type": "display_data"
    },
    {
     "name": "stderr",
     "output_type": "stream",
     "text": [
      "Epoch 30/100: 100%|██████████| 73/73 [00:41<00:00,  1.78batch/s, batch_loss=0.012]  \n"
     ]
    },
    {
     "data": {
      "text/html": [
       "<pre style=\"white-space:pre;overflow-x:auto;line-height:normal;font-family:Menlo,'DejaVu Sans Mono',consolas,'Courier New',monospace\">Epoch <span style=\"font-weight: bold\">[</span><span style=\"color: #008080; text-decoration-color: #008080; font-weight: bold\">30</span>/<span style=\"color: #008080; text-decoration-color: #008080; font-weight: bold\">100</span><span style=\"font-weight: bold\">]</span>, Epoch Loss: <span style=\"color: #008080; text-decoration-color: #008080; font-weight: bold\">0.0011</span>\n",
       "</pre>\n"
      ],
      "text/plain": [
       "Epoch \u001b[1m[\u001b[0m\u001b[1;36m30\u001b[0m/\u001b[1;36m100\u001b[0m\u001b[1m]\u001b[0m, Epoch Loss: \u001b[1;36m0.0011\u001b[0m\n"
      ]
     },
     "metadata": {},
     "output_type": "display_data"
    },
    {
     "name": "stderr",
     "output_type": "stream",
     "text": [
      "Epoch 31/100: 100%|██████████| 73/73 [00:41<00:00,  1.77batch/s, batch_loss=0.0136] \n"
     ]
    },
    {
     "data": {
      "text/html": [
       "<pre style=\"white-space:pre;overflow-x:auto;line-height:normal;font-family:Menlo,'DejaVu Sans Mono',consolas,'Courier New',monospace\">Epoch <span style=\"font-weight: bold\">[</span><span style=\"color: #008080; text-decoration-color: #008080; font-weight: bold\">31</span>/<span style=\"color: #008080; text-decoration-color: #008080; font-weight: bold\">100</span><span style=\"font-weight: bold\">]</span>, Epoch Loss: <span style=\"color: #008080; text-decoration-color: #008080; font-weight: bold\">0.0010</span>\n",
       "</pre>\n"
      ],
      "text/plain": [
       "Epoch \u001b[1m[\u001b[0m\u001b[1;36m31\u001b[0m/\u001b[1;36m100\u001b[0m\u001b[1m]\u001b[0m, Epoch Loss: \u001b[1;36m0.0010\u001b[0m\n"
      ]
     },
     "metadata": {},
     "output_type": "display_data"
    },
    {
     "name": "stderr",
     "output_type": "stream",
     "text": [
      "Epoch 32/100: 100%|██████████| 73/73 [00:41<00:00,  1.77batch/s, batch_loss=0.0166] \n"
     ]
    },
    {
     "data": {
      "text/html": [
       "<pre style=\"white-space:pre;overflow-x:auto;line-height:normal;font-family:Menlo,'DejaVu Sans Mono',consolas,'Courier New',monospace\">Epoch <span style=\"font-weight: bold\">[</span><span style=\"color: #008080; text-decoration-color: #008080; font-weight: bold\">32</span>/<span style=\"color: #008080; text-decoration-color: #008080; font-weight: bold\">100</span><span style=\"font-weight: bold\">]</span>, Epoch Loss: <span style=\"color: #008080; text-decoration-color: #008080; font-weight: bold\">0.0009</span>\n",
       "</pre>\n"
      ],
      "text/plain": [
       "Epoch \u001b[1m[\u001b[0m\u001b[1;36m32\u001b[0m/\u001b[1;36m100\u001b[0m\u001b[1m]\u001b[0m, Epoch Loss: \u001b[1;36m0.0009\u001b[0m\n"
      ]
     },
     "metadata": {},
     "output_type": "display_data"
    },
    {
     "name": "stderr",
     "output_type": "stream",
     "text": [
      "Epoch 33/100: 100%|██████████| 73/73 [00:41<00:00,  1.76batch/s, batch_loss=0.01]   \n"
     ]
    },
    {
     "data": {
      "text/html": [
       "<pre style=\"white-space:pre;overflow-x:auto;line-height:normal;font-family:Menlo,'DejaVu Sans Mono',consolas,'Courier New',monospace\">Epoch <span style=\"font-weight: bold\">[</span><span style=\"color: #008080; text-decoration-color: #008080; font-weight: bold\">33</span>/<span style=\"color: #008080; text-decoration-color: #008080; font-weight: bold\">100</span><span style=\"font-weight: bold\">]</span>, Epoch Loss: <span style=\"color: #008080; text-decoration-color: #008080; font-weight: bold\">0.0010</span>\n",
       "</pre>\n"
      ],
      "text/plain": [
       "Epoch \u001b[1m[\u001b[0m\u001b[1;36m33\u001b[0m/\u001b[1;36m100\u001b[0m\u001b[1m]\u001b[0m, Epoch Loss: \u001b[1;36m0.0010\u001b[0m\n"
      ]
     },
     "metadata": {},
     "output_type": "display_data"
    },
    {
     "name": "stderr",
     "output_type": "stream",
     "text": [
      "Epoch 34/100: 100%|██████████| 73/73 [00:40<00:00,  1.81batch/s, batch_loss=0.011]  \n"
     ]
    },
    {
     "data": {
      "text/html": [
       "<pre style=\"white-space:pre;overflow-x:auto;line-height:normal;font-family:Menlo,'DejaVu Sans Mono',consolas,'Courier New',monospace\">Epoch <span style=\"font-weight: bold\">[</span><span style=\"color: #008080; text-decoration-color: #008080; font-weight: bold\">34</span>/<span style=\"color: #008080; text-decoration-color: #008080; font-weight: bold\">100</span><span style=\"font-weight: bold\">]</span>, Epoch Loss: <span style=\"color: #008080; text-decoration-color: #008080; font-weight: bold\">0.0009</span>\n",
       "</pre>\n"
      ],
      "text/plain": [
       "Epoch \u001b[1m[\u001b[0m\u001b[1;36m34\u001b[0m/\u001b[1;36m100\u001b[0m\u001b[1m]\u001b[0m, Epoch Loss: \u001b[1;36m0.0009\u001b[0m\n"
      ]
     },
     "metadata": {},
     "output_type": "display_data"
    },
    {
     "name": "stderr",
     "output_type": "stream",
     "text": [
      "Epoch 35/100: 100%|██████████| 73/73 [00:39<00:00,  1.85batch/s, batch_loss=0.0108] \n"
     ]
    },
    {
     "data": {
      "text/html": [
       "<pre style=\"white-space:pre;overflow-x:auto;line-height:normal;font-family:Menlo,'DejaVu Sans Mono',consolas,'Courier New',monospace\">Epoch <span style=\"font-weight: bold\">[</span><span style=\"color: #008080; text-decoration-color: #008080; font-weight: bold\">35</span>/<span style=\"color: #008080; text-decoration-color: #008080; font-weight: bold\">100</span><span style=\"font-weight: bold\">]</span>, Epoch Loss: <span style=\"color: #008080; text-decoration-color: #008080; font-weight: bold\">0.0009</span>\n",
       "</pre>\n"
      ],
      "text/plain": [
       "Epoch \u001b[1m[\u001b[0m\u001b[1;36m35\u001b[0m/\u001b[1;36m100\u001b[0m\u001b[1m]\u001b[0m, Epoch Loss: \u001b[1;36m0.0009\u001b[0m\n"
      ]
     },
     "metadata": {},
     "output_type": "display_data"
    },
    {
     "name": "stderr",
     "output_type": "stream",
     "text": [
      "Epoch 36/100: 100%|██████████| 73/73 [00:39<00:00,  1.86batch/s, batch_loss=0.0204] \n"
     ]
    },
    {
     "data": {
      "text/html": [
       "<pre style=\"white-space:pre;overflow-x:auto;line-height:normal;font-family:Menlo,'DejaVu Sans Mono',consolas,'Courier New',monospace\">Epoch <span style=\"font-weight: bold\">[</span><span style=\"color: #008080; text-decoration-color: #008080; font-weight: bold\">36</span>/<span style=\"color: #008080; text-decoration-color: #008080; font-weight: bold\">100</span><span style=\"font-weight: bold\">]</span>, Epoch Loss: <span style=\"color: #008080; text-decoration-color: #008080; font-weight: bold\">0.0009</span>\n",
       "</pre>\n"
      ],
      "text/plain": [
       "Epoch \u001b[1m[\u001b[0m\u001b[1;36m36\u001b[0m/\u001b[1;36m100\u001b[0m\u001b[1m]\u001b[0m, Epoch Loss: \u001b[1;36m0.0009\u001b[0m\n"
      ]
     },
     "metadata": {},
     "output_type": "display_data"
    },
    {
     "name": "stderr",
     "output_type": "stream",
     "text": [
      "Epoch 37/100: 100%|██████████| 73/73 [00:39<00:00,  1.85batch/s, batch_loss=0.0143] \n"
     ]
    },
    {
     "data": {
      "text/html": [
       "<pre style=\"white-space:pre;overflow-x:auto;line-height:normal;font-family:Menlo,'DejaVu Sans Mono',consolas,'Courier New',monospace\">Epoch <span style=\"font-weight: bold\">[</span><span style=\"color: #008080; text-decoration-color: #008080; font-weight: bold\">37</span>/<span style=\"color: #008080; text-decoration-color: #008080; font-weight: bold\">100</span><span style=\"font-weight: bold\">]</span>, Epoch Loss: <span style=\"color: #008080; text-decoration-color: #008080; font-weight: bold\">0.0008</span>\n",
       "</pre>\n"
      ],
      "text/plain": [
       "Epoch \u001b[1m[\u001b[0m\u001b[1;36m37\u001b[0m/\u001b[1;36m100\u001b[0m\u001b[1m]\u001b[0m, Epoch Loss: \u001b[1;36m0.0008\u001b[0m\n"
      ]
     },
     "metadata": {},
     "output_type": "display_data"
    },
    {
     "name": "stderr",
     "output_type": "stream",
     "text": [
      "Epoch 38/100: 100%|██████████| 73/73 [00:39<00:00,  1.85batch/s, batch_loss=0.0075] \n"
     ]
    },
    {
     "data": {
      "text/html": [
       "<pre style=\"white-space:pre;overflow-x:auto;line-height:normal;font-family:Menlo,'DejaVu Sans Mono',consolas,'Courier New',monospace\">Epoch <span style=\"font-weight: bold\">[</span><span style=\"color: #008080; text-decoration-color: #008080; font-weight: bold\">38</span>/<span style=\"color: #008080; text-decoration-color: #008080; font-weight: bold\">100</span><span style=\"font-weight: bold\">]</span>, Epoch Loss: <span style=\"color: #008080; text-decoration-color: #008080; font-weight: bold\">0.0008</span>\n",
       "</pre>\n"
      ],
      "text/plain": [
       "Epoch \u001b[1m[\u001b[0m\u001b[1;36m38\u001b[0m/\u001b[1;36m100\u001b[0m\u001b[1m]\u001b[0m, Epoch Loss: \u001b[1;36m0.0008\u001b[0m\n"
      ]
     },
     "metadata": {},
     "output_type": "display_data"
    },
    {
     "name": "stderr",
     "output_type": "stream",
     "text": [
      "Epoch 39/100: 100%|██████████| 73/73 [00:39<00:00,  1.85batch/s, batch_loss=0.00817]\n"
     ]
    },
    {
     "data": {
      "text/html": [
       "<pre style=\"white-space:pre;overflow-x:auto;line-height:normal;font-family:Menlo,'DejaVu Sans Mono',consolas,'Courier New',monospace\">Epoch <span style=\"font-weight: bold\">[</span><span style=\"color: #008080; text-decoration-color: #008080; font-weight: bold\">39</span>/<span style=\"color: #008080; text-decoration-color: #008080; font-weight: bold\">100</span><span style=\"font-weight: bold\">]</span>, Epoch Loss: <span style=\"color: #008080; text-decoration-color: #008080; font-weight: bold\">0.0007</span>\n",
       "</pre>\n"
      ],
      "text/plain": [
       "Epoch \u001b[1m[\u001b[0m\u001b[1;36m39\u001b[0m/\u001b[1;36m100\u001b[0m\u001b[1m]\u001b[0m, Epoch Loss: \u001b[1;36m0.0007\u001b[0m\n"
      ]
     },
     "metadata": {},
     "output_type": "display_data"
    },
    {
     "name": "stderr",
     "output_type": "stream",
     "text": [
      "Epoch 40/100: 100%|██████████| 73/73 [00:39<00:00,  1.85batch/s, batch_loss=0.00819]\n"
     ]
    },
    {
     "data": {
      "text/html": [
       "<pre style=\"white-space:pre;overflow-x:auto;line-height:normal;font-family:Menlo,'DejaVu Sans Mono',consolas,'Courier New',monospace\">Epoch <span style=\"font-weight: bold\">[</span><span style=\"color: #008080; text-decoration-color: #008080; font-weight: bold\">40</span>/<span style=\"color: #008080; text-decoration-color: #008080; font-weight: bold\">100</span><span style=\"font-weight: bold\">]</span>, Epoch Loss: <span style=\"color: #008080; text-decoration-color: #008080; font-weight: bold\">0.0008</span>\n",
       "</pre>\n"
      ],
      "text/plain": [
       "Epoch \u001b[1m[\u001b[0m\u001b[1;36m40\u001b[0m/\u001b[1;36m100\u001b[0m\u001b[1m]\u001b[0m, Epoch Loss: \u001b[1;36m0.0008\u001b[0m\n"
      ]
     },
     "metadata": {},
     "output_type": "display_data"
    },
    {
     "name": "stderr",
     "output_type": "stream",
     "text": [
      "Epoch 41/100: 100%|██████████| 73/73 [00:39<00:00,  1.85batch/s, batch_loss=0.00576]\n"
     ]
    },
    {
     "data": {
      "text/html": [
       "<pre style=\"white-space:pre;overflow-x:auto;line-height:normal;font-family:Menlo,'DejaVu Sans Mono',consolas,'Courier New',monospace\">Epoch <span style=\"font-weight: bold\">[</span><span style=\"color: #008080; text-decoration-color: #008080; font-weight: bold\">41</span>/<span style=\"color: #008080; text-decoration-color: #008080; font-weight: bold\">100</span><span style=\"font-weight: bold\">]</span>, Epoch Loss: <span style=\"color: #008080; text-decoration-color: #008080; font-weight: bold\">0.0008</span>\n",
       "</pre>\n"
      ],
      "text/plain": [
       "Epoch \u001b[1m[\u001b[0m\u001b[1;36m41\u001b[0m/\u001b[1;36m100\u001b[0m\u001b[1m]\u001b[0m, Epoch Loss: \u001b[1;36m0.0008\u001b[0m\n"
      ]
     },
     "metadata": {},
     "output_type": "display_data"
    },
    {
     "name": "stderr",
     "output_type": "stream",
     "text": [
      "Epoch 42/100: 100%|██████████| 73/73 [00:39<00:00,  1.84batch/s, batch_loss=0.00731]\n"
     ]
    },
    {
     "data": {
      "text/html": [
       "<pre style=\"white-space:pre;overflow-x:auto;line-height:normal;font-family:Menlo,'DejaVu Sans Mono',consolas,'Courier New',monospace\">Epoch <span style=\"font-weight: bold\">[</span><span style=\"color: #008080; text-decoration-color: #008080; font-weight: bold\">42</span>/<span style=\"color: #008080; text-decoration-color: #008080; font-weight: bold\">100</span><span style=\"font-weight: bold\">]</span>, Epoch Loss: <span style=\"color: #008080; text-decoration-color: #008080; font-weight: bold\">0.0007</span>\n",
       "</pre>\n"
      ],
      "text/plain": [
       "Epoch \u001b[1m[\u001b[0m\u001b[1;36m42\u001b[0m/\u001b[1;36m100\u001b[0m\u001b[1m]\u001b[0m, Epoch Loss: \u001b[1;36m0.0007\u001b[0m\n"
      ]
     },
     "metadata": {},
     "output_type": "display_data"
    },
    {
     "name": "stderr",
     "output_type": "stream",
     "text": [
      "Epoch 43/100: 100%|██████████| 73/73 [00:40<00:00,  1.81batch/s, batch_loss=0.0108] \n"
     ]
    },
    {
     "data": {
      "text/html": [
       "<pre style=\"white-space:pre;overflow-x:auto;line-height:normal;font-family:Menlo,'DejaVu Sans Mono',consolas,'Courier New',monospace\">Epoch <span style=\"font-weight: bold\">[</span><span style=\"color: #008080; text-decoration-color: #008080; font-weight: bold\">43</span>/<span style=\"color: #008080; text-decoration-color: #008080; font-weight: bold\">100</span><span style=\"font-weight: bold\">]</span>, Epoch Loss: <span style=\"color: #008080; text-decoration-color: #008080; font-weight: bold\">0.0007</span>\n",
       "</pre>\n"
      ],
      "text/plain": [
       "Epoch \u001b[1m[\u001b[0m\u001b[1;36m43\u001b[0m/\u001b[1;36m100\u001b[0m\u001b[1m]\u001b[0m, Epoch Loss: \u001b[1;36m0.0007\u001b[0m\n"
      ]
     },
     "metadata": {},
     "output_type": "display_data"
    },
    {
     "name": "stderr",
     "output_type": "stream",
     "text": [
      "Epoch 44/100: 100%|██████████| 73/73 [00:40<00:00,  1.82batch/s, batch_loss=0.00869]\n"
     ]
    },
    {
     "data": {
      "text/html": [
       "<pre style=\"white-space:pre;overflow-x:auto;line-height:normal;font-family:Menlo,'DejaVu Sans Mono',consolas,'Courier New',monospace\">Epoch <span style=\"font-weight: bold\">[</span><span style=\"color: #008080; text-decoration-color: #008080; font-weight: bold\">44</span>/<span style=\"color: #008080; text-decoration-color: #008080; font-weight: bold\">100</span><span style=\"font-weight: bold\">]</span>, Epoch Loss: <span style=\"color: #008080; text-decoration-color: #008080; font-weight: bold\">0.0006</span>\n",
       "</pre>\n"
      ],
      "text/plain": [
       "Epoch \u001b[1m[\u001b[0m\u001b[1;36m44\u001b[0m/\u001b[1;36m100\u001b[0m\u001b[1m]\u001b[0m, Epoch Loss: \u001b[1;36m0.0006\u001b[0m\n"
      ]
     },
     "metadata": {},
     "output_type": "display_data"
    },
    {
     "name": "stderr",
     "output_type": "stream",
     "text": [
      "Epoch 45/100: 100%|██████████| 73/73 [00:37<00:00,  1.97batch/s, batch_loss=0.00859]\n"
     ]
    },
    {
     "data": {
      "text/html": [
       "<pre style=\"white-space:pre;overflow-x:auto;line-height:normal;font-family:Menlo,'DejaVu Sans Mono',consolas,'Courier New',monospace\">Epoch <span style=\"font-weight: bold\">[</span><span style=\"color: #008080; text-decoration-color: #008080; font-weight: bold\">45</span>/<span style=\"color: #008080; text-decoration-color: #008080; font-weight: bold\">100</span><span style=\"font-weight: bold\">]</span>, Epoch Loss: <span style=\"color: #008080; text-decoration-color: #008080; font-weight: bold\">0.0006</span>\n",
       "</pre>\n"
      ],
      "text/plain": [
       "Epoch \u001b[1m[\u001b[0m\u001b[1;36m45\u001b[0m/\u001b[1;36m100\u001b[0m\u001b[1m]\u001b[0m, Epoch Loss: \u001b[1;36m0.0006\u001b[0m\n"
      ]
     },
     "metadata": {},
     "output_type": "display_data"
    },
    {
     "name": "stderr",
     "output_type": "stream",
     "text": [
      "Epoch 46/100: 100%|██████████| 73/73 [00:39<00:00,  1.85batch/s, batch_loss=0.00632]\n"
     ]
    },
    {
     "data": {
      "text/html": [
       "<pre style=\"white-space:pre;overflow-x:auto;line-height:normal;font-family:Menlo,'DejaVu Sans Mono',consolas,'Courier New',monospace\">Epoch <span style=\"font-weight: bold\">[</span><span style=\"color: #008080; text-decoration-color: #008080; font-weight: bold\">46</span>/<span style=\"color: #008080; text-decoration-color: #008080; font-weight: bold\">100</span><span style=\"font-weight: bold\">]</span>, Epoch Loss: <span style=\"color: #008080; text-decoration-color: #008080; font-weight: bold\">0.0006</span>\n",
       "</pre>\n"
      ],
      "text/plain": [
       "Epoch \u001b[1m[\u001b[0m\u001b[1;36m46\u001b[0m/\u001b[1;36m100\u001b[0m\u001b[1m]\u001b[0m, Epoch Loss: \u001b[1;36m0.0006\u001b[0m\n"
      ]
     },
     "metadata": {},
     "output_type": "display_data"
    },
    {
     "name": "stderr",
     "output_type": "stream",
     "text": [
      "Epoch 47/100: 100%|██████████| 73/73 [00:40<00:00,  1.82batch/s, batch_loss=0.00708]\n"
     ]
    },
    {
     "data": {
      "text/html": [
       "<pre style=\"white-space:pre;overflow-x:auto;line-height:normal;font-family:Menlo,'DejaVu Sans Mono',consolas,'Courier New',monospace\">Epoch <span style=\"font-weight: bold\">[</span><span style=\"color: #008080; text-decoration-color: #008080; font-weight: bold\">47</span>/<span style=\"color: #008080; text-decoration-color: #008080; font-weight: bold\">100</span><span style=\"font-weight: bold\">]</span>, Epoch Loss: <span style=\"color: #008080; text-decoration-color: #008080; font-weight: bold\">0.0006</span>\n",
       "</pre>\n"
      ],
      "text/plain": [
       "Epoch \u001b[1m[\u001b[0m\u001b[1;36m47\u001b[0m/\u001b[1;36m100\u001b[0m\u001b[1m]\u001b[0m, Epoch Loss: \u001b[1;36m0.0006\u001b[0m\n"
      ]
     },
     "metadata": {},
     "output_type": "display_data"
    },
    {
     "name": "stderr",
     "output_type": "stream",
     "text": [
      "Epoch 48/100: 100%|██████████| 73/73 [00:37<00:00,  1.95batch/s, batch_loss=0.00732]\n"
     ]
    },
    {
     "data": {
      "text/html": [
       "<pre style=\"white-space:pre;overflow-x:auto;line-height:normal;font-family:Menlo,'DejaVu Sans Mono',consolas,'Courier New',monospace\">Epoch <span style=\"font-weight: bold\">[</span><span style=\"color: #008080; text-decoration-color: #008080; font-weight: bold\">48</span>/<span style=\"color: #008080; text-decoration-color: #008080; font-weight: bold\">100</span><span style=\"font-weight: bold\">]</span>, Epoch Loss: <span style=\"color: #008080; text-decoration-color: #008080; font-weight: bold\">0.0006</span>\n",
       "</pre>\n"
      ],
      "text/plain": [
       "Epoch \u001b[1m[\u001b[0m\u001b[1;36m48\u001b[0m/\u001b[1;36m100\u001b[0m\u001b[1m]\u001b[0m, Epoch Loss: \u001b[1;36m0.0006\u001b[0m\n"
      ]
     },
     "metadata": {},
     "output_type": "display_data"
    },
    {
     "name": "stderr",
     "output_type": "stream",
     "text": [
      "Epoch 49/100: 100%|██████████| 73/73 [00:40<00:00,  1.81batch/s, batch_loss=0.0077] \n"
     ]
    },
    {
     "data": {
      "text/html": [
       "<pre style=\"white-space:pre;overflow-x:auto;line-height:normal;font-family:Menlo,'DejaVu Sans Mono',consolas,'Courier New',monospace\">Epoch <span style=\"font-weight: bold\">[</span><span style=\"color: #008080; text-decoration-color: #008080; font-weight: bold\">49</span>/<span style=\"color: #008080; text-decoration-color: #008080; font-weight: bold\">100</span><span style=\"font-weight: bold\">]</span>, Epoch Loss: <span style=\"color: #008080; text-decoration-color: #008080; font-weight: bold\">0.0006</span>\n",
       "</pre>\n"
      ],
      "text/plain": [
       "Epoch \u001b[1m[\u001b[0m\u001b[1;36m49\u001b[0m/\u001b[1;36m100\u001b[0m\u001b[1m]\u001b[0m, Epoch Loss: \u001b[1;36m0.0006\u001b[0m\n"
      ]
     },
     "metadata": {},
     "output_type": "display_data"
    },
    {
     "name": "stderr",
     "output_type": "stream",
     "text": [
      "Epoch 50/100: 100%|██████████| 73/73 [00:32<00:00,  2.24batch/s, batch_loss=0.00542]\n"
     ]
    },
    {
     "data": {
      "text/html": [
       "<pre style=\"white-space:pre;overflow-x:auto;line-height:normal;font-family:Menlo,'DejaVu Sans Mono',consolas,'Courier New',monospace\">Epoch <span style=\"font-weight: bold\">[</span><span style=\"color: #008080; text-decoration-color: #008080; font-weight: bold\">50</span>/<span style=\"color: #008080; text-decoration-color: #008080; font-weight: bold\">100</span><span style=\"font-weight: bold\">]</span>, Epoch Loss: <span style=\"color: #008080; text-decoration-color: #008080; font-weight: bold\">0.0006</span>\n",
       "</pre>\n"
      ],
      "text/plain": [
       "Epoch \u001b[1m[\u001b[0m\u001b[1;36m50\u001b[0m/\u001b[1;36m100\u001b[0m\u001b[1m]\u001b[0m, Epoch Loss: \u001b[1;36m0.0006\u001b[0m\n"
      ]
     },
     "metadata": {},
     "output_type": "display_data"
    },
    {
     "name": "stderr",
     "output_type": "stream",
     "text": [
      "Epoch 51/100: 100%|██████████| 73/73 [00:23<00:00,  3.08batch/s, batch_loss=0.00802]\n"
     ]
    },
    {
     "data": {
      "text/html": [
       "<pre style=\"white-space:pre;overflow-x:auto;line-height:normal;font-family:Menlo,'DejaVu Sans Mono',consolas,'Courier New',monospace\">Epoch <span style=\"font-weight: bold\">[</span><span style=\"color: #008080; text-decoration-color: #008080; font-weight: bold\">51</span>/<span style=\"color: #008080; text-decoration-color: #008080; font-weight: bold\">100</span><span style=\"font-weight: bold\">]</span>, Epoch Loss: <span style=\"color: #008080; text-decoration-color: #008080; font-weight: bold\">0.0007</span>\n",
       "</pre>\n"
      ],
      "text/plain": [
       "Epoch \u001b[1m[\u001b[0m\u001b[1;36m51\u001b[0m/\u001b[1;36m100\u001b[0m\u001b[1m]\u001b[0m, Epoch Loss: \u001b[1;36m0.0007\u001b[0m\n"
      ]
     },
     "metadata": {},
     "output_type": "display_data"
    },
    {
     "name": "stderr",
     "output_type": "stream",
     "text": [
      "Epoch 52/100: 100%|██████████| 73/73 [00:23<00:00,  3.06batch/s, batch_loss=0.00642]\n"
     ]
    },
    {
     "data": {
      "text/html": [
       "<pre style=\"white-space:pre;overflow-x:auto;line-height:normal;font-family:Menlo,'DejaVu Sans Mono',consolas,'Courier New',monospace\">Epoch <span style=\"font-weight: bold\">[</span><span style=\"color: #008080; text-decoration-color: #008080; font-weight: bold\">52</span>/<span style=\"color: #008080; text-decoration-color: #008080; font-weight: bold\">100</span><span style=\"font-weight: bold\">]</span>, Epoch Loss: <span style=\"color: #008080; text-decoration-color: #008080; font-weight: bold\">0.0006</span>\n",
       "</pre>\n"
      ],
      "text/plain": [
       "Epoch \u001b[1m[\u001b[0m\u001b[1;36m52\u001b[0m/\u001b[1;36m100\u001b[0m\u001b[1m]\u001b[0m, Epoch Loss: \u001b[1;36m0.0006\u001b[0m\n"
      ]
     },
     "metadata": {},
     "output_type": "display_data"
    },
    {
     "name": "stderr",
     "output_type": "stream",
     "text": [
      "Epoch 53/100: 100%|██████████| 73/73 [00:23<00:00,  3.07batch/s, batch_loss=0.00801]\n"
     ]
    },
    {
     "data": {
      "text/html": [
       "<pre style=\"white-space:pre;overflow-x:auto;line-height:normal;font-family:Menlo,'DejaVu Sans Mono',consolas,'Courier New',monospace\">Epoch <span style=\"font-weight: bold\">[</span><span style=\"color: #008080; text-decoration-color: #008080; font-weight: bold\">53</span>/<span style=\"color: #008080; text-decoration-color: #008080; font-weight: bold\">100</span><span style=\"font-weight: bold\">]</span>, Epoch Loss: <span style=\"color: #008080; text-decoration-color: #008080; font-weight: bold\">0.0006</span>\n",
       "</pre>\n"
      ],
      "text/plain": [
       "Epoch \u001b[1m[\u001b[0m\u001b[1;36m53\u001b[0m/\u001b[1;36m100\u001b[0m\u001b[1m]\u001b[0m, Epoch Loss: \u001b[1;36m0.0006\u001b[0m\n"
      ]
     },
     "metadata": {},
     "output_type": "display_data"
    },
    {
     "name": "stderr",
     "output_type": "stream",
     "text": [
      "Epoch 54/100: 100%|██████████| 73/73 [00:27<00:00,  2.70batch/s, batch_loss=0.0123] \n"
     ]
    },
    {
     "data": {
      "text/html": [
       "<pre style=\"white-space:pre;overflow-x:auto;line-height:normal;font-family:Menlo,'DejaVu Sans Mono',consolas,'Courier New',monospace\">Epoch <span style=\"font-weight: bold\">[</span><span style=\"color: #008080; text-decoration-color: #008080; font-weight: bold\">54</span>/<span style=\"color: #008080; text-decoration-color: #008080; font-weight: bold\">100</span><span style=\"font-weight: bold\">]</span>, Epoch Loss: <span style=\"color: #008080; text-decoration-color: #008080; font-weight: bold\">0.0007</span>\n",
       "</pre>\n"
      ],
      "text/plain": [
       "Epoch \u001b[1m[\u001b[0m\u001b[1;36m54\u001b[0m/\u001b[1;36m100\u001b[0m\u001b[1m]\u001b[0m, Epoch Loss: \u001b[1;36m0.0007\u001b[0m\n"
      ]
     },
     "metadata": {},
     "output_type": "display_data"
    },
    {
     "name": "stderr",
     "output_type": "stream",
     "text": [
      "Epoch 55/100: 100%|██████████| 73/73 [00:39<00:00,  1.83batch/s, batch_loss=0.0974]\n"
     ]
    },
    {
     "data": {
      "text/html": [
       "<pre style=\"white-space:pre;overflow-x:auto;line-height:normal;font-family:Menlo,'DejaVu Sans Mono',consolas,'Courier New',monospace\">Epoch <span style=\"font-weight: bold\">[</span><span style=\"color: #008080; text-decoration-color: #008080; font-weight: bold\">55</span>/<span style=\"color: #008080; text-decoration-color: #008080; font-weight: bold\">100</span><span style=\"font-weight: bold\">]</span>, Epoch Loss: <span style=\"color: #008080; text-decoration-color: #008080; font-weight: bold\">0.0117</span>\n",
       "</pre>\n"
      ],
      "text/plain": [
       "Epoch \u001b[1m[\u001b[0m\u001b[1;36m55\u001b[0m/\u001b[1;36m100\u001b[0m\u001b[1m]\u001b[0m, Epoch Loss: \u001b[1;36m0.0117\u001b[0m\n"
      ]
     },
     "metadata": {},
     "output_type": "display_data"
    },
    {
     "name": "stderr",
     "output_type": "stream",
     "text": [
      "Epoch 56/100: 100%|██████████| 73/73 [00:35<00:00,  2.03batch/s, batch_loss=0.142]\n"
     ]
    },
    {
     "data": {
      "text/html": [
       "<pre style=\"white-space:pre;overflow-x:auto;line-height:normal;font-family:Menlo,'DejaVu Sans Mono',consolas,'Courier New',monospace\">Epoch <span style=\"font-weight: bold\">[</span><span style=\"color: #008080; text-decoration-color: #008080; font-weight: bold\">56</span>/<span style=\"color: #008080; text-decoration-color: #008080; font-weight: bold\">100</span><span style=\"font-weight: bold\">]</span>, Epoch Loss: <span style=\"color: #008080; text-decoration-color: #008080; font-weight: bold\">0.0157</span>\n",
       "</pre>\n"
      ],
      "text/plain": [
       "Epoch \u001b[1m[\u001b[0m\u001b[1;36m56\u001b[0m/\u001b[1;36m100\u001b[0m\u001b[1m]\u001b[0m, Epoch Loss: \u001b[1;36m0.0157\u001b[0m\n"
      ]
     },
     "metadata": {},
     "output_type": "display_data"
    },
    {
     "name": "stderr",
     "output_type": "stream",
     "text": [
      "Epoch 57/100: 100%|██████████| 73/73 [00:40<00:00,  1.79batch/s, batch_loss=0.167] \n"
     ]
    },
    {
     "data": {
      "text/html": [
       "<pre style=\"white-space:pre;overflow-x:auto;line-height:normal;font-family:Menlo,'DejaVu Sans Mono',consolas,'Courier New',monospace\">Epoch <span style=\"font-weight: bold\">[</span><span style=\"color: #008080; text-decoration-color: #008080; font-weight: bold\">57</span>/<span style=\"color: #008080; text-decoration-color: #008080; font-weight: bold\">100</span><span style=\"font-weight: bold\">]</span>, Epoch Loss: <span style=\"color: #008080; text-decoration-color: #008080; font-weight: bold\">0.0112</span>\n",
       "</pre>\n"
      ],
      "text/plain": [
       "Epoch \u001b[1m[\u001b[0m\u001b[1;36m57\u001b[0m/\u001b[1;36m100\u001b[0m\u001b[1m]\u001b[0m, Epoch Loss: \u001b[1;36m0.0112\u001b[0m\n"
      ]
     },
     "metadata": {},
     "output_type": "display_data"
    },
    {
     "name": "stderr",
     "output_type": "stream",
     "text": [
      "Epoch 58/100: 100%|██████████| 73/73 [00:40<00:00,  1.81batch/s, batch_loss=0.119] \n"
     ]
    },
    {
     "data": {
      "text/html": [
       "<pre style=\"white-space:pre;overflow-x:auto;line-height:normal;font-family:Menlo,'DejaVu Sans Mono',consolas,'Courier New',monospace\">Epoch <span style=\"font-weight: bold\">[</span><span style=\"color: #008080; text-decoration-color: #008080; font-weight: bold\">58</span>/<span style=\"color: #008080; text-decoration-color: #008080; font-weight: bold\">100</span><span style=\"font-weight: bold\">]</span>, Epoch Loss: <span style=\"color: #008080; text-decoration-color: #008080; font-weight: bold\">0.0089</span>\n",
       "</pre>\n"
      ],
      "text/plain": [
       "Epoch \u001b[1m[\u001b[0m\u001b[1;36m58\u001b[0m/\u001b[1;36m100\u001b[0m\u001b[1m]\u001b[0m, Epoch Loss: \u001b[1;36m0.0089\u001b[0m\n"
      ]
     },
     "metadata": {},
     "output_type": "display_data"
    },
    {
     "name": "stderr",
     "output_type": "stream",
     "text": [
      "Epoch 59/100: 100%|██████████| 73/73 [00:39<00:00,  1.83batch/s, batch_loss=0.0616]\n"
     ]
    },
    {
     "data": {
      "text/html": [
       "<pre style=\"white-space:pre;overflow-x:auto;line-height:normal;font-family:Menlo,'DejaVu Sans Mono',consolas,'Courier New',monospace\">Epoch <span style=\"font-weight: bold\">[</span><span style=\"color: #008080; text-decoration-color: #008080; font-weight: bold\">59</span>/<span style=\"color: #008080; text-decoration-color: #008080; font-weight: bold\">100</span><span style=\"font-weight: bold\">]</span>, Epoch Loss: <span style=\"color: #008080; text-decoration-color: #008080; font-weight: bold\">0.0073</span>\n",
       "</pre>\n"
      ],
      "text/plain": [
       "Epoch \u001b[1m[\u001b[0m\u001b[1;36m59\u001b[0m/\u001b[1;36m100\u001b[0m\u001b[1m]\u001b[0m, Epoch Loss: \u001b[1;36m0.0073\u001b[0m\n"
      ]
     },
     "metadata": {},
     "output_type": "display_data"
    },
    {
     "name": "stderr",
     "output_type": "stream",
     "text": [
      "Epoch 60/100: 100%|██████████| 73/73 [00:39<00:00,  1.83batch/s, batch_loss=0.0673]\n"
     ]
    },
    {
     "data": {
      "text/html": [
       "<pre style=\"white-space:pre;overflow-x:auto;line-height:normal;font-family:Menlo,'DejaVu Sans Mono',consolas,'Courier New',monospace\">Epoch <span style=\"font-weight: bold\">[</span><span style=\"color: #008080; text-decoration-color: #008080; font-weight: bold\">60</span>/<span style=\"color: #008080; text-decoration-color: #008080; font-weight: bold\">100</span><span style=\"font-weight: bold\">]</span>, Epoch Loss: <span style=\"color: #008080; text-decoration-color: #008080; font-weight: bold\">0.0057</span>\n",
       "</pre>\n"
      ],
      "text/plain": [
       "Epoch \u001b[1m[\u001b[0m\u001b[1;36m60\u001b[0m/\u001b[1;36m100\u001b[0m\u001b[1m]\u001b[0m, Epoch Loss: \u001b[1;36m0.0057\u001b[0m\n"
      ]
     },
     "metadata": {},
     "output_type": "display_data"
    },
    {
     "name": "stderr",
     "output_type": "stream",
     "text": [
      "Epoch 61/100: 100%|██████████| 73/73 [00:39<00:00,  1.83batch/s, batch_loss=0.054] \n"
     ]
    },
    {
     "data": {
      "text/html": [
       "<pre style=\"white-space:pre;overflow-x:auto;line-height:normal;font-family:Menlo,'DejaVu Sans Mono',consolas,'Courier New',monospace\">Epoch <span style=\"font-weight: bold\">[</span><span style=\"color: #008080; text-decoration-color: #008080; font-weight: bold\">61</span>/<span style=\"color: #008080; text-decoration-color: #008080; font-weight: bold\">100</span><span style=\"font-weight: bold\">]</span>, Epoch Loss: <span style=\"color: #008080; text-decoration-color: #008080; font-weight: bold\">0.0050</span>\n",
       "</pre>\n"
      ],
      "text/plain": [
       "Epoch \u001b[1m[\u001b[0m\u001b[1;36m61\u001b[0m/\u001b[1;36m100\u001b[0m\u001b[1m]\u001b[0m, Epoch Loss: \u001b[1;36m0.0050\u001b[0m\n"
      ]
     },
     "metadata": {},
     "output_type": "display_data"
    },
    {
     "name": "stderr",
     "output_type": "stream",
     "text": [
      "Epoch 62/100: 100%|██████████| 73/73 [00:39<00:00,  1.83batch/s, batch_loss=0.0616]\n"
     ]
    },
    {
     "data": {
      "text/html": [
       "<pre style=\"white-space:pre;overflow-x:auto;line-height:normal;font-family:Menlo,'DejaVu Sans Mono',consolas,'Courier New',monospace\">Epoch <span style=\"font-weight: bold\">[</span><span style=\"color: #008080; text-decoration-color: #008080; font-weight: bold\">62</span>/<span style=\"color: #008080; text-decoration-color: #008080; font-weight: bold\">100</span><span style=\"font-weight: bold\">]</span>, Epoch Loss: <span style=\"color: #008080; text-decoration-color: #008080; font-weight: bold\">0.0042</span>\n",
       "</pre>\n"
      ],
      "text/plain": [
       "Epoch \u001b[1m[\u001b[0m\u001b[1;36m62\u001b[0m/\u001b[1;36m100\u001b[0m\u001b[1m]\u001b[0m, Epoch Loss: \u001b[1;36m0.0042\u001b[0m\n"
      ]
     },
     "metadata": {},
     "output_type": "display_data"
    },
    {
     "name": "stderr",
     "output_type": "stream",
     "text": [
      "Epoch 63/100: 100%|██████████| 73/73 [00:40<00:00,  1.82batch/s, batch_loss=0.0302]\n"
     ]
    },
    {
     "data": {
      "text/html": [
       "<pre style=\"white-space:pre;overflow-x:auto;line-height:normal;font-family:Menlo,'DejaVu Sans Mono',consolas,'Courier New',monospace\">Epoch <span style=\"font-weight: bold\">[</span><span style=\"color: #008080; text-decoration-color: #008080; font-weight: bold\">63</span>/<span style=\"color: #008080; text-decoration-color: #008080; font-weight: bold\">100</span><span style=\"font-weight: bold\">]</span>, Epoch Loss: <span style=\"color: #008080; text-decoration-color: #008080; font-weight: bold\">0.0036</span>\n",
       "</pre>\n"
      ],
      "text/plain": [
       "Epoch \u001b[1m[\u001b[0m\u001b[1;36m63\u001b[0m/\u001b[1;36m100\u001b[0m\u001b[1m]\u001b[0m, Epoch Loss: \u001b[1;36m0.0036\u001b[0m\n"
      ]
     },
     "metadata": {},
     "output_type": "display_data"
    },
    {
     "name": "stderr",
     "output_type": "stream",
     "text": [
      "Epoch 64/100: 100%|██████████| 73/73 [00:40<00:00,  1.82batch/s, batch_loss=0.0532]\n"
     ]
    },
    {
     "data": {
      "text/html": [
       "<pre style=\"white-space:pre;overflow-x:auto;line-height:normal;font-family:Menlo,'DejaVu Sans Mono',consolas,'Courier New',monospace\">Epoch <span style=\"font-weight: bold\">[</span><span style=\"color: #008080; text-decoration-color: #008080; font-weight: bold\">64</span>/<span style=\"color: #008080; text-decoration-color: #008080; font-weight: bold\">100</span><span style=\"font-weight: bold\">]</span>, Epoch Loss: <span style=\"color: #008080; text-decoration-color: #008080; font-weight: bold\">0.0035</span>\n",
       "</pre>\n"
      ],
      "text/plain": [
       "Epoch \u001b[1m[\u001b[0m\u001b[1;36m64\u001b[0m/\u001b[1;36m100\u001b[0m\u001b[1m]\u001b[0m, Epoch Loss: \u001b[1;36m0.0035\u001b[0m\n"
      ]
     },
     "metadata": {},
     "output_type": "display_data"
    },
    {
     "name": "stderr",
     "output_type": "stream",
     "text": [
      "Epoch 65/100: 100%|██████████| 73/73 [00:40<00:00,  1.82batch/s, batch_loss=0.0375]\n"
     ]
    },
    {
     "data": {
      "text/html": [
       "<pre style=\"white-space:pre;overflow-x:auto;line-height:normal;font-family:Menlo,'DejaVu Sans Mono',consolas,'Courier New',monospace\">Epoch <span style=\"font-weight: bold\">[</span><span style=\"color: #008080; text-decoration-color: #008080; font-weight: bold\">65</span>/<span style=\"color: #008080; text-decoration-color: #008080; font-weight: bold\">100</span><span style=\"font-weight: bold\">]</span>, Epoch Loss: <span style=\"color: #008080; text-decoration-color: #008080; font-weight: bold\">0.0030</span>\n",
       "</pre>\n"
      ],
      "text/plain": [
       "Epoch \u001b[1m[\u001b[0m\u001b[1;36m65\u001b[0m/\u001b[1;36m100\u001b[0m\u001b[1m]\u001b[0m, Epoch Loss: \u001b[1;36m0.0030\u001b[0m\n"
      ]
     },
     "metadata": {},
     "output_type": "display_data"
    },
    {
     "name": "stderr",
     "output_type": "stream",
     "text": [
      "Epoch 66/100: 100%|██████████| 73/73 [00:40<00:00,  1.82batch/s, batch_loss=0.0361]\n"
     ]
    },
    {
     "data": {
      "text/html": [
       "<pre style=\"white-space:pre;overflow-x:auto;line-height:normal;font-family:Menlo,'DejaVu Sans Mono',consolas,'Courier New',monospace\">Epoch <span style=\"font-weight: bold\">[</span><span style=\"color: #008080; text-decoration-color: #008080; font-weight: bold\">66</span>/<span style=\"color: #008080; text-decoration-color: #008080; font-weight: bold\">100</span><span style=\"font-weight: bold\">]</span>, Epoch Loss: <span style=\"color: #008080; text-decoration-color: #008080; font-weight: bold\">0.0026</span>\n",
       "</pre>\n"
      ],
      "text/plain": [
       "Epoch \u001b[1m[\u001b[0m\u001b[1;36m66\u001b[0m/\u001b[1;36m100\u001b[0m\u001b[1m]\u001b[0m, Epoch Loss: \u001b[1;36m0.0026\u001b[0m\n"
      ]
     },
     "metadata": {},
     "output_type": "display_data"
    },
    {
     "name": "stderr",
     "output_type": "stream",
     "text": [
      "Epoch 67/100: 100%|██████████| 73/73 [00:39<00:00,  1.83batch/s, batch_loss=0.0284]\n"
     ]
    },
    {
     "data": {
      "text/html": [
       "<pre style=\"white-space:pre;overflow-x:auto;line-height:normal;font-family:Menlo,'DejaVu Sans Mono',consolas,'Courier New',monospace\">Epoch <span style=\"font-weight: bold\">[</span><span style=\"color: #008080; text-decoration-color: #008080; font-weight: bold\">67</span>/<span style=\"color: #008080; text-decoration-color: #008080; font-weight: bold\">100</span><span style=\"font-weight: bold\">]</span>, Epoch Loss: <span style=\"color: #008080; text-decoration-color: #008080; font-weight: bold\">0.0026</span>\n",
       "</pre>\n"
      ],
      "text/plain": [
       "Epoch \u001b[1m[\u001b[0m\u001b[1;36m67\u001b[0m/\u001b[1;36m100\u001b[0m\u001b[1m]\u001b[0m, Epoch Loss: \u001b[1;36m0.0026\u001b[0m\n"
      ]
     },
     "metadata": {},
     "output_type": "display_data"
    },
    {
     "name": "stderr",
     "output_type": "stream",
     "text": [
      "Epoch 68/100: 100%|██████████| 73/73 [00:40<00:00,  1.82batch/s, batch_loss=0.0236]\n"
     ]
    },
    {
     "data": {
      "text/html": [
       "<pre style=\"white-space:pre;overflow-x:auto;line-height:normal;font-family:Menlo,'DejaVu Sans Mono',consolas,'Courier New',monospace\">Epoch <span style=\"font-weight: bold\">[</span><span style=\"color: #008080; text-decoration-color: #008080; font-weight: bold\">68</span>/<span style=\"color: #008080; text-decoration-color: #008080; font-weight: bold\">100</span><span style=\"font-weight: bold\">]</span>, Epoch Loss: <span style=\"color: #008080; text-decoration-color: #008080; font-weight: bold\">0.0025</span>\n",
       "</pre>\n"
      ],
      "text/plain": [
       "Epoch \u001b[1m[\u001b[0m\u001b[1;36m68\u001b[0m/\u001b[1;36m100\u001b[0m\u001b[1m]\u001b[0m, Epoch Loss: \u001b[1;36m0.0025\u001b[0m\n"
      ]
     },
     "metadata": {},
     "output_type": "display_data"
    },
    {
     "name": "stderr",
     "output_type": "stream",
     "text": [
      "Epoch 69/100: 100%|██████████| 73/73 [00:40<00:00,  1.82batch/s, batch_loss=0.0345]\n"
     ]
    },
    {
     "data": {
      "text/html": [
       "<pre style=\"white-space:pre;overflow-x:auto;line-height:normal;font-family:Menlo,'DejaVu Sans Mono',consolas,'Courier New',monospace\">Epoch <span style=\"font-weight: bold\">[</span><span style=\"color: #008080; text-decoration-color: #008080; font-weight: bold\">69</span>/<span style=\"color: #008080; text-decoration-color: #008080; font-weight: bold\">100</span><span style=\"font-weight: bold\">]</span>, Epoch Loss: <span style=\"color: #008080; text-decoration-color: #008080; font-weight: bold\">0.0023</span>\n",
       "</pre>\n"
      ],
      "text/plain": [
       "Epoch \u001b[1m[\u001b[0m\u001b[1;36m69\u001b[0m/\u001b[1;36m100\u001b[0m\u001b[1m]\u001b[0m, Epoch Loss: \u001b[1;36m0.0023\u001b[0m\n"
      ]
     },
     "metadata": {},
     "output_type": "display_data"
    },
    {
     "name": "stderr",
     "output_type": "stream",
     "text": [
      "Epoch 70/100: 100%|██████████| 73/73 [00:39<00:00,  1.83batch/s, batch_loss=0.0331]\n"
     ]
    },
    {
     "data": {
      "text/html": [
       "<pre style=\"white-space:pre;overflow-x:auto;line-height:normal;font-family:Menlo,'DejaVu Sans Mono',consolas,'Courier New',monospace\">Epoch <span style=\"font-weight: bold\">[</span><span style=\"color: #008080; text-decoration-color: #008080; font-weight: bold\">70</span>/<span style=\"color: #008080; text-decoration-color: #008080; font-weight: bold\">100</span><span style=\"font-weight: bold\">]</span>, Epoch Loss: <span style=\"color: #008080; text-decoration-color: #008080; font-weight: bold\">0.0020</span>\n",
       "</pre>\n"
      ],
      "text/plain": [
       "Epoch \u001b[1m[\u001b[0m\u001b[1;36m70\u001b[0m/\u001b[1;36m100\u001b[0m\u001b[1m]\u001b[0m, Epoch Loss: \u001b[1;36m0.0020\u001b[0m\n"
      ]
     },
     "metadata": {},
     "output_type": "display_data"
    },
    {
     "name": "stderr",
     "output_type": "stream",
     "text": [
      "Epoch 71/100: 100%|██████████| 73/73 [00:40<00:00,  1.82batch/s, batch_loss=0.0342]\n"
     ]
    },
    {
     "data": {
      "text/html": [
       "<pre style=\"white-space:pre;overflow-x:auto;line-height:normal;font-family:Menlo,'DejaVu Sans Mono',consolas,'Courier New',monospace\">Epoch <span style=\"font-weight: bold\">[</span><span style=\"color: #008080; text-decoration-color: #008080; font-weight: bold\">71</span>/<span style=\"color: #008080; text-decoration-color: #008080; font-weight: bold\">100</span><span style=\"font-weight: bold\">]</span>, Epoch Loss: <span style=\"color: #008080; text-decoration-color: #008080; font-weight: bold\">0.0023</span>\n",
       "</pre>\n"
      ],
      "text/plain": [
       "Epoch \u001b[1m[\u001b[0m\u001b[1;36m71\u001b[0m/\u001b[1;36m100\u001b[0m\u001b[1m]\u001b[0m, Epoch Loss: \u001b[1;36m0.0023\u001b[0m\n"
      ]
     },
     "metadata": {},
     "output_type": "display_data"
    },
    {
     "name": "stderr",
     "output_type": "stream",
     "text": [
      "Epoch 72/100: 100%|██████████| 73/73 [00:39<00:00,  1.83batch/s, batch_loss=0.0201]\n"
     ]
    },
    {
     "data": {
      "text/html": [
       "<pre style=\"white-space:pre;overflow-x:auto;line-height:normal;font-family:Menlo,'DejaVu Sans Mono',consolas,'Courier New',monospace\">Epoch <span style=\"font-weight: bold\">[</span><span style=\"color: #008080; text-decoration-color: #008080; font-weight: bold\">72</span>/<span style=\"color: #008080; text-decoration-color: #008080; font-weight: bold\">100</span><span style=\"font-weight: bold\">]</span>, Epoch Loss: <span style=\"color: #008080; text-decoration-color: #008080; font-weight: bold\">0.0018</span>\n",
       "</pre>\n"
      ],
      "text/plain": [
       "Epoch \u001b[1m[\u001b[0m\u001b[1;36m72\u001b[0m/\u001b[1;36m100\u001b[0m\u001b[1m]\u001b[0m, Epoch Loss: \u001b[1;36m0.0018\u001b[0m\n"
      ]
     },
     "metadata": {},
     "output_type": "display_data"
    },
    {
     "name": "stderr",
     "output_type": "stream",
     "text": [
      "Epoch 73/100: 100%|██████████| 73/73 [00:39<00:00,  1.83batch/s, batch_loss=0.0169]\n"
     ]
    },
    {
     "data": {
      "text/html": [
       "<pre style=\"white-space:pre;overflow-x:auto;line-height:normal;font-family:Menlo,'DejaVu Sans Mono',consolas,'Courier New',monospace\">Epoch <span style=\"font-weight: bold\">[</span><span style=\"color: #008080; text-decoration-color: #008080; font-weight: bold\">73</span>/<span style=\"color: #008080; text-decoration-color: #008080; font-weight: bold\">100</span><span style=\"font-weight: bold\">]</span>, Epoch Loss: <span style=\"color: #008080; text-decoration-color: #008080; font-weight: bold\">0.0017</span>\n",
       "</pre>\n"
      ],
      "text/plain": [
       "Epoch \u001b[1m[\u001b[0m\u001b[1;36m73\u001b[0m/\u001b[1;36m100\u001b[0m\u001b[1m]\u001b[0m, Epoch Loss: \u001b[1;36m0.0017\u001b[0m\n"
      ]
     },
     "metadata": {},
     "output_type": "display_data"
    },
    {
     "name": "stderr",
     "output_type": "stream",
     "text": [
      "Epoch 74/100: 100%|██████████| 73/73 [00:39<00:00,  1.83batch/s, batch_loss=0.0162]\n"
     ]
    },
    {
     "data": {
      "text/html": [
       "<pre style=\"white-space:pre;overflow-x:auto;line-height:normal;font-family:Menlo,'DejaVu Sans Mono',consolas,'Courier New',monospace\">Epoch <span style=\"font-weight: bold\">[</span><span style=\"color: #008080; text-decoration-color: #008080; font-weight: bold\">74</span>/<span style=\"color: #008080; text-decoration-color: #008080; font-weight: bold\">100</span><span style=\"font-weight: bold\">]</span>, Epoch Loss: <span style=\"color: #008080; text-decoration-color: #008080; font-weight: bold\">0.0015</span>\n",
       "</pre>\n"
      ],
      "text/plain": [
       "Epoch \u001b[1m[\u001b[0m\u001b[1;36m74\u001b[0m/\u001b[1;36m100\u001b[0m\u001b[1m]\u001b[0m, Epoch Loss: \u001b[1;36m0.0015\u001b[0m\n"
      ]
     },
     "metadata": {},
     "output_type": "display_data"
    },
    {
     "name": "stderr",
     "output_type": "stream",
     "text": [
      "Epoch 75/100: 100%|██████████| 73/73 [00:39<00:00,  1.83batch/s, batch_loss=0.0217]\n"
     ]
    },
    {
     "data": {
      "text/html": [
       "<pre style=\"white-space:pre;overflow-x:auto;line-height:normal;font-family:Menlo,'DejaVu Sans Mono',consolas,'Courier New',monospace\">Epoch <span style=\"font-weight: bold\">[</span><span style=\"color: #008080; text-decoration-color: #008080; font-weight: bold\">75</span>/<span style=\"color: #008080; text-decoration-color: #008080; font-weight: bold\">100</span><span style=\"font-weight: bold\">]</span>, Epoch Loss: <span style=\"color: #008080; text-decoration-color: #008080; font-weight: bold\">0.0014</span>\n",
       "</pre>\n"
      ],
      "text/plain": [
       "Epoch \u001b[1m[\u001b[0m\u001b[1;36m75\u001b[0m/\u001b[1;36m100\u001b[0m\u001b[1m]\u001b[0m, Epoch Loss: \u001b[1;36m0.0014\u001b[0m\n"
      ]
     },
     "metadata": {},
     "output_type": "display_data"
    },
    {
     "name": "stderr",
     "output_type": "stream",
     "text": [
      "Epoch 76/100: 100%|██████████| 73/73 [00:39<00:00,  1.83batch/s, batch_loss=0.0304] \n"
     ]
    },
    {
     "data": {
      "text/html": [
       "<pre style=\"white-space:pre;overflow-x:auto;line-height:normal;font-family:Menlo,'DejaVu Sans Mono',consolas,'Courier New',monospace\">Epoch <span style=\"font-weight: bold\">[</span><span style=\"color: #008080; text-decoration-color: #008080; font-weight: bold\">76</span>/<span style=\"color: #008080; text-decoration-color: #008080; font-weight: bold\">100</span><span style=\"font-weight: bold\">]</span>, Epoch Loss: <span style=\"color: #008080; text-decoration-color: #008080; font-weight: bold\">0.0014</span>\n",
       "</pre>\n"
      ],
      "text/plain": [
       "Epoch \u001b[1m[\u001b[0m\u001b[1;36m76\u001b[0m/\u001b[1;36m100\u001b[0m\u001b[1m]\u001b[0m, Epoch Loss: \u001b[1;36m0.0014\u001b[0m\n"
      ]
     },
     "metadata": {},
     "output_type": "display_data"
    },
    {
     "name": "stderr",
     "output_type": "stream",
     "text": [
      "Epoch 77/100: 100%|██████████| 73/73 [00:39<00:00,  1.83batch/s, batch_loss=0.0251]\n"
     ]
    },
    {
     "data": {
      "text/html": [
       "<pre style=\"white-space:pre;overflow-x:auto;line-height:normal;font-family:Menlo,'DejaVu Sans Mono',consolas,'Courier New',monospace\">Epoch <span style=\"font-weight: bold\">[</span><span style=\"color: #008080; text-decoration-color: #008080; font-weight: bold\">77</span>/<span style=\"color: #008080; text-decoration-color: #008080; font-weight: bold\">100</span><span style=\"font-weight: bold\">]</span>, Epoch Loss: <span style=\"color: #008080; text-decoration-color: #008080; font-weight: bold\">0.0014</span>\n",
       "</pre>\n"
      ],
      "text/plain": [
       "Epoch \u001b[1m[\u001b[0m\u001b[1;36m77\u001b[0m/\u001b[1;36m100\u001b[0m\u001b[1m]\u001b[0m, Epoch Loss: \u001b[1;36m0.0014\u001b[0m\n"
      ]
     },
     "metadata": {},
     "output_type": "display_data"
    },
    {
     "name": "stderr",
     "output_type": "stream",
     "text": [
      "Epoch 78/100: 100%|██████████| 73/73 [00:39<00:00,  1.83batch/s, batch_loss=0.0349] \n"
     ]
    },
    {
     "data": {
      "text/html": [
       "<pre style=\"white-space:pre;overflow-x:auto;line-height:normal;font-family:Menlo,'DejaVu Sans Mono',consolas,'Courier New',monospace\">Epoch <span style=\"font-weight: bold\">[</span><span style=\"color: #008080; text-decoration-color: #008080; font-weight: bold\">78</span>/<span style=\"color: #008080; text-decoration-color: #008080; font-weight: bold\">100</span><span style=\"font-weight: bold\">]</span>, Epoch Loss: <span style=\"color: #008080; text-decoration-color: #008080; font-weight: bold\">0.0013</span>\n",
       "</pre>\n"
      ],
      "text/plain": [
       "Epoch \u001b[1m[\u001b[0m\u001b[1;36m78\u001b[0m/\u001b[1;36m100\u001b[0m\u001b[1m]\u001b[0m, Epoch Loss: \u001b[1;36m0.0013\u001b[0m\n"
      ]
     },
     "metadata": {},
     "output_type": "display_data"
    },
    {
     "name": "stderr",
     "output_type": "stream",
     "text": [
      "Epoch 79/100: 100%|██████████| 73/73 [00:39<00:00,  1.83batch/s, batch_loss=0.00753]\n"
     ]
    },
    {
     "data": {
      "text/html": [
       "<pre style=\"white-space:pre;overflow-x:auto;line-height:normal;font-family:Menlo,'DejaVu Sans Mono',consolas,'Courier New',monospace\">Epoch <span style=\"font-weight: bold\">[</span><span style=\"color: #008080; text-decoration-color: #008080; font-weight: bold\">79</span>/<span style=\"color: #008080; text-decoration-color: #008080; font-weight: bold\">100</span><span style=\"font-weight: bold\">]</span>, Epoch Loss: <span style=\"color: #008080; text-decoration-color: #008080; font-weight: bold\">0.0013</span>\n",
       "</pre>\n"
      ],
      "text/plain": [
       "Epoch \u001b[1m[\u001b[0m\u001b[1;36m79\u001b[0m/\u001b[1;36m100\u001b[0m\u001b[1m]\u001b[0m, Epoch Loss: \u001b[1;36m0.0013\u001b[0m\n"
      ]
     },
     "metadata": {},
     "output_type": "display_data"
    },
    {
     "name": "stderr",
     "output_type": "stream",
     "text": [
      "Epoch 80/100: 100%|██████████| 73/73 [00:39<00:00,  1.83batch/s, batch_loss=0.0202] \n"
     ]
    },
    {
     "data": {
      "text/html": [
       "<pre style=\"white-space:pre;overflow-x:auto;line-height:normal;font-family:Menlo,'DejaVu Sans Mono',consolas,'Courier New',monospace\">Epoch <span style=\"font-weight: bold\">[</span><span style=\"color: #008080; text-decoration-color: #008080; font-weight: bold\">80</span>/<span style=\"color: #008080; text-decoration-color: #008080; font-weight: bold\">100</span><span style=\"font-weight: bold\">]</span>, Epoch Loss: <span style=\"color: #008080; text-decoration-color: #008080; font-weight: bold\">0.0012</span>\n",
       "</pre>\n"
      ],
      "text/plain": [
       "Epoch \u001b[1m[\u001b[0m\u001b[1;36m80\u001b[0m/\u001b[1;36m100\u001b[0m\u001b[1m]\u001b[0m, Epoch Loss: \u001b[1;36m0.0012\u001b[0m\n"
      ]
     },
     "metadata": {},
     "output_type": "display_data"
    },
    {
     "name": "stderr",
     "output_type": "stream",
     "text": [
      "Epoch 81/100: 100%|██████████| 73/73 [00:39<00:00,  1.83batch/s, batch_loss=0.0078] \n"
     ]
    },
    {
     "data": {
      "text/html": [
       "<pre style=\"white-space:pre;overflow-x:auto;line-height:normal;font-family:Menlo,'DejaVu Sans Mono',consolas,'Courier New',monospace\">Epoch <span style=\"font-weight: bold\">[</span><span style=\"color: #008080; text-decoration-color: #008080; font-weight: bold\">81</span>/<span style=\"color: #008080; text-decoration-color: #008080; font-weight: bold\">100</span><span style=\"font-weight: bold\">]</span>, Epoch Loss: <span style=\"color: #008080; text-decoration-color: #008080; font-weight: bold\">0.0011</span>\n",
       "</pre>\n"
      ],
      "text/plain": [
       "Epoch \u001b[1m[\u001b[0m\u001b[1;36m81\u001b[0m/\u001b[1;36m100\u001b[0m\u001b[1m]\u001b[0m, Epoch Loss: \u001b[1;36m0.0011\u001b[0m\n"
      ]
     },
     "metadata": {},
     "output_type": "display_data"
    },
    {
     "name": "stderr",
     "output_type": "stream",
     "text": [
      "Epoch 82/100: 100%|██████████| 73/73 [00:39<00:00,  1.83batch/s, batch_loss=0.0185] \n"
     ]
    },
    {
     "data": {
      "text/html": [
       "<pre style=\"white-space:pre;overflow-x:auto;line-height:normal;font-family:Menlo,'DejaVu Sans Mono',consolas,'Courier New',monospace\">Epoch <span style=\"font-weight: bold\">[</span><span style=\"color: #008080; text-decoration-color: #008080; font-weight: bold\">82</span>/<span style=\"color: #008080; text-decoration-color: #008080; font-weight: bold\">100</span><span style=\"font-weight: bold\">]</span>, Epoch Loss: <span style=\"color: #008080; text-decoration-color: #008080; font-weight: bold\">0.0011</span>\n",
       "</pre>\n"
      ],
      "text/plain": [
       "Epoch \u001b[1m[\u001b[0m\u001b[1;36m82\u001b[0m/\u001b[1;36m100\u001b[0m\u001b[1m]\u001b[0m, Epoch Loss: \u001b[1;36m0.0011\u001b[0m\n"
      ]
     },
     "metadata": {},
     "output_type": "display_data"
    },
    {
     "name": "stderr",
     "output_type": "stream",
     "text": [
      "Epoch 83/100: 100%|██████████| 73/73 [00:39<00:00,  1.83batch/s, batch_loss=0.026]  \n"
     ]
    },
    {
     "data": {
      "text/html": [
       "<pre style=\"white-space:pre;overflow-x:auto;line-height:normal;font-family:Menlo,'DejaVu Sans Mono',consolas,'Courier New',monospace\">Epoch <span style=\"font-weight: bold\">[</span><span style=\"color: #008080; text-decoration-color: #008080; font-weight: bold\">83</span>/<span style=\"color: #008080; text-decoration-color: #008080; font-weight: bold\">100</span><span style=\"font-weight: bold\">]</span>, Epoch Loss: <span style=\"color: #008080; text-decoration-color: #008080; font-weight: bold\">0.0011</span>\n",
       "</pre>\n"
      ],
      "text/plain": [
       "Epoch \u001b[1m[\u001b[0m\u001b[1;36m83\u001b[0m/\u001b[1;36m100\u001b[0m\u001b[1m]\u001b[0m, Epoch Loss: \u001b[1;36m0.0011\u001b[0m\n"
      ]
     },
     "metadata": {},
     "output_type": "display_data"
    },
    {
     "name": "stderr",
     "output_type": "stream",
     "text": [
      "Epoch 84/100: 100%|██████████| 73/73 [00:39<00:00,  1.83batch/s, batch_loss=0.0252] \n"
     ]
    },
    {
     "data": {
      "text/html": [
       "<pre style=\"white-space:pre;overflow-x:auto;line-height:normal;font-family:Menlo,'DejaVu Sans Mono',consolas,'Courier New',monospace\">Epoch <span style=\"font-weight: bold\">[</span><span style=\"color: #008080; text-decoration-color: #008080; font-weight: bold\">84</span>/<span style=\"color: #008080; text-decoration-color: #008080; font-weight: bold\">100</span><span style=\"font-weight: bold\">]</span>, Epoch Loss: <span style=\"color: #008080; text-decoration-color: #008080; font-weight: bold\">0.0010</span>\n",
       "</pre>\n"
      ],
      "text/plain": [
       "Epoch \u001b[1m[\u001b[0m\u001b[1;36m84\u001b[0m/\u001b[1;36m100\u001b[0m\u001b[1m]\u001b[0m, Epoch Loss: \u001b[1;36m0.0010\u001b[0m\n"
      ]
     },
     "metadata": {},
     "output_type": "display_data"
    },
    {
     "name": "stderr",
     "output_type": "stream",
     "text": [
      "Epoch 85/100: 100%|██████████| 73/73 [00:39<00:00,  1.83batch/s, batch_loss=0.0278] \n"
     ]
    },
    {
     "data": {
      "text/html": [
       "<pre style=\"white-space:pre;overflow-x:auto;line-height:normal;font-family:Menlo,'DejaVu Sans Mono',consolas,'Courier New',monospace\">Epoch <span style=\"font-weight: bold\">[</span><span style=\"color: #008080; text-decoration-color: #008080; font-weight: bold\">85</span>/<span style=\"color: #008080; text-decoration-color: #008080; font-weight: bold\">100</span><span style=\"font-weight: bold\">]</span>, Epoch Loss: <span style=\"color: #008080; text-decoration-color: #008080; font-weight: bold\">0.0013</span>\n",
       "</pre>\n"
      ],
      "text/plain": [
       "Epoch \u001b[1m[\u001b[0m\u001b[1;36m85\u001b[0m/\u001b[1;36m100\u001b[0m\u001b[1m]\u001b[0m, Epoch Loss: \u001b[1;36m0.0013\u001b[0m\n"
      ]
     },
     "metadata": {},
     "output_type": "display_data"
    },
    {
     "name": "stderr",
     "output_type": "stream",
     "text": [
      "Epoch 86/100: 100%|██████████| 73/73 [00:39<00:00,  1.83batch/s, batch_loss=0.0185] \n"
     ]
    },
    {
     "data": {
      "text/html": [
       "<pre style=\"white-space:pre;overflow-x:auto;line-height:normal;font-family:Menlo,'DejaVu Sans Mono',consolas,'Courier New',monospace\">Epoch <span style=\"font-weight: bold\">[</span><span style=\"color: #008080; text-decoration-color: #008080; font-weight: bold\">86</span>/<span style=\"color: #008080; text-decoration-color: #008080; font-weight: bold\">100</span><span style=\"font-weight: bold\">]</span>, Epoch Loss: <span style=\"color: #008080; text-decoration-color: #008080; font-weight: bold\">0.0015</span>\n",
       "</pre>\n"
      ],
      "text/plain": [
       "Epoch \u001b[1m[\u001b[0m\u001b[1;36m86\u001b[0m/\u001b[1;36m100\u001b[0m\u001b[1m]\u001b[0m, Epoch Loss: \u001b[1;36m0.0015\u001b[0m\n"
      ]
     },
     "metadata": {},
     "output_type": "display_data"
    },
    {
     "name": "stderr",
     "output_type": "stream",
     "text": [
      "Epoch 87/100: 100%|██████████| 73/73 [00:40<00:00,  1.82batch/s, batch_loss=0.0133] \n"
     ]
    },
    {
     "data": {
      "text/html": [
       "<pre style=\"white-space:pre;overflow-x:auto;line-height:normal;font-family:Menlo,'DejaVu Sans Mono',consolas,'Courier New',monospace\">Epoch <span style=\"font-weight: bold\">[</span><span style=\"color: #008080; text-decoration-color: #008080; font-weight: bold\">87</span>/<span style=\"color: #008080; text-decoration-color: #008080; font-weight: bold\">100</span><span style=\"font-weight: bold\">]</span>, Epoch Loss: <span style=\"color: #008080; text-decoration-color: #008080; font-weight: bold\">0.0011</span>\n",
       "</pre>\n"
      ],
      "text/plain": [
       "Epoch \u001b[1m[\u001b[0m\u001b[1;36m87\u001b[0m/\u001b[1;36m100\u001b[0m\u001b[1m]\u001b[0m, Epoch Loss: \u001b[1;36m0.0011\u001b[0m\n"
      ]
     },
     "metadata": {},
     "output_type": "display_data"
    },
    {
     "name": "stderr",
     "output_type": "stream",
     "text": [
      "Epoch 88/100: 100%|██████████| 73/73 [00:39<00:00,  1.83batch/s, batch_loss=0.0093] \n"
     ]
    },
    {
     "data": {
      "text/html": [
       "<pre style=\"white-space:pre;overflow-x:auto;line-height:normal;font-family:Menlo,'DejaVu Sans Mono',consolas,'Courier New',monospace\">Epoch <span style=\"font-weight: bold\">[</span><span style=\"color: #008080; text-decoration-color: #008080; font-weight: bold\">88</span>/<span style=\"color: #008080; text-decoration-color: #008080; font-weight: bold\">100</span><span style=\"font-weight: bold\">]</span>, Epoch Loss: <span style=\"color: #008080; text-decoration-color: #008080; font-weight: bold\">0.0009</span>\n",
       "</pre>\n"
      ],
      "text/plain": [
       "Epoch \u001b[1m[\u001b[0m\u001b[1;36m88\u001b[0m/\u001b[1;36m100\u001b[0m\u001b[1m]\u001b[0m, Epoch Loss: \u001b[1;36m0.0009\u001b[0m\n"
      ]
     },
     "metadata": {},
     "output_type": "display_data"
    },
    {
     "name": "stderr",
     "output_type": "stream",
     "text": [
      "Epoch 89/100: 100%|██████████| 73/73 [00:39<00:00,  1.83batch/s, batch_loss=0.0122] \n"
     ]
    },
    {
     "data": {
      "text/html": [
       "<pre style=\"white-space:pre;overflow-x:auto;line-height:normal;font-family:Menlo,'DejaVu Sans Mono',consolas,'Courier New',monospace\">Epoch <span style=\"font-weight: bold\">[</span><span style=\"color: #008080; text-decoration-color: #008080; font-weight: bold\">89</span>/<span style=\"color: #008080; text-decoration-color: #008080; font-weight: bold\">100</span><span style=\"font-weight: bold\">]</span>, Epoch Loss: <span style=\"color: #008080; text-decoration-color: #008080; font-weight: bold\">0.0010</span>\n",
       "</pre>\n"
      ],
      "text/plain": [
       "Epoch \u001b[1m[\u001b[0m\u001b[1;36m89\u001b[0m/\u001b[1;36m100\u001b[0m\u001b[1m]\u001b[0m, Epoch Loss: \u001b[1;36m0.0010\u001b[0m\n"
      ]
     },
     "metadata": {},
     "output_type": "display_data"
    },
    {
     "name": "stderr",
     "output_type": "stream",
     "text": [
      "Epoch 90/100: 100%|██████████| 73/73 [00:39<00:00,  1.83batch/s, batch_loss=0.0141] \n"
     ]
    },
    {
     "data": {
      "text/html": [
       "<pre style=\"white-space:pre;overflow-x:auto;line-height:normal;font-family:Menlo,'DejaVu Sans Mono',consolas,'Courier New',monospace\">Epoch <span style=\"font-weight: bold\">[</span><span style=\"color: #008080; text-decoration-color: #008080; font-weight: bold\">90</span>/<span style=\"color: #008080; text-decoration-color: #008080; font-weight: bold\">100</span><span style=\"font-weight: bold\">]</span>, Epoch Loss: <span style=\"color: #008080; text-decoration-color: #008080; font-weight: bold\">0.0013</span>\n",
       "</pre>\n"
      ],
      "text/plain": [
       "Epoch \u001b[1m[\u001b[0m\u001b[1;36m90\u001b[0m/\u001b[1;36m100\u001b[0m\u001b[1m]\u001b[0m, Epoch Loss: \u001b[1;36m0.0013\u001b[0m\n"
      ]
     },
     "metadata": {},
     "output_type": "display_data"
    },
    {
     "name": "stderr",
     "output_type": "stream",
     "text": [
      "Epoch 91/100: 100%|██████████| 73/73 [00:39<00:00,  1.83batch/s, batch_loss=0.0337] \n"
     ]
    },
    {
     "data": {
      "text/html": [
       "<pre style=\"white-space:pre;overflow-x:auto;line-height:normal;font-family:Menlo,'DejaVu Sans Mono',consolas,'Courier New',monospace\">Epoch <span style=\"font-weight: bold\">[</span><span style=\"color: #008080; text-decoration-color: #008080; font-weight: bold\">91</span>/<span style=\"color: #008080; text-decoration-color: #008080; font-weight: bold\">100</span><span style=\"font-weight: bold\">]</span>, Epoch Loss: <span style=\"color: #008080; text-decoration-color: #008080; font-weight: bold\">0.0010</span>\n",
       "</pre>\n"
      ],
      "text/plain": [
       "Epoch \u001b[1m[\u001b[0m\u001b[1;36m91\u001b[0m/\u001b[1;36m100\u001b[0m\u001b[1m]\u001b[0m, Epoch Loss: \u001b[1;36m0.0010\u001b[0m\n"
      ]
     },
     "metadata": {},
     "output_type": "display_data"
    },
    {
     "name": "stderr",
     "output_type": "stream",
     "text": [
      "Epoch 92/100: 100%|██████████| 73/73 [00:39<00:00,  1.83batch/s, batch_loss=0.0195] \n"
     ]
    },
    {
     "data": {
      "text/html": [
       "<pre style=\"white-space:pre;overflow-x:auto;line-height:normal;font-family:Menlo,'DejaVu Sans Mono',consolas,'Courier New',monospace\">Epoch <span style=\"font-weight: bold\">[</span><span style=\"color: #008080; text-decoration-color: #008080; font-weight: bold\">92</span>/<span style=\"color: #008080; text-decoration-color: #008080; font-weight: bold\">100</span><span style=\"font-weight: bold\">]</span>, Epoch Loss: <span style=\"color: #008080; text-decoration-color: #008080; font-weight: bold\">0.0009</span>\n",
       "</pre>\n"
      ],
      "text/plain": [
       "Epoch \u001b[1m[\u001b[0m\u001b[1;36m92\u001b[0m/\u001b[1;36m100\u001b[0m\u001b[1m]\u001b[0m, Epoch Loss: \u001b[1;36m0.0009\u001b[0m\n"
      ]
     },
     "metadata": {},
     "output_type": "display_data"
    },
    {
     "name": "stderr",
     "output_type": "stream",
     "text": [
      "Epoch 93/100: 100%|██████████| 73/73 [00:39<00:00,  1.83batch/s, batch_loss=0.0146] \n"
     ]
    },
    {
     "data": {
      "text/html": [
       "<pre style=\"white-space:pre;overflow-x:auto;line-height:normal;font-family:Menlo,'DejaVu Sans Mono',consolas,'Courier New',monospace\">Epoch <span style=\"font-weight: bold\">[</span><span style=\"color: #008080; text-decoration-color: #008080; font-weight: bold\">93</span>/<span style=\"color: #008080; text-decoration-color: #008080; font-weight: bold\">100</span><span style=\"font-weight: bold\">]</span>, Epoch Loss: <span style=\"color: #008080; text-decoration-color: #008080; font-weight: bold\">0.0008</span>\n",
       "</pre>\n"
      ],
      "text/plain": [
       "Epoch \u001b[1m[\u001b[0m\u001b[1;36m93\u001b[0m/\u001b[1;36m100\u001b[0m\u001b[1m]\u001b[0m, Epoch Loss: \u001b[1;36m0.0008\u001b[0m\n"
      ]
     },
     "metadata": {},
     "output_type": "display_data"
    },
    {
     "name": "stderr",
     "output_type": "stream",
     "text": [
      "Epoch 94/100: 100%|██████████| 73/73 [00:40<00:00,  1.82batch/s, batch_loss=0.0124] \n"
     ]
    },
    {
     "data": {
      "text/html": [
       "<pre style=\"white-space:pre;overflow-x:auto;line-height:normal;font-family:Menlo,'DejaVu Sans Mono',consolas,'Courier New',monospace\">Epoch <span style=\"font-weight: bold\">[</span><span style=\"color: #008080; text-decoration-color: #008080; font-weight: bold\">94</span>/<span style=\"color: #008080; text-decoration-color: #008080; font-weight: bold\">100</span><span style=\"font-weight: bold\">]</span>, Epoch Loss: <span style=\"color: #008080; text-decoration-color: #008080; font-weight: bold\">0.0008</span>\n",
       "</pre>\n"
      ],
      "text/plain": [
       "Epoch \u001b[1m[\u001b[0m\u001b[1;36m94\u001b[0m/\u001b[1;36m100\u001b[0m\u001b[1m]\u001b[0m, Epoch Loss: \u001b[1;36m0.0008\u001b[0m\n"
      ]
     },
     "metadata": {},
     "output_type": "display_data"
    },
    {
     "name": "stderr",
     "output_type": "stream",
     "text": [
      "Epoch 95/100: 100%|██████████| 73/73 [00:39<00:00,  1.83batch/s, batch_loss=0.00882]\n"
     ]
    },
    {
     "data": {
      "text/html": [
       "<pre style=\"white-space:pre;overflow-x:auto;line-height:normal;font-family:Menlo,'DejaVu Sans Mono',consolas,'Courier New',monospace\">Epoch <span style=\"font-weight: bold\">[</span><span style=\"color: #008080; text-decoration-color: #008080; font-weight: bold\">95</span>/<span style=\"color: #008080; text-decoration-color: #008080; font-weight: bold\">100</span><span style=\"font-weight: bold\">]</span>, Epoch Loss: <span style=\"color: #008080; text-decoration-color: #008080; font-weight: bold\">0.0007</span>\n",
       "</pre>\n"
      ],
      "text/plain": [
       "Epoch \u001b[1m[\u001b[0m\u001b[1;36m95\u001b[0m/\u001b[1;36m100\u001b[0m\u001b[1m]\u001b[0m, Epoch Loss: \u001b[1;36m0.0007\u001b[0m\n"
      ]
     },
     "metadata": {},
     "output_type": "display_data"
    },
    {
     "name": "stderr",
     "output_type": "stream",
     "text": [
      "Epoch 96/100: 100%|██████████| 73/73 [00:40<00:00,  1.82batch/s, batch_loss=0.00479]\n"
     ]
    },
    {
     "data": {
      "text/html": [
       "<pre style=\"white-space:pre;overflow-x:auto;line-height:normal;font-family:Menlo,'DejaVu Sans Mono',consolas,'Courier New',monospace\">Epoch <span style=\"font-weight: bold\">[</span><span style=\"color: #008080; text-decoration-color: #008080; font-weight: bold\">96</span>/<span style=\"color: #008080; text-decoration-color: #008080; font-weight: bold\">100</span><span style=\"font-weight: bold\">]</span>, Epoch Loss: <span style=\"color: #008080; text-decoration-color: #008080; font-weight: bold\">0.0007</span>\n",
       "</pre>\n"
      ],
      "text/plain": [
       "Epoch \u001b[1m[\u001b[0m\u001b[1;36m96\u001b[0m/\u001b[1;36m100\u001b[0m\u001b[1m]\u001b[0m, Epoch Loss: \u001b[1;36m0.0007\u001b[0m\n"
      ]
     },
     "metadata": {},
     "output_type": "display_data"
    },
    {
     "name": "stderr",
     "output_type": "stream",
     "text": [
      "Epoch 97/100: 100%|██████████| 73/73 [00:39<00:00,  1.83batch/s, batch_loss=0.00999]\n"
     ]
    },
    {
     "data": {
      "text/html": [
       "<pre style=\"white-space:pre;overflow-x:auto;line-height:normal;font-family:Menlo,'DejaVu Sans Mono',consolas,'Courier New',monospace\">Epoch <span style=\"font-weight: bold\">[</span><span style=\"color: #008080; text-decoration-color: #008080; font-weight: bold\">97</span>/<span style=\"color: #008080; text-decoration-color: #008080; font-weight: bold\">100</span><span style=\"font-weight: bold\">]</span>, Epoch Loss: <span style=\"color: #008080; text-decoration-color: #008080; font-weight: bold\">0.0007</span>\n",
       "</pre>\n"
      ],
      "text/plain": [
       "Epoch \u001b[1m[\u001b[0m\u001b[1;36m97\u001b[0m/\u001b[1;36m100\u001b[0m\u001b[1m]\u001b[0m, Epoch Loss: \u001b[1;36m0.0007\u001b[0m\n"
      ]
     },
     "metadata": {},
     "output_type": "display_data"
    },
    {
     "name": "stderr",
     "output_type": "stream",
     "text": [
      "Epoch 98/100: 100%|██████████| 73/73 [00:39<00:00,  1.83batch/s, batch_loss=0.00807]\n"
     ]
    },
    {
     "data": {
      "text/html": [
       "<pre style=\"white-space:pre;overflow-x:auto;line-height:normal;font-family:Menlo,'DejaVu Sans Mono',consolas,'Courier New',monospace\">Epoch <span style=\"font-weight: bold\">[</span><span style=\"color: #008080; text-decoration-color: #008080; font-weight: bold\">98</span>/<span style=\"color: #008080; text-decoration-color: #008080; font-weight: bold\">100</span><span style=\"font-weight: bold\">]</span>, Epoch Loss: <span style=\"color: #008080; text-decoration-color: #008080; font-weight: bold\">0.0007</span>\n",
       "</pre>\n"
      ],
      "text/plain": [
       "Epoch \u001b[1m[\u001b[0m\u001b[1;36m98\u001b[0m/\u001b[1;36m100\u001b[0m\u001b[1m]\u001b[0m, Epoch Loss: \u001b[1;36m0.0007\u001b[0m\n"
      ]
     },
     "metadata": {},
     "output_type": "display_data"
    },
    {
     "name": "stderr",
     "output_type": "stream",
     "text": [
      "Epoch 99/100: 100%|██████████| 73/73 [00:40<00:00,  1.82batch/s, batch_loss=0.0118] \n"
     ]
    },
    {
     "data": {
      "text/html": [
       "<pre style=\"white-space:pre;overflow-x:auto;line-height:normal;font-family:Menlo,'DejaVu Sans Mono',consolas,'Courier New',monospace\">Epoch <span style=\"font-weight: bold\">[</span><span style=\"color: #008080; text-decoration-color: #008080; font-weight: bold\">99</span>/<span style=\"color: #008080; text-decoration-color: #008080; font-weight: bold\">100</span><span style=\"font-weight: bold\">]</span>, Epoch Loss: <span style=\"color: #008080; text-decoration-color: #008080; font-weight: bold\">0.0006</span>\n",
       "</pre>\n"
      ],
      "text/plain": [
       "Epoch \u001b[1m[\u001b[0m\u001b[1;36m99\u001b[0m/\u001b[1;36m100\u001b[0m\u001b[1m]\u001b[0m, Epoch Loss: \u001b[1;36m0.0006\u001b[0m\n"
      ]
     },
     "metadata": {},
     "output_type": "display_data"
    },
    {
     "name": "stderr",
     "output_type": "stream",
     "text": [
      "Epoch 100/100: 100%|██████████| 73/73 [00:39<00:00,  1.83batch/s, batch_loss=0.00503]\n"
     ]
    },
    {
     "data": {
      "text/html": [
       "<pre style=\"white-space:pre;overflow-x:auto;line-height:normal;font-family:Menlo,'DejaVu Sans Mono',consolas,'Courier New',monospace\">Epoch <span style=\"font-weight: bold\">[</span><span style=\"color: #008080; text-decoration-color: #008080; font-weight: bold\">100</span>/<span style=\"color: #008080; text-decoration-color: #008080; font-weight: bold\">100</span><span style=\"font-weight: bold\">]</span>, Epoch Loss: <span style=\"color: #008080; text-decoration-color: #008080; font-weight: bold\">0.0007</span>\n",
       "</pre>\n"
      ],
      "text/plain": [
       "Epoch \u001b[1m[\u001b[0m\u001b[1;36m100\u001b[0m/\u001b[1;36m100\u001b[0m\u001b[1m]\u001b[0m, Epoch Loss: \u001b[1;36m0.0007\u001b[0m\n"
      ]
     },
     "metadata": {},
     "output_type": "display_data"
    }
   ],
   "source": [
    "from tqdm import tqdm  # Import tqdm for the progress bar\n",
    "\n",
    "EPOCHS = 100\n",
    "LEARNING_RATE = 1e-3\n",
    "optimizer = torch.optim.Adam(model.parameters(), lr=LEARNING_RATE)\n",
    "criterion = nn.MSELoss()\n",
    "\n",
    "# Use torch.inference_mode() for validation\n",
    "for epoch in range(EPOCHS):\n",
    "    model.train()\n",
    "    running_loss = 0.0\n",
    "\n",
    "    with tqdm(dataloader, desc=f'Epoch {epoch + 1}/{EPOCHS}', unit='batch') as pbar:\n",
    "        for batch in dataloader:\n",
    "            images, keypoints = batch[0].to(device), batch[1].to(device)\n",
    "\n",
    "            optimizer.zero_grad()  # Clear gradients\n",
    "            outputs = model(images)\n",
    "            loss = criterion(outputs, keypoints)\n",
    "            \n",
    "            loss.backward()  # Backpropagation\n",
    "            optimizer.step()  # Update parameters\n",
    "            \n",
    "            batch_loss = loss.item() * images.size(0)  # Accumulate batch loss (scaled)\n",
    "            running_loss += batch_loss\n",
    "            \n",
    "            pbar.update(1)\n",
    "            pbar.set_postfix(batch_loss=batch_loss) \n",
    "\n",
    "    # Normalize and print epoch loss\n",
    "    epoch_loss = running_loss / len(dataloader.dataset)\n",
    "    print(f\"Epoch [{epoch + 1}/{EPOCHS}], Epoch Loss: {epoch_loss:.4f}\")"
   ]
  },
  {
   "cell_type": "code",
   "execution_count": 16,
   "metadata": {},
   "outputs": [
    {
     "data": {
      "text/html": [
       "<pre style=\"white-space:pre;overflow-x:auto;line-height:normal;font-family:Menlo,'DejaVu Sans Mono',consolas,'Courier New',monospace\"><span style=\"color: #800080; text-decoration-color: #800080; font-weight: bold\">torch.Size</span><span style=\"font-weight: bold\">([</span><span style=\"color: #008080; text-decoration-color: #008080; font-weight: bold\">16</span>, <span style=\"color: #008080; text-decoration-color: #008080; font-weight: bold\">14</span><span style=\"font-weight: bold\">])</span>\n",
       "</pre>\n"
      ],
      "text/plain": [
       "\u001b[1;35mtorch.Size\u001b[0m\u001b[1m(\u001b[0m\u001b[1m[\u001b[0m\u001b[1;36m16\u001b[0m, \u001b[1;36m14\u001b[0m\u001b[1m]\u001b[0m\u001b[1m)\u001b[0m\n"
      ]
     },
     "metadata": {},
     "output_type": "display_data"
    },
    {
     "data": {
      "text/html": [
       "<pre style=\"white-space:pre;overflow-x:auto;line-height:normal;font-family:Menlo,'DejaVu Sans Mono',consolas,'Courier New',monospace\">Prediction: <span style=\"color: #800080; text-decoration-color: #800080; font-weight: bold\">tensor</span><span style=\"font-weight: bold\">([</span>  <span style=\"color: #008080; text-decoration-color: #008080; font-weight: bold\">51.3765</span>,   <span style=\"color: #008080; text-decoration-color: #008080; font-weight: bold\">32.8309</span>,   <span style=\"color: #008080; text-decoration-color: #008080; font-weight: bold\">67.7796</span>,  <span style=\"color: #008080; text-decoration-color: #008080; font-weight: bold\">114.8906</span>,   <span style=\"color: #008080; text-decoration-color: #008080; font-weight: bold\">97.9961</span>,  <span style=\"color: #008080; text-decoration-color: #008080; font-weight: bold\">139.5837</span>,\n",
       "          <span style=\"color: #008080; text-decoration-color: #008080; font-weight: bold\">22.6232</span>,  <span style=\"color: #008080; text-decoration-color: #008080; font-weight: bold\">134.6940</span>,    <span style=\"color: #008080; text-decoration-color: #008080; font-weight: bold\">7.3211</span>,  <span style=\"color: #008080; text-decoration-color: #008080; font-weight: bold\">230.8520</span>,  <span style=\"color: #008080; text-decoration-color: #008080; font-weight: bold\">-11.2552</span>,  <span style=\"color: #008080; text-decoration-color: #008080; font-weight: bold\">271.4977</span>,\n",
       "        <span style=\"color: #008080; text-decoration-color: #008080; font-weight: bold\">-108.6202</span>,  <span style=\"color: #008080; text-decoration-color: #008080; font-weight: bold\">200.5431</span><span style=\"font-weight: bold\">]</span>, <span style=\"color: #808000; text-decoration-color: #808000\">device</span>=<span style=\"color: #008000; text-decoration-color: #008000\">'cuda:0'</span><span style=\"font-weight: bold\">)</span>\n",
       "</pre>\n"
      ],
      "text/plain": [
       "Prediction: \u001b[1;35mtensor\u001b[0m\u001b[1m(\u001b[0m\u001b[1m[\u001b[0m  \u001b[1;36m51.3765\u001b[0m,   \u001b[1;36m32.8309\u001b[0m,   \u001b[1;36m67.7796\u001b[0m,  \u001b[1;36m114.8906\u001b[0m,   \u001b[1;36m97.9961\u001b[0m,  \u001b[1;36m139.5837\u001b[0m,\n",
       "          \u001b[1;36m22.6232\u001b[0m,  \u001b[1;36m134.6940\u001b[0m,    \u001b[1;36m7.3211\u001b[0m,  \u001b[1;36m230.8520\u001b[0m,  \u001b[1;36m-11.2552\u001b[0m,  \u001b[1;36m271.4977\u001b[0m,\n",
       "        \u001b[1;36m-108.6202\u001b[0m,  \u001b[1;36m200.5431\u001b[0m\u001b[1m]\u001b[0m, \u001b[33mdevice\u001b[0m=\u001b[32m'cuda:0'\u001b[0m\u001b[1m)\u001b[0m\n"
      ]
     },
     "metadata": {},
     "output_type": "display_data"
    },
    {
     "data": {
      "text/html": [
       "<pre style=\"white-space:pre;overflow-x:auto;line-height:normal;font-family:Menlo,'DejaVu Sans Mono',consolas,'Courier New',monospace\">Expected: <span style=\"color: #800080; text-decoration-color: #800080; font-weight: bold\">tensor</span><span style=\"font-weight: bold\">([</span> <span style=\"color: #008080; text-decoration-color: #008080; font-weight: bold\">56.6591</span>,  <span style=\"color: #008080; text-decoration-color: #008080; font-weight: bold\">40.9096</span>,  <span style=\"color: #008080; text-decoration-color: #008080; font-weight: bold\">73.1684</span>, <span style=\"color: #008080; text-decoration-color: #008080; font-weight: bold\">110.5305</span>,  <span style=\"color: #008080; text-decoration-color: #008080; font-weight: bold\">97.3566</span>, <span style=\"color: #008080; text-decoration-color: #008080; font-weight: bold\">131.6898</span>,  <span style=\"color: #008080; text-decoration-color: #008080; font-weight: bold\">34.3906</span>,\n",
       "        <span style=\"color: #008080; text-decoration-color: #008080; font-weight: bold\">143.9758</span>,   <span style=\"color: #008080; text-decoration-color: #008080; font-weight: bold\">8.4559</span>, <span style=\"color: #008080; text-decoration-color: #008080; font-weight: bold\">234.0911</span>,  <span style=\"color: #008080; text-decoration-color: #008080; font-weight: bold\">-9.1574</span>, <span style=\"color: #008080; text-decoration-color: #008080; font-weight: bold\">263.7556</span>, <span style=\"color: #008080; text-decoration-color: #008080; font-weight: bold\">-84.2458</span>, <span style=\"color: #008080; text-decoration-color: #008080; font-weight: bold\">185.4742</span><span style=\"font-weight: bold\">])</span>\n",
       "</pre>\n"
      ],
      "text/plain": [
       "Expected: \u001b[1;35mtensor\u001b[0m\u001b[1m(\u001b[0m\u001b[1m[\u001b[0m \u001b[1;36m56.6591\u001b[0m,  \u001b[1;36m40.9096\u001b[0m,  \u001b[1;36m73.1684\u001b[0m, \u001b[1;36m110.5305\u001b[0m,  \u001b[1;36m97.3566\u001b[0m, \u001b[1;36m131.6898\u001b[0m,  \u001b[1;36m34.3906\u001b[0m,\n",
       "        \u001b[1;36m143.9758\u001b[0m,   \u001b[1;36m8.4559\u001b[0m, \u001b[1;36m234.0911\u001b[0m,  \u001b[1;36m-9.1574\u001b[0m, \u001b[1;36m263.7556\u001b[0m, \u001b[1;36m-84.2458\u001b[0m, \u001b[1;36m185.4742\u001b[0m\u001b[1m]\u001b[0m\u001b[1m)\u001b[0m\n"
      ]
     },
     "metadata": {},
     "output_type": "display_data"
    },
    {
     "data": {
      "text/html": [
       "<pre style=\"white-space:pre;overflow-x:auto;line-height:normal;font-family:Menlo,'DejaVu Sans Mono',consolas,'Courier New',monospace\">----------------------------------------------------------------------------------------------------\n",
       "</pre>\n"
      ],
      "text/plain": [
       "----------------------------------------------------------------------------------------------------\n"
      ]
     },
     "metadata": {},
     "output_type": "display_data"
    }
   ],
   "source": [
    "model.eval()\n",
    "with torch.inference_mode():\n",
    "\n",
    "    for images, keypoints in dataloader:\n",
    "        predictions = model(images.to(device))\n",
    "        print(keypoints.shape)\n",
    "        break # Single batch of dataset\n",
    "\n",
    "kp_denormalize = DenormalizeKeypoints(IMG_HEIGHT, IMG_WIDTH)\n",
    "\n",
    "for pred, exp in zip(predictions, keypoints):\n",
    "    print(f\"Prediction: {kp_denormalize(pred)}\")\n",
    "    print(f\"Expected: {kp_denormalize(exp)}\")\n",
    "    print(f\"{'-'* 100}\")\n",
    "    break # Single Dataset"
   ]
  },
  {
   "cell_type": "code",
   "execution_count": 17,
   "metadata": {},
   "outputs": [
    {
     "data": {
      "text/html": [
       "<pre style=\"white-space:pre;overflow-x:auto;line-height:normal;font-family:Menlo,'DejaVu Sans Mono',consolas,'Courier New',monospace\">Model saved as ..<span style=\"color: #800080; text-decoration-color: #800080\">/models/</span><span style=\"color: #ff00ff; text-decoration-color: #ff00ff\">pose_estimation</span>\\sp_pe_resnet50_batch_norm2d_relu_2024-<span style=\"color: #008080; text-decoration-color: #008080; font-weight: bold\">11</span>-19T14-<span style=\"color: #008080; text-decoration-color: #008080; font-weight: bold\">34.</span>pth\n",
       "</pre>\n"
      ],
      "text/plain": [
       "Model saved as ..\u001b[35m/models/\u001b[0m\u001b[95mpose_estimation\u001b[0m\\sp_pe_resnet50_batch_norm2d_relu_2024-\u001b[1;36m11\u001b[0m-19T14-\u001b[1;36m34.\u001b[0mpth\n"
      ]
     },
     "metadata": {},
     "output_type": "display_data"
    }
   ],
   "source": [
    "from datetime import datetime, timezone\n",
    "\n",
    "# Ensure the directory exists\n",
    "os.makedirs(MODEL_PATH, exist_ok=True)\n",
    "\n",
    "# Get the current UTC date and time in ISO format\n",
    "current_time_utc = datetime.now(timezone.utc).strftime(\"%Y-%m-%dT%H-%M\")\n",
    "\n",
    "# Combine the directory and file name\n",
    "# sp: snow_petrel, pe: pose_estimation\n",
    "file_name = f\"sp_pe_{ARCHITECTURE}_{current_time_utc}.pth\"\n",
    "full_path = os.path.join(MODEL_PATH, file_name)\n",
    "\n",
    "# Save the model state_dict\n",
    "torch.save(model.state_dict(), full_path)\n",
    "\n",
    "print(f\"Model saved as {full_path}\")"
   ]
  },
  {
   "cell_type": "code",
   "execution_count": 64,
   "metadata": {},
   "outputs": [],
   "source": [
    "def calculate_head_size(keypoints):\n",
    "    \"\"\"\n",
    "    Calculate head size for a batch of flattened keypoints.\n",
    "\n",
    "    Args:\n",
    "        keypoints (torch.Tensor): A tensor of shape (batch_size, num_keypoints * 2),\n",
    "                                  where each row contains flattened 2D coordinates.\n",
    "                                  Keypoints are arranged as:\n",
    "    Returns:\n",
    "        torch.Tensor: A tensor of shape (batch_size,) containing the head size for each sample.\n",
    "    \"\"\"\n",
    "    # Extract batch size and number of keypoints\n",
    "    batch_size = keypoints.size(0)  # First dimension is the batch size\n",
    "    num_keypoints = keypoints.size(1) // 2  # Number of keypoints\n",
    "\n",
    "    # Reshape to (batch_size, num_keypoints, 2)\n",
    "    keypoints = keypoints.view(batch_size, num_keypoints, 2)\n",
    "\n",
    "    # Extract head and beak_tip keypoints\n",
    "    head = keypoints[:, 0, :]       # Shape: (batch_size, 2)\n",
    "    beak_tip = keypoints[:, 2, :]   # Shape: (batch_size, 2)\n",
    "\n",
    "    # Calculate Euclidean distance between head and beak_tip\n",
    "    head_size = torch.norm(head - beak_tip, p=2, dim=1)  # Shape: (batch_size,)\n",
    "\n",
    "    return head_size\n"
   ]
  },
  {
   "cell_type": "code",
   "execution_count": 65,
   "metadata": {},
   "outputs": [],
   "source": [
    "# When the threshold is 0.2 in the PCKh (Percentage of Correct Keypoints with Head Normalization) calculation,\n",
    "# it means that a predicted keypoint is considered correct\n",
    "# if the Euclidean distance between the predicted and ground truth keypoints is less than 20% of the head size.\n",
    "\n",
    "def pckh(predictions, ground_truth, head_size, threshold=0.2):\n",
    "    \"\"\"\n",
    "    Calculate PCKh (Percentage of Correct Keypoints with Head Normalization) for a batch of predictions.\n",
    "\n",
    "    Args:\n",
    "        predictions (Tensor): Predicted keypoints, shape (batch_size, num_keypoints * 2)\n",
    "        ground_truth (Tensor): Ground truth keypoints, shape (batch_size, num_keypoints * 2)\n",
    "        head_size (Tensor): Normalizing head size for each sample, shape (batch_size,)\n",
    "        threshold (float): Normalized distance threshold (percentage of head size)\n",
    "\n",
    "    Returns:\n",
    "        float: PCKh metric as a percentage of correct keypoints\n",
    "    \"\"\"\n",
    "    batch_size, num_flattened = predictions.size()\n",
    "    num_keypoints = num_flattened // 2  # Derive number of keypoints\n",
    "    \n",
    "    # Reshape flattened predictions and ground truth to (batch_size, num_keypoints, 2)\n",
    "    predictions = predictions.view(batch_size, num_keypoints, 2)\n",
    "    ground_truth = ground_truth.view(batch_size, num_keypoints, 2)\n",
    "    \n",
    "    # Calculate Euclidean distance between predicted and ground truth keypoints\n",
    "    distance = torch.norm(predictions - ground_truth, p=2, dim=2)  # shape: (batch_size, num_keypoints)\n",
    "    \n",
    "    # Normalize by head size for PCKh\n",
    "    normalized_distance = distance / head_size.unsqueeze(1)  # shape: (batch_size, num_keypoints)\n",
    "    \n",
    "    # Calculate PCKh: Count keypoints that are within the threshold\n",
    "    correct_keypoints = (normalized_distance < threshold).float()  # shape: (batch_size, num_keypoints)\n",
    "    \n",
    "    # Compute the percentage of correct keypoints\n",
    "    pckh = correct_keypoints.sum() / (batch_size * num_keypoints) * 100\n",
    "    \n",
    "    return pckh.item()\n",
    "\n",
    "\n",
    "def pe_accuracy(model, dataloader, device):\n",
    "    \"\"\"\n",
    "    Calculate PCKh accuracy for the entire dataset.\n",
    "\n",
    "    Args:\n",
    "        model (nn.Module): The pose estimation model\n",
    "        dataloader (DataLoader): DataLoader providing the dataset\n",
    "        device (str): Device to run the model on (either 'cuda' or 'cpu')\n",
    "\n",
    "    Returns:\n",
    "        float: Average PCKh for the dataset\n",
    "    \"\"\"\n",
    "    model.eval()  # Set model to evaluation mode\n",
    "    total_pckh = 0.0\n",
    "    total_samples = 0\n",
    "\n",
    "    with torch.inference_mode():  # Disable gradient calculation for evaluation\n",
    "        for images, keypoints in dataloader:\n",
    "            images = images.to(device)\n",
    "            keypoints = keypoints.to(device)\n",
    "            head_sizes = calculate_head_size(keypoints).to(device)\n",
    "            \n",
    "            # Predict keypoints\n",
    "            outputs = model(images)\n",
    "            \n",
    "            # Calculate PCKh for the current batch\n",
    "            batch_pckh = pckh(outputs, keypoints, head_sizes)\n",
    "            \n",
    "            total_pckh += batch_pckh * images.size(0)\n",
    "            total_samples += images.size(0)\n",
    "\n",
    "    # Calculate the average PCKh for the dataset\n",
    "    average_pckh = total_pckh / total_samples\n",
    "    return average_pckh"
   ]
  },
  {
   "cell_type": "code",
   "execution_count": null,
   "metadata": {},
   "outputs": [
    {
     "data": {
      "text/html": [
       "<pre style=\"white-space:pre;overflow-x:auto;line-height:normal;font-family:Menlo,'DejaVu Sans Mono',consolas,'Courier New',monospace\">Average PCKh: <span style=\"color: #008080; text-decoration-color: #008080; font-weight: bold\">93.04</span>%\n",
       "</pre>\n"
      ],
      "text/plain": [
       "Average PCKh: \u001b[1;36m93.04\u001b[0m%\n"
      ]
     },
     "metadata": {},
     "output_type": "display_data"
    }
   ],
   "source": [
    "# List all model files\n",
    "model_files = [f for f in os.listdir(MODEL_PATH) if f.endswith('.pth')]\n",
    "\n",
    "if model_files:\n",
    "    # Sort the files by timestamp in descending order (newest first)\n",
    "    latest_model_file = sorted(model_files, reverse=True)[0]\n",
    "\n",
    "    # Get the full path of the latest model\n",
    "    latest_model_path = os.path.join(MODEL_PATH, latest_model_file)\n",
    "\n",
    "    # Load the model\n",
    "    model = BirdPoseModel(NUM_KEYPOINTS)\n",
    "    model.load_state_dict(torch.load(full_path, map_location=device, weights_only=True)) \n",
    "    model.to(device) \n",
    "\n",
    "    average_pckh = pe_accuracy(model, dataloader, device)\n",
    "    print(f\"Average PCKh: {average_pckh:.2f}%\")\n",
    "else:\n",
    "    print(\"No model files found in the directory.\")"
   ]
  },
  {
   "cell_type": "code",
   "execution_count": null,
   "metadata": {},
   "outputs": [],
   "source": [
    "# The Average PCKh (Percentage of Correct Keypoints with Head Normalization) being 94% means that on average,\n",
    "# only 94% of the predicted keypoints are within the specified \"threshold=0.2\" (e.g., 20% of the head size) across the dataset."
   ]
  }
 ],
 "metadata": {
  "kernelspec": {
   "display_name": "deep_learning",
   "language": "python",
   "name": "python3"
  },
  "language_info": {
   "codemirror_mode": {
    "name": "ipython",
    "version": 3
   },
   "file_extension": ".py",
   "mimetype": "text/x-python",
   "name": "python",
   "nbconvert_exporter": "python",
   "pygments_lexer": "ipython3",
   "version": "3.12.7"
  }
 },
 "nbformat": 4,
 "nbformat_minor": 2
}
