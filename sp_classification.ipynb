{
 "cells": [
  {
   "cell_type": "code",
   "execution_count": 1,
   "metadata": {},
   "outputs": [],
   "source": [
    "# Research Paper\n",
    "# [Spatial Temporal Graph Convolutional Networks for Skeleton-Based Action Recognition](https://arxiv.org/abs/1801.07455)\n",
    "# [On loss functions and regret bounds for multi-category classification](https://arxiv.org/abs/2005.08155)"
   ]
  },
  {
   "cell_type": "code",
   "execution_count": null,
   "metadata": {},
   "outputs": [],
   "source": [
    "# Input: Keypoints [T, num_keypoints, 2] (e.g., [30, 8, 2])\n",
    "#     ↓\n",
    "# Graph Feature Extractor (GCN):\n",
    "#     - Models relationships between body parts\n",
    "#     - Outputs spatial embeddings [T, num_keypoints, d]\n",
    "#     ↓\n",
    "# Temporal Module (GRU or Attention Mechanics):\n",
    "#     - Captures temporal dynamics in keypoint movement\n",
    "#     - Outputs temporal embeddings [T, d]\n",
    "#     ↓\n",
    "# Global Average Pooling:\n",
    "#     - Aggregates information across time\n",
    "#     ↓\n",
    "# Fully Connected Layers:\n",
    "#     - Dense layers for classification\n",
    "#     - Dropout for regularization\n",
    "#     ↓\n",
    "# Output: Behavior Class Probabilities\n"
   ]
  },
  {
   "cell_type": "code",
   "execution_count": 3,
   "metadata": {},
   "outputs": [],
   "source": [
    "import sys\n",
    "import os\n",
    "\n",
    "sys.path.append(os.path.dirname(os.getcwd()))"
   ]
  },
  {
   "cell_type": "code",
   "execution_count": 4,
   "metadata": {},
   "outputs": [],
   "source": [
    "from sp_utils import update_config, pose_estimation, classification , save_model"
   ]
  },
  {
   "cell_type": "code",
   "execution_count": null,
   "metadata": {},
   "outputs": [],
   "source": [
    "import pandas as pd\n",
    "from sklearn.metrics import accuracy_score\n",
    "\n",
    "from rich import print\n",
    "import os"
   ]
  },
  {
   "cell_type": "code",
   "execution_count": null,
   "metadata": {},
   "outputs": [],
   "source": [
    "import torch\n",
    "import torch.nn as nn\n",
    "\n",
    "from torch.utils.data import DataLoader\n",
    "from torchvision import transforms"
   ]
  },
  {
   "cell_type": "code",
   "execution_count": 7,
   "metadata": {},
   "outputs": [],
   "source": [
    "IMG_WIDTH = 320\n",
    "IMG_HEIGHT = 240\n",
    "NUM_KEYPOINTS = 7\n",
    "NUM_BATCH = 16\n",
    "\n",
    "CONFIG_PATH = \"config.json\"\n",
    "MODEL_PATH = \"models/classification\"\n",
    "DATASET_ROOT = \"datasets\"\n",
    "TRAIN_DATASET_FILE = DATASET_ROOT + \"/train_dataset.csv\"\n",
    "TEST_DATASET_FILE = DATASET_ROOT + \"/test_dataset.csv\"\n",
    "\n",
    "\n",
    "train_df = pd.read_csv(TRAIN_DATASET_FILE)\n",
    "test_df = pd.read_csv(TEST_DATASET_FILE)"
   ]
  },
  {
   "cell_type": "code",
   "execution_count": 8,
   "metadata": {},
   "outputs": [
    {
     "data": {
      "text/html": [
       "<div>\n",
       "<style scoped>\n",
       "    .dataframe tbody tr th:only-of-type {\n",
       "        vertical-align: middle;\n",
       "    }\n",
       "\n",
       "    .dataframe tbody tr th {\n",
       "        vertical-align: top;\n",
       "    }\n",
       "\n",
       "    .dataframe thead th {\n",
       "        text-align: right;\n",
       "    }\n",
       "</style>\n",
       "<table border=\"1\" class=\"dataframe\">\n",
       "  <thead>\n",
       "    <tr style=\"text-align: right;\">\n",
       "      <th></th>\n",
       "      <th>behavior</th>\n",
       "      <th>image_id</th>\n",
       "      <th>image_file</th>\n",
       "      <th>head_x</th>\n",
       "      <th>head_y</th>\n",
       "      <th>beak_base_x</th>\n",
       "      <th>beak_base_y</th>\n",
       "      <th>beak_tip_x</th>\n",
       "      <th>beak_tip_y</th>\n",
       "      <th>neck_x</th>\n",
       "      <th>neck_y</th>\n",
       "      <th>body1_x</th>\n",
       "      <th>body1_y</th>\n",
       "      <th>body2_x</th>\n",
       "      <th>body2_y</th>\n",
       "      <th>tail_base_x</th>\n",
       "      <th>tail_base_y</th>\n",
       "    </tr>\n",
       "  </thead>\n",
       "  <tbody>\n",
       "    <tr>\n",
       "      <th>0</th>\n",
       "      <td>1</td>\n",
       "      <td>p_018</td>\n",
       "      <td>79-20151219231702-00.jpg</td>\n",
       "      <td>65.861956</td>\n",
       "      <td>53.596922</td>\n",
       "      <td>91.482298</td>\n",
       "      <td>103.698925</td>\n",
       "      <td>102.299776</td>\n",
       "      <td>124.764540</td>\n",
       "      <td>128.489460</td>\n",
       "      <td>96.866834</td>\n",
       "      <td>150.124416</td>\n",
       "      <td>158.355656</td>\n",
       "      <td>320.357358</td>\n",
       "      <td>127.041904</td>\n",
       "      <td>358.503202</td>\n",
       "      <td>38.794058</td>\n",
       "    </tr>\n",
       "    <tr>\n",
       "      <th>1</th>\n",
       "      <td>1</td>\n",
       "      <td>p_018</td>\n",
       "      <td>79-20151219231703-00.jpg</td>\n",
       "      <td>72.694047</td>\n",
       "      <td>29.115262</td>\n",
       "      <td>82.372843</td>\n",
       "      <td>87.188038</td>\n",
       "      <td>75.540752</td>\n",
       "      <td>116.224426</td>\n",
       "      <td>117.102641</td>\n",
       "      <td>88.896061</td>\n",
       "      <td>147.277711</td>\n",
       "      <td>158.355656</td>\n",
       "      <td>307.831858</td>\n",
       "      <td>130.457950</td>\n",
       "      <td>362.488588</td>\n",
       "      <td>34.808671</td>\n",
       "    </tr>\n",
       "    <tr>\n",
       "      <th>2</th>\n",
       "      <td>1</td>\n",
       "      <td>p_018</td>\n",
       "      <td>79-20151219231704-00.jpg</td>\n",
       "      <td>80.095479</td>\n",
       "      <td>14.881738</td>\n",
       "      <td>78.387457</td>\n",
       "      <td>72.954514</td>\n",
       "      <td>59.029864</td>\n",
       "      <td>95.158811</td>\n",
       "      <td>102.869117</td>\n",
       "      <td>87.188038</td>\n",
       "      <td>152.971121</td>\n",
       "      <td>161.202361</td>\n",
       "      <td>298.153061</td>\n",
       "      <td>137.290041</td>\n",
       "      <td>348.255065</td>\n",
       "      <td>47.903513</td>\n",
       "    </tr>\n",
       "    <tr>\n",
       "      <th>3</th>\n",
       "      <td>1</td>\n",
       "      <td>p_018</td>\n",
       "      <td>79-20151219231705-00.jpg</td>\n",
       "      <td>69.278001</td>\n",
       "      <td>29.115262</td>\n",
       "      <td>77.248775</td>\n",
       "      <td>82.633310</td>\n",
       "      <td>59.599205</td>\n",
       "      <td>96.866834</td>\n",
       "      <td>101.730435</td>\n",
       "      <td>90.604084</td>\n",
       "      <td>129.058801</td>\n",
       "      <td>158.924997</td>\n",
       "      <td>286.196902</td>\n",
       "      <td>146.399496</td>\n",
       "      <td>340.284291</td>\n",
       "      <td>33.100648</td>\n",
       "    </tr>\n",
       "    <tr>\n",
       "      <th>4</th>\n",
       "      <td>1</td>\n",
       "      <td>p_018</td>\n",
       "      <td>79-20151219231706-00.jpg</td>\n",
       "      <td>88.066253</td>\n",
       "      <td>9.757669</td>\n",
       "      <td>86.927571</td>\n",
       "      <td>68.969128</td>\n",
       "      <td>72.124706</td>\n",
       "      <td>84.341333</td>\n",
       "      <td>109.131868</td>\n",
       "      <td>105.976289</td>\n",
       "      <td>148.985734</td>\n",
       "      <td>165.187748</td>\n",
       "      <td>307.831858</td>\n",
       "      <td>136.720700</td>\n",
       "      <td>339.714950</td>\n",
       "      <td>33.100648</td>\n",
       "    </tr>\n",
       "  </tbody>\n",
       "</table>\n",
       "</div>"
      ],
      "text/plain": [
       "   behavior image_id                image_file     head_x     head_y  \\\n",
       "0         1    p_018  79-20151219231702-00.jpg  65.861956  53.596922   \n",
       "1         1    p_018  79-20151219231703-00.jpg  72.694047  29.115262   \n",
       "2         1    p_018  79-20151219231704-00.jpg  80.095479  14.881738   \n",
       "3         1    p_018  79-20151219231705-00.jpg  69.278001  29.115262   \n",
       "4         1    p_018  79-20151219231706-00.jpg  88.066253   9.757669   \n",
       "\n",
       "   beak_base_x  beak_base_y  beak_tip_x  beak_tip_y      neck_x      neck_y  \\\n",
       "0    91.482298   103.698925  102.299776  124.764540  128.489460   96.866834   \n",
       "1    82.372843    87.188038   75.540752  116.224426  117.102641   88.896061   \n",
       "2    78.387457    72.954514   59.029864   95.158811  102.869117   87.188038   \n",
       "3    77.248775    82.633310   59.599205   96.866834  101.730435   90.604084   \n",
       "4    86.927571    68.969128   72.124706   84.341333  109.131868  105.976289   \n",
       "\n",
       "      body1_x     body1_y     body2_x     body2_y  tail_base_x  tail_base_y  \n",
       "0  150.124416  158.355656  320.357358  127.041904   358.503202    38.794058  \n",
       "1  147.277711  158.355656  307.831858  130.457950   362.488588    34.808671  \n",
       "2  152.971121  161.202361  298.153061  137.290041   348.255065    47.903513  \n",
       "3  129.058801  158.924997  286.196902  146.399496   340.284291    33.100648  \n",
       "4  148.985734  165.187748  307.831858  136.720700   339.714950    33.100648  "
      ]
     },
     "execution_count": 8,
     "metadata": {},
     "output_type": "execute_result"
    }
   ],
   "source": [
    "train_df.head()"
   ]
  },
  {
   "cell_type": "code",
   "execution_count": 9,
   "metadata": {},
   "outputs": [
    {
     "data": {
      "text/html": [
       "<pre style=\"white-space:pre;overflow-x:auto;line-height:normal;font-family:Menlo,'DejaVu Sans Mono',consolas,'Courier New',monospace\">\n",
       "Device: cuda\n",
       "Device CUDNN enabled: <span style=\"color: #00ff00; text-decoration-color: #00ff00; font-style: italic\">True</span>\n",
       "\n",
       "</pre>\n"
      ],
      "text/plain": [
       "\n",
       "Device: cuda\n",
       "Device CUDNN enabled: \u001b[3;92mTrue\u001b[0m\n",
       "\n"
      ]
     },
     "metadata": {},
     "output_type": "display_data"
    }
   ],
   "source": [
    "# Device-Agnostic\n",
    "DeviceLikeType = 'cuda' if torch.cuda.is_available() else 'cpu'\n",
    "device = torch.device(DeviceLikeType)\n",
    "print(f\"\"\"\n",
    "Device: {device}\n",
    "Device CUDNN enabled: {torch.backends.cudnn.enabled}\n",
    "\"\"\")"
   ]
  },
  {
   "cell_type": "code",
   "execution_count": null,
   "metadata": {},
   "outputs": [],
   "source": [
    "LABELS = [\"nesting\", \"preening\"] # [0, 1]\n",
    "NUM_CLASS = len(train_df[\"behavior\"].unique())\n",
    "HIDDEN_DIM = 128\n"
   ]
  },
  {
   "cell_type": "code",
   "execution_count": null,
   "metadata": {},
   "outputs": [],
   "source": [
    "# Image Transformations Defination\n",
    "img_transform = transforms.Compose([\n",
    "    transforms.Resize((IMG_HEIGHT, IMG_WIDTH)),\n",
    "    transforms.ToTensor(),\n",
    "])\n",
    "\n",
    "kp_transform = pose_estimation.NormalizeKeypoints(IMG_WIDTH, IMG_HEIGHT)\n",
    "\n",
    "# Create datasets\n",
    "train_dataset = classification.BehaviorDataset(\n",
    "    dataframe=train_df, \n",
    "    dataset_root_folder=DATASET_ROOT, \n",
    "    img_transform=img_transform, \n",
    "    kp_transform=kp_transform\n",
    ")\n",
    "\n",
    "test_dataset = classification.BehaviorDataset(\n",
    "    dataframe=test_df, \n",
    "    dataset_root_folder=DATASET_ROOT, \n",
    "    img_transform=img_transform, \n",
    "    kp_transform=kp_transform\n",
    ")\n",
    "\n",
    "# Create dataloaders\n",
    "train_loader = DataLoader(train_dataset, batch_size=NUM_BATCH, shuffle=True, num_workers=0, pin_memory=True)\n",
    "test_loader = DataLoader(test_dataset, batch_size=NUM_BATCH, shuffle=False, num_workers=0, pin_memory=True)"
   ]
  },
  {
   "cell_type": "code",
   "execution_count": null,
   "metadata": {},
   "outputs": [],
   "source": [
    "model = classification.BirdBehaviorClassifier(NUM_KEYPOINTS, HIDDEN_DIM).to(device)"
   ]
  },
  {
   "cell_type": "code",
   "execution_count": 14,
   "metadata": {},
   "outputs": [
    {
     "data": {
      "text/html": [
       "<pre style=\"white-space:pre;overflow-x:auto;line-height:normal;font-family:Menlo,'DejaVu Sans Mono',consolas,'Courier New',monospace\">Edges: <span style=\"color: #800080; text-decoration-color: #800080; font-weight: bold\">tensor</span><span style=\"font-weight: bold\">([[</span><span style=\"color: #008080; text-decoration-color: #008080; font-weight: bold\">0</span>, <span style=\"color: #008080; text-decoration-color: #008080; font-weight: bold\">1</span>, <span style=\"color: #008080; text-decoration-color: #008080; font-weight: bold\">0</span>, <span style=\"color: #008080; text-decoration-color: #008080; font-weight: bold\">3</span>, <span style=\"color: #008080; text-decoration-color: #008080; font-weight: bold\">4</span>, <span style=\"color: #008080; text-decoration-color: #008080; font-weight: bold\">5</span><span style=\"font-weight: bold\">]</span>,\n",
       "        <span style=\"font-weight: bold\">[</span><span style=\"color: #008080; text-decoration-color: #008080; font-weight: bold\">1</span>, <span style=\"color: #008080; text-decoration-color: #008080; font-weight: bold\">2</span>, <span style=\"color: #008080; text-decoration-color: #008080; font-weight: bold\">3</span>, <span style=\"color: #008080; text-decoration-color: #008080; font-weight: bold\">4</span>, <span style=\"color: #008080; text-decoration-color: #008080; font-weight: bold\">5</span>, <span style=\"color: #008080; text-decoration-color: #008080; font-weight: bold\">6</span><span style=\"font-weight: bold\">]]</span>, <span style=\"color: #808000; text-decoration-color: #808000\">device</span>=<span style=\"color: #008000; text-decoration-color: #008000\">'cuda:0'</span><span style=\"font-weight: bold\">)</span>\n",
       "</pre>\n"
      ],
      "text/plain": [
       "Edges: \u001b[1;35mtensor\u001b[0m\u001b[1m(\u001b[0m\u001b[1m[\u001b[0m\u001b[1m[\u001b[0m\u001b[1;36m0\u001b[0m, \u001b[1;36m1\u001b[0m, \u001b[1;36m0\u001b[0m, \u001b[1;36m3\u001b[0m, \u001b[1;36m4\u001b[0m, \u001b[1;36m5\u001b[0m\u001b[1m]\u001b[0m,\n",
       "        \u001b[1m[\u001b[0m\u001b[1;36m1\u001b[0m, \u001b[1;36m2\u001b[0m, \u001b[1;36m3\u001b[0m, \u001b[1;36m4\u001b[0m, \u001b[1;36m5\u001b[0m, \u001b[1;36m6\u001b[0m\u001b[1m]\u001b[0m\u001b[1m]\u001b[0m, \u001b[33mdevice\u001b[0m=\u001b[32m'cuda:0'\u001b[0m\u001b[1m)\u001b[0m\n"
      ]
     },
     "metadata": {},
     "output_type": "display_data"
    }
   ],
   "source": [
    "# Assuming num_keypoints corresponds to the number of keypoints in your skeleton\n",
    "num_keypoints = 7\n",
    "\n",
    "# Define the skeleton as pairs of connected keypoints\n",
    "skeleton = [\n",
    "    [\"head\", \"beak_base\"],\n",
    "    [\"beak_base\", \"beak_tip\"],\n",
    "    [\"head\", \"neck\"],\n",
    "    [\"neck\", \"body1\"],\n",
    "    [\"body1\", \"body2\"],\n",
    "    [\"body2\", \"tail_base\"]\n",
    "]\n",
    "\n",
    "# Map keypoint names to indices\n",
    "keypoint_names = [\n",
    "    \"head\", \"beak_base\", \"beak_tip\", \"neck\", \"body1\", \"body2\", \"tail_base\"\n",
    "]\n",
    "\n",
    "keypoint_index_map = {name: idx for idx, name in enumerate(keypoint_names)}\n",
    "\n",
    "# Generate edges based on the skeleton\n",
    "edges = []\n",
    "for connection in skeleton:\n",
    "    idx1 = keypoint_index_map[connection[0]]\n",
    "    idx2 = keypoint_index_map[connection[1]]\n",
    "    edges.append([idx1, idx2])\n",
    "\n",
    "# Convert edges to tensor and move to device (e.g., CUDA or CPU)\n",
    "edges = torch.tensor(edges).t().to(device)\n",
    "\n",
    "# Print edges for validation\n",
    "print(\"Edges:\", edges)"
   ]
  },
  {
   "cell_type": "code",
   "execution_count": 15,
   "metadata": {},
   "outputs": [],
   "source": [
    "EPOCHS = 50\n",
    "LEARNING_RATE = 1e-4\n",
    "WEIGHT_DECAY = 1e-4"
   ]
  },
  {
   "cell_type": "code",
   "execution_count": null,
   "metadata": {},
   "outputs": [
    {
     "name": "stderr",
     "output_type": "stream",
     "text": [
      "Epoch 1/50: 100%|██████████| 66/66 [00:04<00:00, 13.39batch/s, batch_loss=0.624]\n"
     ]
    },
    {
     "data": {
      "text/html": [
       "<pre style=\"white-space:pre;overflow-x:auto;line-height:normal;font-family:Menlo,'DejaVu Sans Mono',consolas,'Courier New',monospace\">Epoch <span style=\"font-weight: bold\">[</span><span style=\"color: #008080; text-decoration-color: #008080; font-weight: bold\">1</span>/<span style=\"color: #008080; text-decoration-color: #008080; font-weight: bold\">50</span><span style=\"font-weight: bold\">]</span> - Loss: <span style=\"color: #008080; text-decoration-color: #008080; font-weight: bold\">0.7058</span>, Accuracy: <span style=\"color: #008080; text-decoration-color: #008080; font-weight: bold\">0.4670</span>\n",
       "</pre>\n"
      ],
      "text/plain": [
       "Epoch \u001b[1m[\u001b[0m\u001b[1;36m1\u001b[0m/\u001b[1;36m50\u001b[0m\u001b[1m]\u001b[0m - Loss: \u001b[1;36m0.7058\u001b[0m, Accuracy: \u001b[1;36m0.4670\u001b[0m\n"
      ]
     },
     "metadata": {},
     "output_type": "display_data"
    },
    {
     "name": "stderr",
     "output_type": "stream",
     "text": [
      "Epoch 2/50: 100%|██████████| 66/66 [00:03<00:00, 21.42batch/s, batch_loss=0.792]\n"
     ]
    },
    {
     "data": {
      "text/html": [
       "<pre style=\"white-space:pre;overflow-x:auto;line-height:normal;font-family:Menlo,'DejaVu Sans Mono',consolas,'Courier New',monospace\">Epoch <span style=\"font-weight: bold\">[</span><span style=\"color: #008080; text-decoration-color: #008080; font-weight: bold\">2</span>/<span style=\"color: #008080; text-decoration-color: #008080; font-weight: bold\">50</span><span style=\"font-weight: bold\">]</span> - Loss: <span style=\"color: #008080; text-decoration-color: #008080; font-weight: bold\">0.7054</span>, Accuracy: <span style=\"color: #008080; text-decoration-color: #008080; font-weight: bold\">0.4670</span>\n",
       "</pre>\n"
      ],
      "text/plain": [
       "Epoch \u001b[1m[\u001b[0m\u001b[1;36m2\u001b[0m/\u001b[1;36m50\u001b[0m\u001b[1m]\u001b[0m - Loss: \u001b[1;36m0.7054\u001b[0m, Accuracy: \u001b[1;36m0.4670\u001b[0m\n"
      ]
     },
     "metadata": {},
     "output_type": "display_data"
    },
    {
     "name": "stderr",
     "output_type": "stream",
     "text": [
      "Epoch 3/50: 100%|██████████| 66/66 [00:03<00:00, 20.66batch/s, batch_loss=0.667]\n"
     ]
    },
    {
     "data": {
      "text/html": [
       "<pre style=\"white-space:pre;overflow-x:auto;line-height:normal;font-family:Menlo,'DejaVu Sans Mono',consolas,'Courier New',monospace\">Epoch <span style=\"font-weight: bold\">[</span><span style=\"color: #008080; text-decoration-color: #008080; font-weight: bold\">3</span>/<span style=\"color: #008080; text-decoration-color: #008080; font-weight: bold\">50</span><span style=\"font-weight: bold\">]</span> - Loss: <span style=\"color: #008080; text-decoration-color: #008080; font-weight: bold\">0.7017</span>, Accuracy: <span style=\"color: #008080; text-decoration-color: #008080; font-weight: bold\">0.4670</span>\n",
       "</pre>\n"
      ],
      "text/plain": [
       "Epoch \u001b[1m[\u001b[0m\u001b[1;36m3\u001b[0m/\u001b[1;36m50\u001b[0m\u001b[1m]\u001b[0m - Loss: \u001b[1;36m0.7017\u001b[0m, Accuracy: \u001b[1;36m0.4670\u001b[0m\n"
      ]
     },
     "metadata": {},
     "output_type": "display_data"
    },
    {
     "name": "stderr",
     "output_type": "stream",
     "text": [
      "Epoch 4/50: 100%|██████████| 66/66 [00:03<00:00, 20.82batch/s, batch_loss=0.707]\n"
     ]
    },
    {
     "data": {
      "text/html": [
       "<pre style=\"white-space:pre;overflow-x:auto;line-height:normal;font-family:Menlo,'DejaVu Sans Mono',consolas,'Courier New',monospace\">Epoch <span style=\"font-weight: bold\">[</span><span style=\"color: #008080; text-decoration-color: #008080; font-weight: bold\">4</span>/<span style=\"color: #008080; text-decoration-color: #008080; font-weight: bold\">50</span><span style=\"font-weight: bold\">]</span> - Loss: <span style=\"color: #008080; text-decoration-color: #008080; font-weight: bold\">0.6983</span>, Accuracy: <span style=\"color: #008080; text-decoration-color: #008080; font-weight: bold\">0.4690</span>\n",
       "</pre>\n"
      ],
      "text/plain": [
       "Epoch \u001b[1m[\u001b[0m\u001b[1;36m4\u001b[0m/\u001b[1;36m50\u001b[0m\u001b[1m]\u001b[0m - Loss: \u001b[1;36m0.6983\u001b[0m, Accuracy: \u001b[1;36m0.4690\u001b[0m\n"
      ]
     },
     "metadata": {},
     "output_type": "display_data"
    },
    {
     "name": "stderr",
     "output_type": "stream",
     "text": [
      "Epoch 5/50: 100%|██████████| 66/66 [00:03<00:00, 21.12batch/s, batch_loss=0.68] \n"
     ]
    },
    {
     "data": {
      "text/html": [
       "<pre style=\"white-space:pre;overflow-x:auto;line-height:normal;font-family:Menlo,'DejaVu Sans Mono',consolas,'Courier New',monospace\">Epoch <span style=\"font-weight: bold\">[</span><span style=\"color: #008080; text-decoration-color: #008080; font-weight: bold\">5</span>/<span style=\"color: #008080; text-decoration-color: #008080; font-weight: bold\">50</span><span style=\"font-weight: bold\">]</span> - Loss: <span style=\"color: #008080; text-decoration-color: #008080; font-weight: bold\">0.6928</span>, Accuracy: <span style=\"color: #008080; text-decoration-color: #008080; font-weight: bold\">0.5129</span>\n",
       "</pre>\n"
      ],
      "text/plain": [
       "Epoch \u001b[1m[\u001b[0m\u001b[1;36m5\u001b[0m/\u001b[1;36m50\u001b[0m\u001b[1m]\u001b[0m - Loss: \u001b[1;36m0.6928\u001b[0m, Accuracy: \u001b[1;36m0.5129\u001b[0m\n"
      ]
     },
     "metadata": {},
     "output_type": "display_data"
    },
    {
     "name": "stderr",
     "output_type": "stream",
     "text": [
      "Epoch 6/50: 100%|██████████| 66/66 [00:03<00:00, 21.52batch/s, batch_loss=0.701]\n"
     ]
    },
    {
     "data": {
      "text/html": [
       "<pre style=\"white-space:pre;overflow-x:auto;line-height:normal;font-family:Menlo,'DejaVu Sans Mono',consolas,'Courier New',monospace\">Epoch <span style=\"font-weight: bold\">[</span><span style=\"color: #008080; text-decoration-color: #008080; font-weight: bold\">6</span>/<span style=\"color: #008080; text-decoration-color: #008080; font-weight: bold\">50</span><span style=\"font-weight: bold\">]</span> - Loss: <span style=\"color: #008080; text-decoration-color: #008080; font-weight: bold\">0.6900</span>, Accuracy: <span style=\"color: #008080; text-decoration-color: #008080; font-weight: bold\">0.5396</span>\n",
       "</pre>\n"
      ],
      "text/plain": [
       "Epoch \u001b[1m[\u001b[0m\u001b[1;36m6\u001b[0m/\u001b[1;36m50\u001b[0m\u001b[1m]\u001b[0m - Loss: \u001b[1;36m0.6900\u001b[0m, Accuracy: \u001b[1;36m0.5396\u001b[0m\n"
      ]
     },
     "metadata": {},
     "output_type": "display_data"
    },
    {
     "name": "stderr",
     "output_type": "stream",
     "text": [
      "Epoch 7/50: 100%|██████████| 66/66 [00:03<00:00, 21.15batch/s, batch_loss=0.696]\n"
     ]
    },
    {
     "data": {
      "text/html": [
       "<pre style=\"white-space:pre;overflow-x:auto;line-height:normal;font-family:Menlo,'DejaVu Sans Mono',consolas,'Courier New',monospace\">Epoch <span style=\"font-weight: bold\">[</span><span style=\"color: #008080; text-decoration-color: #008080; font-weight: bold\">7</span>/<span style=\"color: #008080; text-decoration-color: #008080; font-weight: bold\">50</span><span style=\"font-weight: bold\">]</span> - Loss: <span style=\"color: #008080; text-decoration-color: #008080; font-weight: bold\">0.6877</span>, Accuracy: <span style=\"color: #008080; text-decoration-color: #008080; font-weight: bold\">0.5406</span>\n",
       "</pre>\n"
      ],
      "text/plain": [
       "Epoch \u001b[1m[\u001b[0m\u001b[1;36m7\u001b[0m/\u001b[1;36m50\u001b[0m\u001b[1m]\u001b[0m - Loss: \u001b[1;36m0.6877\u001b[0m, Accuracy: \u001b[1;36m0.5406\u001b[0m\n"
      ]
     },
     "metadata": {},
     "output_type": "display_data"
    },
    {
     "name": "stderr",
     "output_type": "stream",
     "text": [
      "Epoch 8/50: 100%|██████████| 66/66 [00:03<00:00, 21.81batch/s, batch_loss=0.731]\n"
     ]
    },
    {
     "data": {
      "text/html": [
       "<pre style=\"white-space:pre;overflow-x:auto;line-height:normal;font-family:Menlo,'DejaVu Sans Mono',consolas,'Courier New',monospace\">Epoch <span style=\"font-weight: bold\">[</span><span style=\"color: #008080; text-decoration-color: #008080; font-weight: bold\">8</span>/<span style=\"color: #008080; text-decoration-color: #008080; font-weight: bold\">50</span><span style=\"font-weight: bold\">]</span> - Loss: <span style=\"color: #008080; text-decoration-color: #008080; font-weight: bold\">0.6882</span>, Accuracy: <span style=\"color: #008080; text-decoration-color: #008080; font-weight: bold\">0.5425</span>\n",
       "</pre>\n"
      ],
      "text/plain": [
       "Epoch \u001b[1m[\u001b[0m\u001b[1;36m8\u001b[0m/\u001b[1;36m50\u001b[0m\u001b[1m]\u001b[0m - Loss: \u001b[1;36m0.6882\u001b[0m, Accuracy: \u001b[1;36m0.5425\u001b[0m\n"
      ]
     },
     "metadata": {},
     "output_type": "display_data"
    },
    {
     "name": "stderr",
     "output_type": "stream",
     "text": [
      "Epoch 9/50: 100%|██████████| 66/66 [00:03<00:00, 19.95batch/s, batch_loss=0.681]\n"
     ]
    },
    {
     "data": {
      "text/html": [
       "<pre style=\"white-space:pre;overflow-x:auto;line-height:normal;font-family:Menlo,'DejaVu Sans Mono',consolas,'Courier New',monospace\">Epoch <span style=\"font-weight: bold\">[</span><span style=\"color: #008080; text-decoration-color: #008080; font-weight: bold\">9</span>/<span style=\"color: #008080; text-decoration-color: #008080; font-weight: bold\">50</span><span style=\"font-weight: bold\">]</span> - Loss: <span style=\"color: #008080; text-decoration-color: #008080; font-weight: bold\">0.6815</span>, Accuracy: <span style=\"color: #008080; text-decoration-color: #008080; font-weight: bold\">0.5645</span>\n",
       "</pre>\n"
      ],
      "text/plain": [
       "Epoch \u001b[1m[\u001b[0m\u001b[1;36m9\u001b[0m/\u001b[1;36m50\u001b[0m\u001b[1m]\u001b[0m - Loss: \u001b[1;36m0.6815\u001b[0m, Accuracy: \u001b[1;36m0.5645\u001b[0m\n"
      ]
     },
     "metadata": {},
     "output_type": "display_data"
    },
    {
     "name": "stderr",
     "output_type": "stream",
     "text": [
      "Epoch 10/50: 100%|██████████| 66/66 [00:03<00:00, 17.44batch/s, batch_loss=0.745]\n"
     ]
    },
    {
     "data": {
      "text/html": [
       "<pre style=\"white-space:pre;overflow-x:auto;line-height:normal;font-family:Menlo,'DejaVu Sans Mono',consolas,'Courier New',monospace\">Epoch <span style=\"font-weight: bold\">[</span><span style=\"color: #008080; text-decoration-color: #008080; font-weight: bold\">10</span>/<span style=\"color: #008080; text-decoration-color: #008080; font-weight: bold\">50</span><span style=\"font-weight: bold\">]</span> - Loss: <span style=\"color: #008080; text-decoration-color: #008080; font-weight: bold\">0.6793</span>, Accuracy: <span style=\"color: #008080; text-decoration-color: #008080; font-weight: bold\">0.5635</span>\n",
       "</pre>\n"
      ],
      "text/plain": [
       "Epoch \u001b[1m[\u001b[0m\u001b[1;36m10\u001b[0m/\u001b[1;36m50\u001b[0m\u001b[1m]\u001b[0m - Loss: \u001b[1;36m0.6793\u001b[0m, Accuracy: \u001b[1;36m0.5635\u001b[0m\n"
      ]
     },
     "metadata": {},
     "output_type": "display_data"
    },
    {
     "name": "stderr",
     "output_type": "stream",
     "text": [
      "Epoch 11/50: 100%|██████████| 66/66 [00:03<00:00, 20.29batch/s, batch_loss=0.693]\n"
     ]
    },
    {
     "data": {
      "text/html": [
       "<pre style=\"white-space:pre;overflow-x:auto;line-height:normal;font-family:Menlo,'DejaVu Sans Mono',consolas,'Courier New',monospace\">Epoch <span style=\"font-weight: bold\">[</span><span style=\"color: #008080; text-decoration-color: #008080; font-weight: bold\">11</span>/<span style=\"color: #008080; text-decoration-color: #008080; font-weight: bold\">50</span><span style=\"font-weight: bold\">]</span> - Loss: <span style=\"color: #008080; text-decoration-color: #008080; font-weight: bold\">0.6731</span>, Accuracy: <span style=\"color: #008080; text-decoration-color: #008080; font-weight: bold\">0.5635</span>\n",
       "</pre>\n"
      ],
      "text/plain": [
       "Epoch \u001b[1m[\u001b[0m\u001b[1;36m11\u001b[0m/\u001b[1;36m50\u001b[0m\u001b[1m]\u001b[0m - Loss: \u001b[1;36m0.6731\u001b[0m, Accuracy: \u001b[1;36m0.5635\u001b[0m\n"
      ]
     },
     "metadata": {},
     "output_type": "display_data"
    },
    {
     "name": "stderr",
     "output_type": "stream",
     "text": [
      "Epoch 12/50: 100%|██████████| 66/66 [00:03<00:00, 20.93batch/s, batch_loss=0.641]\n"
     ]
    },
    {
     "data": {
      "text/html": [
       "<pre style=\"white-space:pre;overflow-x:auto;line-height:normal;font-family:Menlo,'DejaVu Sans Mono',consolas,'Courier New',monospace\">Epoch <span style=\"font-weight: bold\">[</span><span style=\"color: #008080; text-decoration-color: #008080; font-weight: bold\">12</span>/<span style=\"color: #008080; text-decoration-color: #008080; font-weight: bold\">50</span><span style=\"font-weight: bold\">]</span> - Loss: <span style=\"color: #008080; text-decoration-color: #008080; font-weight: bold\">0.6648</span>, Accuracy: <span style=\"color: #008080; text-decoration-color: #008080; font-weight: bold\">0.6113</span>\n",
       "</pre>\n"
      ],
      "text/plain": [
       "Epoch \u001b[1m[\u001b[0m\u001b[1;36m12\u001b[0m/\u001b[1;36m50\u001b[0m\u001b[1m]\u001b[0m - Loss: \u001b[1;36m0.6648\u001b[0m, Accuracy: \u001b[1;36m0.6113\u001b[0m\n"
      ]
     },
     "metadata": {},
     "output_type": "display_data"
    },
    {
     "name": "stderr",
     "output_type": "stream",
     "text": [
      "Epoch 13/50: 100%|██████████| 66/66 [00:03<00:00, 20.77batch/s, batch_loss=0.693]\n"
     ]
    },
    {
     "data": {
      "text/html": [
       "<pre style=\"white-space:pre;overflow-x:auto;line-height:normal;font-family:Menlo,'DejaVu Sans Mono',consolas,'Courier New',monospace\">Epoch <span style=\"font-weight: bold\">[</span><span style=\"color: #008080; text-decoration-color: #008080; font-weight: bold\">13</span>/<span style=\"color: #008080; text-decoration-color: #008080; font-weight: bold\">50</span><span style=\"font-weight: bold\">]</span> - Loss: <span style=\"color: #008080; text-decoration-color: #008080; font-weight: bold\">0.6536</span>, Accuracy: <span style=\"color: #008080; text-decoration-color: #008080; font-weight: bold\">0.6170</span>\n",
       "</pre>\n"
      ],
      "text/plain": [
       "Epoch \u001b[1m[\u001b[0m\u001b[1;36m13\u001b[0m/\u001b[1;36m50\u001b[0m\u001b[1m]\u001b[0m - Loss: \u001b[1;36m0.6536\u001b[0m, Accuracy: \u001b[1;36m0.6170\u001b[0m\n"
      ]
     },
     "metadata": {},
     "output_type": "display_data"
    },
    {
     "name": "stderr",
     "output_type": "stream",
     "text": [
      "Epoch 14/50: 100%|██████████| 66/66 [00:03<00:00, 21.52batch/s, batch_loss=0.531]\n"
     ]
    },
    {
     "data": {
      "text/html": [
       "<pre style=\"white-space:pre;overflow-x:auto;line-height:normal;font-family:Menlo,'DejaVu Sans Mono',consolas,'Courier New',monospace\">Epoch <span style=\"font-weight: bold\">[</span><span style=\"color: #008080; text-decoration-color: #008080; font-weight: bold\">14</span>/<span style=\"color: #008080; text-decoration-color: #008080; font-weight: bold\">50</span><span style=\"font-weight: bold\">]</span> - Loss: <span style=\"color: #008080; text-decoration-color: #008080; font-weight: bold\">0.6395</span>, Accuracy: <span style=\"color: #008080; text-decoration-color: #008080; font-weight: bold\">0.6628</span>\n",
       "</pre>\n"
      ],
      "text/plain": [
       "Epoch \u001b[1m[\u001b[0m\u001b[1;36m14\u001b[0m/\u001b[1;36m50\u001b[0m\u001b[1m]\u001b[0m - Loss: \u001b[1;36m0.6395\u001b[0m, Accuracy: \u001b[1;36m0.6628\u001b[0m\n"
      ]
     },
     "metadata": {},
     "output_type": "display_data"
    },
    {
     "name": "stderr",
     "output_type": "stream",
     "text": [
      "Epoch 15/50: 100%|██████████| 66/66 [00:03<00:00, 20.94batch/s, batch_loss=0.695]\n"
     ]
    },
    {
     "data": {
      "text/html": [
       "<pre style=\"white-space:pre;overflow-x:auto;line-height:normal;font-family:Menlo,'DejaVu Sans Mono',consolas,'Courier New',monospace\">Epoch <span style=\"font-weight: bold\">[</span><span style=\"color: #008080; text-decoration-color: #008080; font-weight: bold\">15</span>/<span style=\"color: #008080; text-decoration-color: #008080; font-weight: bold\">50</span><span style=\"font-weight: bold\">]</span> - Loss: <span style=\"color: #008080; text-decoration-color: #008080; font-weight: bold\">0.6135</span>, Accuracy: <span style=\"color: #008080; text-decoration-color: #008080; font-weight: bold\">0.6867</span>\n",
       "</pre>\n"
      ],
      "text/plain": [
       "Epoch \u001b[1m[\u001b[0m\u001b[1;36m15\u001b[0m/\u001b[1;36m50\u001b[0m\u001b[1m]\u001b[0m - Loss: \u001b[1;36m0.6135\u001b[0m, Accuracy: \u001b[1;36m0.6867\u001b[0m\n"
      ]
     },
     "metadata": {},
     "output_type": "display_data"
    },
    {
     "name": "stderr",
     "output_type": "stream",
     "text": [
      "Epoch 16/50: 100%|██████████| 66/66 [00:03<00:00, 20.47batch/s, batch_loss=0.578]\n"
     ]
    },
    {
     "data": {
      "text/html": [
       "<pre style=\"white-space:pre;overflow-x:auto;line-height:normal;font-family:Menlo,'DejaVu Sans Mono',consolas,'Courier New',monospace\">Epoch <span style=\"font-weight: bold\">[</span><span style=\"color: #008080; text-decoration-color: #008080; font-weight: bold\">16</span>/<span style=\"color: #008080; text-decoration-color: #008080; font-weight: bold\">50</span><span style=\"font-weight: bold\">]</span> - Loss: <span style=\"color: #008080; text-decoration-color: #008080; font-weight: bold\">0.5947</span>, Accuracy: <span style=\"color: #008080; text-decoration-color: #008080; font-weight: bold\">0.7011</span>\n",
       "</pre>\n"
      ],
      "text/plain": [
       "Epoch \u001b[1m[\u001b[0m\u001b[1;36m16\u001b[0m/\u001b[1;36m50\u001b[0m\u001b[1m]\u001b[0m - Loss: \u001b[1;36m0.5947\u001b[0m, Accuracy: \u001b[1;36m0.7011\u001b[0m\n"
      ]
     },
     "metadata": {},
     "output_type": "display_data"
    },
    {
     "name": "stderr",
     "output_type": "stream",
     "text": [
      "Epoch 17/50: 100%|██████████| 66/66 [00:03<00:00, 20.36batch/s, batch_loss=0.49] \n"
     ]
    },
    {
     "data": {
      "text/html": [
       "<pre style=\"white-space:pre;overflow-x:auto;line-height:normal;font-family:Menlo,'DejaVu Sans Mono',consolas,'Courier New',monospace\">Epoch <span style=\"font-weight: bold\">[</span><span style=\"color: #008080; text-decoration-color: #008080; font-weight: bold\">17</span>/<span style=\"color: #008080; text-decoration-color: #008080; font-weight: bold\">50</span><span style=\"font-weight: bold\">]</span> - Loss: <span style=\"color: #008080; text-decoration-color: #008080; font-weight: bold\">0.5770</span>, Accuracy: <span style=\"color: #008080; text-decoration-color: #008080; font-weight: bold\">0.7173</span>\n",
       "</pre>\n"
      ],
      "text/plain": [
       "Epoch \u001b[1m[\u001b[0m\u001b[1;36m17\u001b[0m/\u001b[1;36m50\u001b[0m\u001b[1m]\u001b[0m - Loss: \u001b[1;36m0.5770\u001b[0m, Accuracy: \u001b[1;36m0.7173\u001b[0m\n"
      ]
     },
     "metadata": {},
     "output_type": "display_data"
    },
    {
     "name": "stderr",
     "output_type": "stream",
     "text": [
      "Epoch 18/50: 100%|██████████| 66/66 [00:03<00:00, 20.23batch/s, batch_loss=0.871]\n"
     ]
    },
    {
     "data": {
      "text/html": [
       "<pre style=\"white-space:pre;overflow-x:auto;line-height:normal;font-family:Menlo,'DejaVu Sans Mono',consolas,'Courier New',monospace\">Epoch <span style=\"font-weight: bold\">[</span><span style=\"color: #008080; text-decoration-color: #008080; font-weight: bold\">18</span>/<span style=\"color: #008080; text-decoration-color: #008080; font-weight: bold\">50</span><span style=\"font-weight: bold\">]</span> - Loss: <span style=\"color: #008080; text-decoration-color: #008080; font-weight: bold\">0.5730</span>, Accuracy: <span style=\"color: #008080; text-decoration-color: #008080; font-weight: bold\">0.7163</span>\n",
       "</pre>\n"
      ],
      "text/plain": [
       "Epoch \u001b[1m[\u001b[0m\u001b[1;36m18\u001b[0m/\u001b[1;36m50\u001b[0m\u001b[1m]\u001b[0m - Loss: \u001b[1;36m0.5730\u001b[0m, Accuracy: \u001b[1;36m0.7163\u001b[0m\n"
      ]
     },
     "metadata": {},
     "output_type": "display_data"
    },
    {
     "name": "stderr",
     "output_type": "stream",
     "text": [
      "Epoch 19/50: 100%|██████████| 66/66 [00:03<00:00, 20.47batch/s, batch_loss=0.671]\n"
     ]
    },
    {
     "data": {
      "text/html": [
       "<pre style=\"white-space:pre;overflow-x:auto;line-height:normal;font-family:Menlo,'DejaVu Sans Mono',consolas,'Courier New',monospace\">Epoch <span style=\"font-weight: bold\">[</span><span style=\"color: #008080; text-decoration-color: #008080; font-weight: bold\">19</span>/<span style=\"color: #008080; text-decoration-color: #008080; font-weight: bold\">50</span><span style=\"font-weight: bold\">]</span> - Loss: <span style=\"color: #008080; text-decoration-color: #008080; font-weight: bold\">0.5390</span>, Accuracy: <span style=\"color: #008080; text-decoration-color: #008080; font-weight: bold\">0.7431</span>\n",
       "</pre>\n"
      ],
      "text/plain": [
       "Epoch \u001b[1m[\u001b[0m\u001b[1;36m19\u001b[0m/\u001b[1;36m50\u001b[0m\u001b[1m]\u001b[0m - Loss: \u001b[1;36m0.5390\u001b[0m, Accuracy: \u001b[1;36m0.7431\u001b[0m\n"
      ]
     },
     "metadata": {},
     "output_type": "display_data"
    },
    {
     "name": "stderr",
     "output_type": "stream",
     "text": [
      "Epoch 20/50: 100%|██████████| 66/66 [00:03<00:00, 20.38batch/s, batch_loss=0.689]\n"
     ]
    },
    {
     "data": {
      "text/html": [
       "<pre style=\"white-space:pre;overflow-x:auto;line-height:normal;font-family:Menlo,'DejaVu Sans Mono',consolas,'Courier New',monospace\">Epoch <span style=\"font-weight: bold\">[</span><span style=\"color: #008080; text-decoration-color: #008080; font-weight: bold\">20</span>/<span style=\"color: #008080; text-decoration-color: #008080; font-weight: bold\">50</span><span style=\"font-weight: bold\">]</span> - Loss: <span style=\"color: #008080; text-decoration-color: #008080; font-weight: bold\">0.5158</span>, Accuracy: <span style=\"color: #008080; text-decoration-color: #008080; font-weight: bold\">0.7555</span>\n",
       "</pre>\n"
      ],
      "text/plain": [
       "Epoch \u001b[1m[\u001b[0m\u001b[1;36m20\u001b[0m/\u001b[1;36m50\u001b[0m\u001b[1m]\u001b[0m - Loss: \u001b[1;36m0.5158\u001b[0m, Accuracy: \u001b[1;36m0.7555\u001b[0m\n"
      ]
     },
     "metadata": {},
     "output_type": "display_data"
    },
    {
     "name": "stderr",
     "output_type": "stream",
     "text": [
      "Epoch 21/50: 100%|██████████| 66/66 [00:03<00:00, 21.13batch/s, batch_loss=0.381]\n"
     ]
    },
    {
     "data": {
      "text/html": [
       "<pre style=\"white-space:pre;overflow-x:auto;line-height:normal;font-family:Menlo,'DejaVu Sans Mono',consolas,'Courier New',monospace\">Epoch <span style=\"font-weight: bold\">[</span><span style=\"color: #008080; text-decoration-color: #008080; font-weight: bold\">21</span>/<span style=\"color: #008080; text-decoration-color: #008080; font-weight: bold\">50</span><span style=\"font-weight: bold\">]</span> - Loss: <span style=\"color: #008080; text-decoration-color: #008080; font-weight: bold\">0.5196</span>, Accuracy: <span style=\"color: #008080; text-decoration-color: #008080; font-weight: bold\">0.7517</span>\n",
       "</pre>\n"
      ],
      "text/plain": [
       "Epoch \u001b[1m[\u001b[0m\u001b[1;36m21\u001b[0m/\u001b[1;36m50\u001b[0m\u001b[1m]\u001b[0m - Loss: \u001b[1;36m0.5196\u001b[0m, Accuracy: \u001b[1;36m0.7517\u001b[0m\n"
      ]
     },
     "metadata": {},
     "output_type": "display_data"
    },
    {
     "name": "stderr",
     "output_type": "stream",
     "text": [
      "Epoch 22/50: 100%|██████████| 66/66 [00:03<00:00, 20.21batch/s, batch_loss=0.601]\n"
     ]
    },
    {
     "data": {
      "text/html": [
       "<pre style=\"white-space:pre;overflow-x:auto;line-height:normal;font-family:Menlo,'DejaVu Sans Mono',consolas,'Courier New',monospace\">Epoch <span style=\"font-weight: bold\">[</span><span style=\"color: #008080; text-decoration-color: #008080; font-weight: bold\">22</span>/<span style=\"color: #008080; text-decoration-color: #008080; font-weight: bold\">50</span><span style=\"font-weight: bold\">]</span> - Loss: <span style=\"color: #008080; text-decoration-color: #008080; font-weight: bold\">0.5122</span>, Accuracy: <span style=\"color: #008080; text-decoration-color: #008080; font-weight: bold\">0.7612</span>\n",
       "</pre>\n"
      ],
      "text/plain": [
       "Epoch \u001b[1m[\u001b[0m\u001b[1;36m22\u001b[0m/\u001b[1;36m50\u001b[0m\u001b[1m]\u001b[0m - Loss: \u001b[1;36m0.5122\u001b[0m, Accuracy: \u001b[1;36m0.7612\u001b[0m\n"
      ]
     },
     "metadata": {},
     "output_type": "display_data"
    },
    {
     "name": "stderr",
     "output_type": "stream",
     "text": [
      "Epoch 23/50: 100%|██████████| 66/66 [00:03<00:00, 20.45batch/s, batch_loss=0.717]\n"
     ]
    },
    {
     "data": {
      "text/html": [
       "<pre style=\"white-space:pre;overflow-x:auto;line-height:normal;font-family:Menlo,'DejaVu Sans Mono',consolas,'Courier New',monospace\">Epoch <span style=\"font-weight: bold\">[</span><span style=\"color: #008080; text-decoration-color: #008080; font-weight: bold\">23</span>/<span style=\"color: #008080; text-decoration-color: #008080; font-weight: bold\">50</span><span style=\"font-weight: bold\">]</span> - Loss: <span style=\"color: #008080; text-decoration-color: #008080; font-weight: bold\">0.5247</span>, Accuracy: <span style=\"color: #008080; text-decoration-color: #008080; font-weight: bold\">0.7459</span>\n",
       "</pre>\n"
      ],
      "text/plain": [
       "Epoch \u001b[1m[\u001b[0m\u001b[1;36m23\u001b[0m/\u001b[1;36m50\u001b[0m\u001b[1m]\u001b[0m - Loss: \u001b[1;36m0.5247\u001b[0m, Accuracy: \u001b[1;36m0.7459\u001b[0m\n"
      ]
     },
     "metadata": {},
     "output_type": "display_data"
    },
    {
     "name": "stderr",
     "output_type": "stream",
     "text": [
      "Epoch 24/50: 100%|██████████| 66/66 [00:03<00:00, 21.50batch/s, batch_loss=0.621]\n"
     ]
    },
    {
     "data": {
      "text/html": [
       "<pre style=\"white-space:pre;overflow-x:auto;line-height:normal;font-family:Menlo,'DejaVu Sans Mono',consolas,'Courier New',monospace\">Epoch <span style=\"font-weight: bold\">[</span><span style=\"color: #008080; text-decoration-color: #008080; font-weight: bold\">24</span>/<span style=\"color: #008080; text-decoration-color: #008080; font-weight: bold\">50</span><span style=\"font-weight: bold\">]</span> - Loss: <span style=\"color: #008080; text-decoration-color: #008080; font-weight: bold\">0.5194</span>, Accuracy: <span style=\"color: #008080; text-decoration-color: #008080; font-weight: bold\">0.7479</span>\n",
       "</pre>\n"
      ],
      "text/plain": [
       "Epoch \u001b[1m[\u001b[0m\u001b[1;36m24\u001b[0m/\u001b[1;36m50\u001b[0m\u001b[1m]\u001b[0m - Loss: \u001b[1;36m0.5194\u001b[0m, Accuracy: \u001b[1;36m0.7479\u001b[0m\n"
      ]
     },
     "metadata": {},
     "output_type": "display_data"
    },
    {
     "name": "stderr",
     "output_type": "stream",
     "text": [
      "Epoch 25/50: 100%|██████████| 66/66 [00:03<00:00, 21.55batch/s, batch_loss=0.497]\n"
     ]
    },
    {
     "data": {
      "text/html": [
       "<pre style=\"white-space:pre;overflow-x:auto;line-height:normal;font-family:Menlo,'DejaVu Sans Mono',consolas,'Courier New',monospace\">Epoch <span style=\"font-weight: bold\">[</span><span style=\"color: #008080; text-decoration-color: #008080; font-weight: bold\">25</span>/<span style=\"color: #008080; text-decoration-color: #008080; font-weight: bold\">50</span><span style=\"font-weight: bold\">]</span> - Loss: <span style=\"color: #008080; text-decoration-color: #008080; font-weight: bold\">0.5175</span>, Accuracy: <span style=\"color: #008080; text-decoration-color: #008080; font-weight: bold\">0.7498</span>\n",
       "</pre>\n"
      ],
      "text/plain": [
       "Epoch \u001b[1m[\u001b[0m\u001b[1;36m25\u001b[0m/\u001b[1;36m50\u001b[0m\u001b[1m]\u001b[0m - Loss: \u001b[1;36m0.5175\u001b[0m, Accuracy: \u001b[1;36m0.7498\u001b[0m\n"
      ]
     },
     "metadata": {},
     "output_type": "display_data"
    },
    {
     "name": "stderr",
     "output_type": "stream",
     "text": [
      "Epoch 26/50: 100%|██████████| 66/66 [00:02<00:00, 22.11batch/s, batch_loss=0.37] \n"
     ]
    },
    {
     "data": {
      "text/html": [
       "<pre style=\"white-space:pre;overflow-x:auto;line-height:normal;font-family:Menlo,'DejaVu Sans Mono',consolas,'Courier New',monospace\">Epoch <span style=\"font-weight: bold\">[</span><span style=\"color: #008080; text-decoration-color: #008080; font-weight: bold\">26</span>/<span style=\"color: #008080; text-decoration-color: #008080; font-weight: bold\">50</span><span style=\"font-weight: bold\">]</span> - Loss: <span style=\"color: #008080; text-decoration-color: #008080; font-weight: bold\">0.5016</span>, Accuracy: <span style=\"color: #008080; text-decoration-color: #008080; font-weight: bold\">0.7631</span>\n",
       "</pre>\n"
      ],
      "text/plain": [
       "Epoch \u001b[1m[\u001b[0m\u001b[1;36m26\u001b[0m/\u001b[1;36m50\u001b[0m\u001b[1m]\u001b[0m - Loss: \u001b[1;36m0.5016\u001b[0m, Accuracy: \u001b[1;36m0.7631\u001b[0m\n"
      ]
     },
     "metadata": {},
     "output_type": "display_data"
    },
    {
     "name": "stderr",
     "output_type": "stream",
     "text": [
      "Epoch 27/50: 100%|██████████| 66/66 [00:03<00:00, 20.89batch/s, batch_loss=0.705]\n"
     ]
    },
    {
     "data": {
      "text/html": [
       "<pre style=\"white-space:pre;overflow-x:auto;line-height:normal;font-family:Menlo,'DejaVu Sans Mono',consolas,'Courier New',monospace\">Epoch <span style=\"font-weight: bold\">[</span><span style=\"color: #008080; text-decoration-color: #008080; font-weight: bold\">27</span>/<span style=\"color: #008080; text-decoration-color: #008080; font-weight: bold\">50</span><span style=\"font-weight: bold\">]</span> - Loss: <span style=\"color: #008080; text-decoration-color: #008080; font-weight: bold\">0.4977</span>, Accuracy: <span style=\"color: #008080; text-decoration-color: #008080; font-weight: bold\">0.7536</span>\n",
       "</pre>\n"
      ],
      "text/plain": [
       "Epoch \u001b[1m[\u001b[0m\u001b[1;36m27\u001b[0m/\u001b[1;36m50\u001b[0m\u001b[1m]\u001b[0m - Loss: \u001b[1;36m0.4977\u001b[0m, Accuracy: \u001b[1;36m0.7536\u001b[0m\n"
      ]
     },
     "metadata": {},
     "output_type": "display_data"
    },
    {
     "name": "stderr",
     "output_type": "stream",
     "text": [
      "Epoch 28/50: 100%|██████████| 66/66 [00:03<00:00, 20.22batch/s, batch_loss=0.526]\n"
     ]
    },
    {
     "data": {
      "text/html": [
       "<pre style=\"white-space:pre;overflow-x:auto;line-height:normal;font-family:Menlo,'DejaVu Sans Mono',consolas,'Courier New',monospace\">Epoch <span style=\"font-weight: bold\">[</span><span style=\"color: #008080; text-decoration-color: #008080; font-weight: bold\">28</span>/<span style=\"color: #008080; text-decoration-color: #008080; font-weight: bold\">50</span><span style=\"font-weight: bold\">]</span> - Loss: <span style=\"color: #008080; text-decoration-color: #008080; font-weight: bold\">0.4917</span>, Accuracy: <span style=\"color: #008080; text-decoration-color: #008080; font-weight: bold\">0.7650</span>\n",
       "</pre>\n"
      ],
      "text/plain": [
       "Epoch \u001b[1m[\u001b[0m\u001b[1;36m28\u001b[0m/\u001b[1;36m50\u001b[0m\u001b[1m]\u001b[0m - Loss: \u001b[1;36m0.4917\u001b[0m, Accuracy: \u001b[1;36m0.7650\u001b[0m\n"
      ]
     },
     "metadata": {},
     "output_type": "display_data"
    },
    {
     "name": "stderr",
     "output_type": "stream",
     "text": [
      "Epoch 29/50: 100%|██████████| 66/66 [00:03<00:00, 20.52batch/s, batch_loss=0.727]\n"
     ]
    },
    {
     "data": {
      "text/html": [
       "<pre style=\"white-space:pre;overflow-x:auto;line-height:normal;font-family:Menlo,'DejaVu Sans Mono',consolas,'Courier New',monospace\">Epoch <span style=\"font-weight: bold\">[</span><span style=\"color: #008080; text-decoration-color: #008080; font-weight: bold\">29</span>/<span style=\"color: #008080; text-decoration-color: #008080; font-weight: bold\">50</span><span style=\"font-weight: bold\">]</span> - Loss: <span style=\"color: #008080; text-decoration-color: #008080; font-weight: bold\">0.4895</span>, Accuracy: <span style=\"color: #008080; text-decoration-color: #008080; font-weight: bold\">0.7755</span>\n",
       "</pre>\n"
      ],
      "text/plain": [
       "Epoch \u001b[1m[\u001b[0m\u001b[1;36m29\u001b[0m/\u001b[1;36m50\u001b[0m\u001b[1m]\u001b[0m - Loss: \u001b[1;36m0.4895\u001b[0m, Accuracy: \u001b[1;36m0.7755\u001b[0m\n"
      ]
     },
     "metadata": {},
     "output_type": "display_data"
    },
    {
     "name": "stderr",
     "output_type": "stream",
     "text": [
      "Epoch 30/50: 100%|██████████| 66/66 [00:03<00:00, 20.75batch/s, batch_loss=0.305]\n"
     ]
    },
    {
     "data": {
      "text/html": [
       "<pre style=\"white-space:pre;overflow-x:auto;line-height:normal;font-family:Menlo,'DejaVu Sans Mono',consolas,'Courier New',monospace\">Epoch <span style=\"font-weight: bold\">[</span><span style=\"color: #008080; text-decoration-color: #008080; font-weight: bold\">30</span>/<span style=\"color: #008080; text-decoration-color: #008080; font-weight: bold\">50</span><span style=\"font-weight: bold\">]</span> - Loss: <span style=\"color: #008080; text-decoration-color: #008080; font-weight: bold\">0.4921</span>, Accuracy: <span style=\"color: #008080; text-decoration-color: #008080; font-weight: bold\">0.7593</span>\n",
       "</pre>\n"
      ],
      "text/plain": [
       "Epoch \u001b[1m[\u001b[0m\u001b[1;36m30\u001b[0m/\u001b[1;36m50\u001b[0m\u001b[1m]\u001b[0m - Loss: \u001b[1;36m0.4921\u001b[0m, Accuracy: \u001b[1;36m0.7593\u001b[0m\n"
      ]
     },
     "metadata": {},
     "output_type": "display_data"
    },
    {
     "name": "stderr",
     "output_type": "stream",
     "text": [
      "Epoch 31/50: 100%|██████████| 66/66 [00:03<00:00, 20.52batch/s, batch_loss=0.586]\n"
     ]
    },
    {
     "data": {
      "text/html": [
       "<pre style=\"white-space:pre;overflow-x:auto;line-height:normal;font-family:Menlo,'DejaVu Sans Mono',consolas,'Courier New',monospace\">Epoch <span style=\"font-weight: bold\">[</span><span style=\"color: #008080; text-decoration-color: #008080; font-weight: bold\">31</span>/<span style=\"color: #008080; text-decoration-color: #008080; font-weight: bold\">50</span><span style=\"font-weight: bold\">]</span> - Loss: <span style=\"color: #008080; text-decoration-color: #008080; font-weight: bold\">0.4937</span>, Accuracy: <span style=\"color: #008080; text-decoration-color: #008080; font-weight: bold\">0.7698</span>\n",
       "</pre>\n"
      ],
      "text/plain": [
       "Epoch \u001b[1m[\u001b[0m\u001b[1;36m31\u001b[0m/\u001b[1;36m50\u001b[0m\u001b[1m]\u001b[0m - Loss: \u001b[1;36m0.4937\u001b[0m, Accuracy: \u001b[1;36m0.7698\u001b[0m\n"
      ]
     },
     "metadata": {},
     "output_type": "display_data"
    },
    {
     "name": "stderr",
     "output_type": "stream",
     "text": [
      "Epoch 32/50: 100%|██████████| 66/66 [00:03<00:00, 21.44batch/s, batch_loss=0.559]\n"
     ]
    },
    {
     "data": {
      "text/html": [
       "<pre style=\"white-space:pre;overflow-x:auto;line-height:normal;font-family:Menlo,'DejaVu Sans Mono',consolas,'Courier New',monospace\">Epoch <span style=\"font-weight: bold\">[</span><span style=\"color: #008080; text-decoration-color: #008080; font-weight: bold\">32</span>/<span style=\"color: #008080; text-decoration-color: #008080; font-weight: bold\">50</span><span style=\"font-weight: bold\">]</span> - Loss: <span style=\"color: #008080; text-decoration-color: #008080; font-weight: bold\">0.4878</span>, Accuracy: <span style=\"color: #008080; text-decoration-color: #008080; font-weight: bold\">0.7650</span>\n",
       "</pre>\n"
      ],
      "text/plain": [
       "Epoch \u001b[1m[\u001b[0m\u001b[1;36m32\u001b[0m/\u001b[1;36m50\u001b[0m\u001b[1m]\u001b[0m - Loss: \u001b[1;36m0.4878\u001b[0m, Accuracy: \u001b[1;36m0.7650\u001b[0m\n"
      ]
     },
     "metadata": {},
     "output_type": "display_data"
    },
    {
     "name": "stderr",
     "output_type": "stream",
     "text": [
      "Epoch 33/50: 100%|██████████| 66/66 [00:03<00:00, 21.90batch/s, batch_loss=0.336]\n"
     ]
    },
    {
     "data": {
      "text/html": [
       "<pre style=\"white-space:pre;overflow-x:auto;line-height:normal;font-family:Menlo,'DejaVu Sans Mono',consolas,'Courier New',monospace\">Epoch <span style=\"font-weight: bold\">[</span><span style=\"color: #008080; text-decoration-color: #008080; font-weight: bold\">33</span>/<span style=\"color: #008080; text-decoration-color: #008080; font-weight: bold\">50</span><span style=\"font-weight: bold\">]</span> - Loss: <span style=\"color: #008080; text-decoration-color: #008080; font-weight: bold\">0.4864</span>, Accuracy: <span style=\"color: #008080; text-decoration-color: #008080; font-weight: bold\">0.7564</span>\n",
       "</pre>\n"
      ],
      "text/plain": [
       "Epoch \u001b[1m[\u001b[0m\u001b[1;36m33\u001b[0m/\u001b[1;36m50\u001b[0m\u001b[1m]\u001b[0m - Loss: \u001b[1;36m0.4864\u001b[0m, Accuracy: \u001b[1;36m0.7564\u001b[0m\n"
      ]
     },
     "metadata": {},
     "output_type": "display_data"
    },
    {
     "name": "stderr",
     "output_type": "stream",
     "text": [
      "Epoch 34/50: 100%|██████████| 66/66 [00:03<00:00, 20.92batch/s, batch_loss=0.328]\n"
     ]
    },
    {
     "data": {
      "text/html": [
       "<pre style=\"white-space:pre;overflow-x:auto;line-height:normal;font-family:Menlo,'DejaVu Sans Mono',consolas,'Courier New',monospace\">Epoch <span style=\"font-weight: bold\">[</span><span style=\"color: #008080; text-decoration-color: #008080; font-weight: bold\">34</span>/<span style=\"color: #008080; text-decoration-color: #008080; font-weight: bold\">50</span><span style=\"font-weight: bold\">]</span> - Loss: <span style=\"color: #008080; text-decoration-color: #008080; font-weight: bold\">0.4780</span>, Accuracy: <span style=\"color: #008080; text-decoration-color: #008080; font-weight: bold\">0.7612</span>\n",
       "</pre>\n"
      ],
      "text/plain": [
       "Epoch \u001b[1m[\u001b[0m\u001b[1;36m34\u001b[0m/\u001b[1;36m50\u001b[0m\u001b[1m]\u001b[0m - Loss: \u001b[1;36m0.4780\u001b[0m, Accuracy: \u001b[1;36m0.7612\u001b[0m\n"
      ]
     },
     "metadata": {},
     "output_type": "display_data"
    },
    {
     "name": "stderr",
     "output_type": "stream",
     "text": [
      "Epoch 35/50: 100%|██████████| 66/66 [00:03<00:00, 19.91batch/s, batch_loss=0.392]\n"
     ]
    },
    {
     "data": {
      "text/html": [
       "<pre style=\"white-space:pre;overflow-x:auto;line-height:normal;font-family:Menlo,'DejaVu Sans Mono',consolas,'Courier New',monospace\">Epoch <span style=\"font-weight: bold\">[</span><span style=\"color: #008080; text-decoration-color: #008080; font-weight: bold\">35</span>/<span style=\"color: #008080; text-decoration-color: #008080; font-weight: bold\">50</span><span style=\"font-weight: bold\">]</span> - Loss: <span style=\"color: #008080; text-decoration-color: #008080; font-weight: bold\">0.4705</span>, Accuracy: <span style=\"color: #008080; text-decoration-color: #008080; font-weight: bold\">0.7670</span>\n",
       "</pre>\n"
      ],
      "text/plain": [
       "Epoch \u001b[1m[\u001b[0m\u001b[1;36m35\u001b[0m/\u001b[1;36m50\u001b[0m\u001b[1m]\u001b[0m - Loss: \u001b[1;36m0.4705\u001b[0m, Accuracy: \u001b[1;36m0.7670\u001b[0m\n"
      ]
     },
     "metadata": {},
     "output_type": "display_data"
    },
    {
     "name": "stderr",
     "output_type": "stream",
     "text": [
      "Epoch 36/50: 100%|██████████| 66/66 [00:03<00:00, 20.12batch/s, batch_loss=0.687]\n"
     ]
    },
    {
     "data": {
      "text/html": [
       "<pre style=\"white-space:pre;overflow-x:auto;line-height:normal;font-family:Menlo,'DejaVu Sans Mono',consolas,'Courier New',monospace\">Epoch <span style=\"font-weight: bold\">[</span><span style=\"color: #008080; text-decoration-color: #008080; font-weight: bold\">36</span>/<span style=\"color: #008080; text-decoration-color: #008080; font-weight: bold\">50</span><span style=\"font-weight: bold\">]</span> - Loss: <span style=\"color: #008080; text-decoration-color: #008080; font-weight: bold\">0.4714</span>, Accuracy: <span style=\"color: #008080; text-decoration-color: #008080; font-weight: bold\">0.7698</span>\n",
       "</pre>\n"
      ],
      "text/plain": [
       "Epoch \u001b[1m[\u001b[0m\u001b[1;36m36\u001b[0m/\u001b[1;36m50\u001b[0m\u001b[1m]\u001b[0m - Loss: \u001b[1;36m0.4714\u001b[0m, Accuracy: \u001b[1;36m0.7698\u001b[0m\n"
      ]
     },
     "metadata": {},
     "output_type": "display_data"
    },
    {
     "name": "stderr",
     "output_type": "stream",
     "text": [
      "Epoch 37/50: 100%|██████████| 66/66 [00:03<00:00, 19.94batch/s, batch_loss=0.492]\n"
     ]
    },
    {
     "data": {
      "text/html": [
       "<pre style=\"white-space:pre;overflow-x:auto;line-height:normal;font-family:Menlo,'DejaVu Sans Mono',consolas,'Courier New',monospace\">Epoch <span style=\"font-weight: bold\">[</span><span style=\"color: #008080; text-decoration-color: #008080; font-weight: bold\">37</span>/<span style=\"color: #008080; text-decoration-color: #008080; font-weight: bold\">50</span><span style=\"font-weight: bold\">]</span> - Loss: <span style=\"color: #008080; text-decoration-color: #008080; font-weight: bold\">0.4659</span>, Accuracy: <span style=\"color: #008080; text-decoration-color: #008080; font-weight: bold\">0.7670</span>\n",
       "</pre>\n"
      ],
      "text/plain": [
       "Epoch \u001b[1m[\u001b[0m\u001b[1;36m37\u001b[0m/\u001b[1;36m50\u001b[0m\u001b[1m]\u001b[0m - Loss: \u001b[1;36m0.4659\u001b[0m, Accuracy: \u001b[1;36m0.7670\u001b[0m\n"
      ]
     },
     "metadata": {},
     "output_type": "display_data"
    },
    {
     "name": "stderr",
     "output_type": "stream",
     "text": [
      "Epoch 38/50: 100%|██████████| 66/66 [00:03<00:00, 17.89batch/s, batch_loss=0.492]\n"
     ]
    },
    {
     "data": {
      "text/html": [
       "<pre style=\"white-space:pre;overflow-x:auto;line-height:normal;font-family:Menlo,'DejaVu Sans Mono',consolas,'Courier New',monospace\">Epoch <span style=\"font-weight: bold\">[</span><span style=\"color: #008080; text-decoration-color: #008080; font-weight: bold\">38</span>/<span style=\"color: #008080; text-decoration-color: #008080; font-weight: bold\">50</span><span style=\"font-weight: bold\">]</span> - Loss: <span style=\"color: #008080; text-decoration-color: #008080; font-weight: bold\">0.4590</span>, Accuracy: <span style=\"color: #008080; text-decoration-color: #008080; font-weight: bold\">0.7765</span>\n",
       "</pre>\n"
      ],
      "text/plain": [
       "Epoch \u001b[1m[\u001b[0m\u001b[1;36m38\u001b[0m/\u001b[1;36m50\u001b[0m\u001b[1m]\u001b[0m - Loss: \u001b[1;36m0.4590\u001b[0m, Accuracy: \u001b[1;36m0.7765\u001b[0m\n"
      ]
     },
     "metadata": {},
     "output_type": "display_data"
    },
    {
     "name": "stderr",
     "output_type": "stream",
     "text": [
      "Epoch 39/50: 100%|██████████| 66/66 [00:03<00:00, 18.81batch/s, batch_loss=0.87] \n"
     ]
    },
    {
     "data": {
      "text/html": [
       "<pre style=\"white-space:pre;overflow-x:auto;line-height:normal;font-family:Menlo,'DejaVu Sans Mono',consolas,'Courier New',monospace\">Epoch <span style=\"font-weight: bold\">[</span><span style=\"color: #008080; text-decoration-color: #008080; font-weight: bold\">39</span>/<span style=\"color: #008080; text-decoration-color: #008080; font-weight: bold\">50</span><span style=\"font-weight: bold\">]</span> - Loss: <span style=\"color: #008080; text-decoration-color: #008080; font-weight: bold\">0.4640</span>, Accuracy: <span style=\"color: #008080; text-decoration-color: #008080; font-weight: bold\">0.7755</span>\n",
       "</pre>\n"
      ],
      "text/plain": [
       "Epoch \u001b[1m[\u001b[0m\u001b[1;36m39\u001b[0m/\u001b[1;36m50\u001b[0m\u001b[1m]\u001b[0m - Loss: \u001b[1;36m0.4640\u001b[0m, Accuracy: \u001b[1;36m0.7755\u001b[0m\n"
      ]
     },
     "metadata": {},
     "output_type": "display_data"
    },
    {
     "name": "stderr",
     "output_type": "stream",
     "text": [
      "Epoch 40/50: 100%|██████████| 66/66 [00:03<00:00, 18.52batch/s, batch_loss=0.361]\n"
     ]
    },
    {
     "data": {
      "text/html": [
       "<pre style=\"white-space:pre;overflow-x:auto;line-height:normal;font-family:Menlo,'DejaVu Sans Mono',consolas,'Courier New',monospace\">Epoch <span style=\"font-weight: bold\">[</span><span style=\"color: #008080; text-decoration-color: #008080; font-weight: bold\">40</span>/<span style=\"color: #008080; text-decoration-color: #008080; font-weight: bold\">50</span><span style=\"font-weight: bold\">]</span> - Loss: <span style=\"color: #008080; text-decoration-color: #008080; font-weight: bold\">0.4401</span>, Accuracy: <span style=\"color: #008080; text-decoration-color: #008080; font-weight: bold\">0.7870</span>\n",
       "</pre>\n"
      ],
      "text/plain": [
       "Epoch \u001b[1m[\u001b[0m\u001b[1;36m40\u001b[0m/\u001b[1;36m50\u001b[0m\u001b[1m]\u001b[0m - Loss: \u001b[1;36m0.4401\u001b[0m, Accuracy: \u001b[1;36m0.7870\u001b[0m\n"
      ]
     },
     "metadata": {},
     "output_type": "display_data"
    },
    {
     "name": "stderr",
     "output_type": "stream",
     "text": [
      "Epoch 41/50: 100%|██████████| 66/66 [00:03<00:00, 20.77batch/s, batch_loss=0.725]\n"
     ]
    },
    {
     "data": {
      "text/html": [
       "<pre style=\"white-space:pre;overflow-x:auto;line-height:normal;font-family:Menlo,'DejaVu Sans Mono',consolas,'Courier New',monospace\">Epoch <span style=\"font-weight: bold\">[</span><span style=\"color: #008080; text-decoration-color: #008080; font-weight: bold\">41</span>/<span style=\"color: #008080; text-decoration-color: #008080; font-weight: bold\">50</span><span style=\"font-weight: bold\">]</span> - Loss: <span style=\"color: #008080; text-decoration-color: #008080; font-weight: bold\">0.4590</span>, Accuracy: <span style=\"color: #008080; text-decoration-color: #008080; font-weight: bold\">0.7650</span>\n",
       "</pre>\n"
      ],
      "text/plain": [
       "Epoch \u001b[1m[\u001b[0m\u001b[1;36m41\u001b[0m/\u001b[1;36m50\u001b[0m\u001b[1m]\u001b[0m - Loss: \u001b[1;36m0.4590\u001b[0m, Accuracy: \u001b[1;36m0.7650\u001b[0m\n"
      ]
     },
     "metadata": {},
     "output_type": "display_data"
    },
    {
     "name": "stderr",
     "output_type": "stream",
     "text": [
      "Epoch 42/50: 100%|██████████| 66/66 [00:03<00:00, 20.79batch/s, batch_loss=0.384]\n"
     ]
    },
    {
     "data": {
      "text/html": [
       "<pre style=\"white-space:pre;overflow-x:auto;line-height:normal;font-family:Menlo,'DejaVu Sans Mono',consolas,'Courier New',monospace\">Epoch <span style=\"font-weight: bold\">[</span><span style=\"color: #008080; text-decoration-color: #008080; font-weight: bold\">42</span>/<span style=\"color: #008080; text-decoration-color: #008080; font-weight: bold\">50</span><span style=\"font-weight: bold\">]</span> - Loss: <span style=\"color: #008080; text-decoration-color: #008080; font-weight: bold\">0.4745</span>, Accuracy: <span style=\"color: #008080; text-decoration-color: #008080; font-weight: bold\">0.7650</span>\n",
       "</pre>\n"
      ],
      "text/plain": [
       "Epoch \u001b[1m[\u001b[0m\u001b[1;36m42\u001b[0m/\u001b[1;36m50\u001b[0m\u001b[1m]\u001b[0m - Loss: \u001b[1;36m0.4745\u001b[0m, Accuracy: \u001b[1;36m0.7650\u001b[0m\n"
      ]
     },
     "metadata": {},
     "output_type": "display_data"
    },
    {
     "name": "stderr",
     "output_type": "stream",
     "text": [
      "Epoch 43/50: 100%|██████████| 66/66 [00:03<00:00, 20.28batch/s, batch_loss=0.987]\n"
     ]
    },
    {
     "data": {
      "text/html": [
       "<pre style=\"white-space:pre;overflow-x:auto;line-height:normal;font-family:Menlo,'DejaVu Sans Mono',consolas,'Courier New',monospace\">Epoch <span style=\"font-weight: bold\">[</span><span style=\"color: #008080; text-decoration-color: #008080; font-weight: bold\">43</span>/<span style=\"color: #008080; text-decoration-color: #008080; font-weight: bold\">50</span><span style=\"font-weight: bold\">]</span> - Loss: <span style=\"color: #008080; text-decoration-color: #008080; font-weight: bold\">0.4667</span>, Accuracy: <span style=\"color: #008080; text-decoration-color: #008080; font-weight: bold\">0.7679</span>\n",
       "</pre>\n"
      ],
      "text/plain": [
       "Epoch \u001b[1m[\u001b[0m\u001b[1;36m43\u001b[0m/\u001b[1;36m50\u001b[0m\u001b[1m]\u001b[0m - Loss: \u001b[1;36m0.4667\u001b[0m, Accuracy: \u001b[1;36m0.7679\u001b[0m\n"
      ]
     },
     "metadata": {},
     "output_type": "display_data"
    },
    {
     "name": "stderr",
     "output_type": "stream",
     "text": [
      "Epoch 44/50: 100%|██████████| 66/66 [00:03<00:00, 19.48batch/s, batch_loss=0.331]\n"
     ]
    },
    {
     "data": {
      "text/html": [
       "<pre style=\"white-space:pre;overflow-x:auto;line-height:normal;font-family:Menlo,'DejaVu Sans Mono',consolas,'Courier New',monospace\">Epoch <span style=\"font-weight: bold\">[</span><span style=\"color: #008080; text-decoration-color: #008080; font-weight: bold\">44</span>/<span style=\"color: #008080; text-decoration-color: #008080; font-weight: bold\">50</span><span style=\"font-weight: bold\">]</span> - Loss: <span style=\"color: #008080; text-decoration-color: #008080; font-weight: bold\">0.4483</span>, Accuracy: <span style=\"color: #008080; text-decoration-color: #008080; font-weight: bold\">0.7861</span>\n",
       "</pre>\n"
      ],
      "text/plain": [
       "Epoch \u001b[1m[\u001b[0m\u001b[1;36m44\u001b[0m/\u001b[1;36m50\u001b[0m\u001b[1m]\u001b[0m - Loss: \u001b[1;36m0.4483\u001b[0m, Accuracy: \u001b[1;36m0.7861\u001b[0m\n"
      ]
     },
     "metadata": {},
     "output_type": "display_data"
    },
    {
     "name": "stderr",
     "output_type": "stream",
     "text": [
      "Epoch 45/50: 100%|██████████| 66/66 [00:03<00:00, 20.74batch/s, batch_loss=0.577]\n"
     ]
    },
    {
     "data": {
      "text/html": [
       "<pre style=\"white-space:pre;overflow-x:auto;line-height:normal;font-family:Menlo,'DejaVu Sans Mono',consolas,'Courier New',monospace\">Epoch <span style=\"font-weight: bold\">[</span><span style=\"color: #008080; text-decoration-color: #008080; font-weight: bold\">45</span>/<span style=\"color: #008080; text-decoration-color: #008080; font-weight: bold\">50</span><span style=\"font-weight: bold\">]</span> - Loss: <span style=\"color: #008080; text-decoration-color: #008080; font-weight: bold\">0.4660</span>, Accuracy: <span style=\"color: #008080; text-decoration-color: #008080; font-weight: bold\">0.7650</span>\n",
       "</pre>\n"
      ],
      "text/plain": [
       "Epoch \u001b[1m[\u001b[0m\u001b[1;36m45\u001b[0m/\u001b[1;36m50\u001b[0m\u001b[1m]\u001b[0m - Loss: \u001b[1;36m0.4660\u001b[0m, Accuracy: \u001b[1;36m0.7650\u001b[0m\n"
      ]
     },
     "metadata": {},
     "output_type": "display_data"
    },
    {
     "name": "stderr",
     "output_type": "stream",
     "text": [
      "Epoch 46/50: 100%|██████████| 66/66 [00:03<00:00, 20.79batch/s, batch_loss=0.804]\n"
     ]
    },
    {
     "data": {
      "text/html": [
       "<pre style=\"white-space:pre;overflow-x:auto;line-height:normal;font-family:Menlo,'DejaVu Sans Mono',consolas,'Courier New',monospace\">Epoch <span style=\"font-weight: bold\">[</span><span style=\"color: #008080; text-decoration-color: #008080; font-weight: bold\">46</span>/<span style=\"color: #008080; text-decoration-color: #008080; font-weight: bold\">50</span><span style=\"font-weight: bold\">]</span> - Loss: <span style=\"color: #008080; text-decoration-color: #008080; font-weight: bold\">0.4688</span>, Accuracy: <span style=\"color: #008080; text-decoration-color: #008080; font-weight: bold\">0.7660</span>\n",
       "</pre>\n"
      ],
      "text/plain": [
       "Epoch \u001b[1m[\u001b[0m\u001b[1;36m46\u001b[0m/\u001b[1;36m50\u001b[0m\u001b[1m]\u001b[0m - Loss: \u001b[1;36m0.4688\u001b[0m, Accuracy: \u001b[1;36m0.7660\u001b[0m\n"
      ]
     },
     "metadata": {},
     "output_type": "display_data"
    },
    {
     "name": "stderr",
     "output_type": "stream",
     "text": [
      "Epoch 47/50: 100%|██████████| 66/66 [00:03<00:00, 20.18batch/s, batch_loss=0.979]\n"
     ]
    },
    {
     "data": {
      "text/html": [
       "<pre style=\"white-space:pre;overflow-x:auto;line-height:normal;font-family:Menlo,'DejaVu Sans Mono',consolas,'Courier New',monospace\">Epoch <span style=\"font-weight: bold\">[</span><span style=\"color: #008080; text-decoration-color: #008080; font-weight: bold\">47</span>/<span style=\"color: #008080; text-decoration-color: #008080; font-weight: bold\">50</span><span style=\"font-weight: bold\">]</span> - Loss: <span style=\"color: #008080; text-decoration-color: #008080; font-weight: bold\">0.4613</span>, Accuracy: <span style=\"color: #008080; text-decoration-color: #008080; font-weight: bold\">0.7765</span>\n",
       "</pre>\n"
      ],
      "text/plain": [
       "Epoch \u001b[1m[\u001b[0m\u001b[1;36m47\u001b[0m/\u001b[1;36m50\u001b[0m\u001b[1m]\u001b[0m - Loss: \u001b[1;36m0.4613\u001b[0m, Accuracy: \u001b[1;36m0.7765\u001b[0m\n"
      ]
     },
     "metadata": {},
     "output_type": "display_data"
    },
    {
     "name": "stderr",
     "output_type": "stream",
     "text": [
      "Epoch 48/50: 100%|██████████| 66/66 [00:03<00:00, 20.67batch/s, batch_loss=0.483]\n"
     ]
    },
    {
     "data": {
      "text/html": [
       "<pre style=\"white-space:pre;overflow-x:auto;line-height:normal;font-family:Menlo,'DejaVu Sans Mono',consolas,'Courier New',monospace\">Epoch <span style=\"font-weight: bold\">[</span><span style=\"color: #008080; text-decoration-color: #008080; font-weight: bold\">48</span>/<span style=\"color: #008080; text-decoration-color: #008080; font-weight: bold\">50</span><span style=\"font-weight: bold\">]</span> - Loss: <span style=\"color: #008080; text-decoration-color: #008080; font-weight: bold\">0.4602</span>, Accuracy: <span style=\"color: #008080; text-decoration-color: #008080; font-weight: bold\">0.7717</span>\n",
       "</pre>\n"
      ],
      "text/plain": [
       "Epoch \u001b[1m[\u001b[0m\u001b[1;36m48\u001b[0m/\u001b[1;36m50\u001b[0m\u001b[1m]\u001b[0m - Loss: \u001b[1;36m0.4602\u001b[0m, Accuracy: \u001b[1;36m0.7717\u001b[0m\n"
      ]
     },
     "metadata": {},
     "output_type": "display_data"
    },
    {
     "name": "stderr",
     "output_type": "stream",
     "text": [
      "Epoch 49/50: 100%|██████████| 66/66 [00:03<00:00, 20.63batch/s, batch_loss=0.667]\n"
     ]
    },
    {
     "data": {
      "text/html": [
       "<pre style=\"white-space:pre;overflow-x:auto;line-height:normal;font-family:Menlo,'DejaVu Sans Mono',consolas,'Courier New',monospace\">Epoch <span style=\"font-weight: bold\">[</span><span style=\"color: #008080; text-decoration-color: #008080; font-weight: bold\">49</span>/<span style=\"color: #008080; text-decoration-color: #008080; font-weight: bold\">50</span><span style=\"font-weight: bold\">]</span> - Loss: <span style=\"color: #008080; text-decoration-color: #008080; font-weight: bold\">0.4853</span>, Accuracy: <span style=\"color: #008080; text-decoration-color: #008080; font-weight: bold\">0.7488</span>\n",
       "</pre>\n"
      ],
      "text/plain": [
       "Epoch \u001b[1m[\u001b[0m\u001b[1;36m49\u001b[0m/\u001b[1;36m50\u001b[0m\u001b[1m]\u001b[0m - Loss: \u001b[1;36m0.4853\u001b[0m, Accuracy: \u001b[1;36m0.7488\u001b[0m\n"
      ]
     },
     "metadata": {},
     "output_type": "display_data"
    },
    {
     "name": "stderr",
     "output_type": "stream",
     "text": [
      "Epoch 50/50: 100%|██████████| 66/66 [00:03<00:00, 20.95batch/s, batch_loss=0.378]\n"
     ]
    },
    {
     "data": {
      "text/html": [
       "<pre style=\"white-space:pre;overflow-x:auto;line-height:normal;font-family:Menlo,'DejaVu Sans Mono',consolas,'Courier New',monospace\">Epoch <span style=\"font-weight: bold\">[</span><span style=\"color: #008080; text-decoration-color: #008080; font-weight: bold\">50</span>/<span style=\"color: #008080; text-decoration-color: #008080; font-weight: bold\">50</span><span style=\"font-weight: bold\">]</span> - Loss: <span style=\"color: #008080; text-decoration-color: #008080; font-weight: bold\">0.4411</span>, Accuracy: <span style=\"color: #008080; text-decoration-color: #008080; font-weight: bold\">0.7784</span>\n",
       "</pre>\n"
      ],
      "text/plain": [
       "Epoch \u001b[1m[\u001b[0m\u001b[1;36m50\u001b[0m/\u001b[1;36m50\u001b[0m\u001b[1m]\u001b[0m - Loss: \u001b[1;36m0.4411\u001b[0m, Accuracy: \u001b[1;36m0.7784\u001b[0m\n"
      ]
     },
     "metadata": {},
     "output_type": "display_data"
    }
   ],
   "source": [
    "from tqdm import tqdm\n",
    "\n",
    "# Define optimizer and criterion\n",
    "optimizer = torch.optim.Adam(model.parameters(), lr=LEARNING_RATE, weight_decay=WEIGHT_DECAY)\n",
    "criterion = nn.BCEWithLogitsLoss()  # Proper binary classification loss\n",
    "\n",
    "# Training Loop\n",
    "for epoch in range(EPOCHS):\n",
    "    model.train()  # Set model to training mode\n",
    "    total_loss = 0.0\n",
    "    all_preds = []\n",
    "    all_labels = []\n",
    "\n",
    "    with tqdm(train_loader, desc=f'Epoch {epoch + 1}/{EPOCHS}', unit='batch') as pbar:\n",
    "        for batch in train_loader:\n",
    "            images, keypoints, _, labels = batch  # Only use keypoints and labels\n",
    "            keypoints, labels = keypoints.to(device), labels.to(device)\n",
    "            \n",
    "            # Zero the gradients\n",
    "            optimizer.zero_grad()\n",
    "            \n",
    "            # Forward pass\n",
    "            outputs = model(keypoints, edges).squeeze(1)  # Logits output\n",
    "            \n",
    "            # Compute loss\n",
    "            loss = criterion(outputs, labels.float())  # BCEWithLogitsLoss requires float labels\n",
    "            total_loss += loss.item()\n",
    "            \n",
    "            # Backward pass and optimization\n",
    "            loss.backward()\n",
    "            optimizer.step()\n",
    "            \n",
    "            # Compute binary predictions\n",
    "            preds = (outputs >= 0).int()  # Threshold for binary classification\n",
    "            all_preds.extend(preds.cpu().numpy().flatten())\n",
    "            all_labels.extend(labels.cpu().numpy().flatten())\n",
    "\n",
    "            # Update progress bar\n",
    "            pbar.update(1)\n",
    "            pbar.set_postfix(batch_loss=loss.item())  # Show per-batch loss\n",
    "    \n",
    "    # Calculate epoch metrics\n",
    "    epoch_loss = total_loss / len(train_loader)\n",
    "    epoch_accuracy = accuracy_score(all_labels, all_preds)\n",
    "    \n",
    "    print(f\"Epoch [{epoch + 1}/{EPOCHS}] - Loss: {epoch_loss:.4f}, Accuracy: {epoch_accuracy:.4f}\")\n"
   ]
  },
  {
   "cell_type": "code",
   "execution_count": null,
   "metadata": {},
   "outputs": [],
   "source": [
    "# Model Save\n",
    "cls_model = save_model(model, model.name, MODEL_PATH, EPOCHS, LEARNING_RATE, \"cls\")"
   ]
  },
  {
   "cell_type": "markdown",
   "metadata": {},
   "source": [
    "## Classification Testing"
   ]
  },
  {
   "cell_type": "code",
   "execution_count": null,
   "metadata": {},
   "outputs": [
    {
     "data": {
      "text/html": [
       "<pre style=\"white-space:pre;overflow-x:auto;line-height:normal;font-family:Menlo,'DejaVu Sans Mono',consolas,'Courier New',monospace\">Expected: <span style=\"color: #800080; text-decoration-color: #800080; font-weight: bold\">tensor</span><span style=\"font-weight: bold\">([</span><span style=\"color: #008080; text-decoration-color: #008080; font-weight: bold\">0</span>, <span style=\"color: #008080; text-decoration-color: #008080; font-weight: bold\">0</span>, <span style=\"color: #008080; text-decoration-color: #008080; font-weight: bold\">0</span>, <span style=\"color: #008080; text-decoration-color: #008080; font-weight: bold\">0</span>, <span style=\"color: #008080; text-decoration-color: #008080; font-weight: bold\">0</span>, <span style=\"color: #008080; text-decoration-color: #008080; font-weight: bold\">0</span>, <span style=\"color: #008080; text-decoration-color: #008080; font-weight: bold\">0</span>, <span style=\"color: #008080; text-decoration-color: #008080; font-weight: bold\">0</span>, <span style=\"color: #008080; text-decoration-color: #008080; font-weight: bold\">0</span>, <span style=\"color: #008080; text-decoration-color: #008080; font-weight: bold\">0</span>, <span style=\"color: #008080; text-decoration-color: #008080; font-weight: bold\">0</span>, <span style=\"color: #008080; text-decoration-color: #008080; font-weight: bold\">0</span>, <span style=\"color: #008080; text-decoration-color: #008080; font-weight: bold\">0</span>, <span style=\"color: #008080; text-decoration-color: #008080; font-weight: bold\">0</span>, <span style=\"color: #008080; text-decoration-color: #008080; font-weight: bold\">0</span>, <span style=\"color: #008080; text-decoration-color: #008080; font-weight: bold\">0</span><span style=\"font-weight: bold\">]</span>, <span style=\"color: #808000; text-decoration-color: #808000\">device</span>=<span style=\"color: #008000; text-decoration-color: #008000\">'cuda:0'</span><span style=\"font-weight: bold\">)</span>\n",
       "</pre>\n"
      ],
      "text/plain": [
       "Expected: \u001b[1;35mtensor\u001b[0m\u001b[1m(\u001b[0m\u001b[1m[\u001b[0m\u001b[1;36m0\u001b[0m, \u001b[1;36m0\u001b[0m, \u001b[1;36m0\u001b[0m, \u001b[1;36m0\u001b[0m, \u001b[1;36m0\u001b[0m, \u001b[1;36m0\u001b[0m, \u001b[1;36m0\u001b[0m, \u001b[1;36m0\u001b[0m, \u001b[1;36m0\u001b[0m, \u001b[1;36m0\u001b[0m, \u001b[1;36m0\u001b[0m, \u001b[1;36m0\u001b[0m, \u001b[1;36m0\u001b[0m, \u001b[1;36m0\u001b[0m, \u001b[1;36m0\u001b[0m, \u001b[1;36m0\u001b[0m\u001b[1m]\u001b[0m, \u001b[33mdevice\u001b[0m=\u001b[32m'cuda:0'\u001b[0m\u001b[1m)\u001b[0m\n"
      ]
     },
     "metadata": {},
     "output_type": "display_data"
    },
    {
     "data": {
      "text/html": [
       "<pre style=\"white-space:pre;overflow-x:auto;line-height:normal;font-family:Menlo,'DejaVu Sans Mono',consolas,'Courier New',monospace\">Prediction: <span style=\"color: #800080; text-decoration-color: #800080; font-weight: bold\">tensor</span><span style=\"font-weight: bold\">([</span><span style=\"color: #008080; text-decoration-color: #008080; font-weight: bold\">0</span>, <span style=\"color: #008080; text-decoration-color: #008080; font-weight: bold\">0</span>, <span style=\"color: #008080; text-decoration-color: #008080; font-weight: bold\">0</span>, <span style=\"color: #008080; text-decoration-color: #008080; font-weight: bold\">0</span>, <span style=\"color: #008080; text-decoration-color: #008080; font-weight: bold\">0</span>, <span style=\"color: #008080; text-decoration-color: #008080; font-weight: bold\">0</span>, <span style=\"color: #008080; text-decoration-color: #008080; font-weight: bold\">0</span>, <span style=\"color: #008080; text-decoration-color: #008080; font-weight: bold\">0</span>, <span style=\"color: #008080; text-decoration-color: #008080; font-weight: bold\">0</span>, <span style=\"color: #008080; text-decoration-color: #008080; font-weight: bold\">0</span>, <span style=\"color: #008080; text-decoration-color: #008080; font-weight: bold\">0</span>, <span style=\"color: #008080; text-decoration-color: #008080; font-weight: bold\">0</span>, <span style=\"color: #008080; text-decoration-color: #008080; font-weight: bold\">0</span>, <span style=\"color: #008080; text-decoration-color: #008080; font-weight: bold\">0</span>, <span style=\"color: #008080; text-decoration-color: #008080; font-weight: bold\">0</span>, <span style=\"color: #008080; text-decoration-color: #008080; font-weight: bold\">0</span><span style=\"font-weight: bold\">]</span>, <span style=\"color: #808000; text-decoration-color: #808000\">device</span>=<span style=\"color: #008000; text-decoration-color: #008000\">'cuda:0'</span>,\n",
       "       <span style=\"color: #808000; text-decoration-color: #808000\">dtype</span>=<span style=\"color: #800080; text-decoration-color: #800080\">torch</span>.int32<span style=\"font-weight: bold\">)</span>\n",
       "</pre>\n"
      ],
      "text/plain": [
       "Prediction: \u001b[1;35mtensor\u001b[0m\u001b[1m(\u001b[0m\u001b[1m[\u001b[0m\u001b[1;36m0\u001b[0m, \u001b[1;36m0\u001b[0m, \u001b[1;36m0\u001b[0m, \u001b[1;36m0\u001b[0m, \u001b[1;36m0\u001b[0m, \u001b[1;36m0\u001b[0m, \u001b[1;36m0\u001b[0m, \u001b[1;36m0\u001b[0m, \u001b[1;36m0\u001b[0m, \u001b[1;36m0\u001b[0m, \u001b[1;36m0\u001b[0m, \u001b[1;36m0\u001b[0m, \u001b[1;36m0\u001b[0m, \u001b[1;36m0\u001b[0m, \u001b[1;36m0\u001b[0m, \u001b[1;36m0\u001b[0m\u001b[1m]\u001b[0m, \u001b[33mdevice\u001b[0m=\u001b[32m'cuda:0'\u001b[0m,\n",
       "       \u001b[33mdtype\u001b[0m=\u001b[35mtorch\u001b[0m.int32\u001b[1m)\u001b[0m\n"
      ]
     },
     "metadata": {},
     "output_type": "display_data"
    },
    {
     "data": {
      "text/html": [
       "<pre style=\"white-space:pre;overflow-x:auto;line-height:normal;font-family:Menlo,'DejaVu Sans Mono',consolas,'Courier New',monospace\">----------------------------------------------------------------------------------------------------\n",
       "</pre>\n"
      ],
      "text/plain": [
       "----------------------------------------------------------------------------------------------------\n"
      ]
     },
     "metadata": {},
     "output_type": "display_data"
    },
    {
     "data": {
      "text/html": [
       "<pre style=\"white-space:pre;overflow-x:auto;line-height:normal;font-family:Menlo,'DejaVu Sans Mono',consolas,'Courier New',monospace\">Expected: <span style=\"color: #800080; text-decoration-color: #800080; font-weight: bold\">tensor</span><span style=\"font-weight: bold\">([</span><span style=\"color: #008080; text-decoration-color: #008080; font-weight: bold\">0</span>, <span style=\"color: #008080; text-decoration-color: #008080; font-weight: bold\">0</span>, <span style=\"color: #008080; text-decoration-color: #008080; font-weight: bold\">0</span>, <span style=\"color: #008080; text-decoration-color: #008080; font-weight: bold\">0</span>, <span style=\"color: #008080; text-decoration-color: #008080; font-weight: bold\">0</span>, <span style=\"color: #008080; text-decoration-color: #008080; font-weight: bold\">0</span>, <span style=\"color: #008080; text-decoration-color: #008080; font-weight: bold\">0</span>, <span style=\"color: #008080; text-decoration-color: #008080; font-weight: bold\">0</span>, <span style=\"color: #008080; text-decoration-color: #008080; font-weight: bold\">0</span>, <span style=\"color: #008080; text-decoration-color: #008080; font-weight: bold\">0</span>, <span style=\"color: #008080; text-decoration-color: #008080; font-weight: bold\">0</span>, <span style=\"color: #008080; text-decoration-color: #008080; font-weight: bold\">0</span>, <span style=\"color: #008080; text-decoration-color: #008080; font-weight: bold\">0</span>, <span style=\"color: #008080; text-decoration-color: #008080; font-weight: bold\">0</span>, <span style=\"color: #008080; text-decoration-color: #008080; font-weight: bold\">0</span>, <span style=\"color: #008080; text-decoration-color: #008080; font-weight: bold\">0</span><span style=\"font-weight: bold\">]</span>, <span style=\"color: #808000; text-decoration-color: #808000\">device</span>=<span style=\"color: #008000; text-decoration-color: #008000\">'cuda:0'</span><span style=\"font-weight: bold\">)</span>\n",
       "</pre>\n"
      ],
      "text/plain": [
       "Expected: \u001b[1;35mtensor\u001b[0m\u001b[1m(\u001b[0m\u001b[1m[\u001b[0m\u001b[1;36m0\u001b[0m, \u001b[1;36m0\u001b[0m, \u001b[1;36m0\u001b[0m, \u001b[1;36m0\u001b[0m, \u001b[1;36m0\u001b[0m, \u001b[1;36m0\u001b[0m, \u001b[1;36m0\u001b[0m, \u001b[1;36m0\u001b[0m, \u001b[1;36m0\u001b[0m, \u001b[1;36m0\u001b[0m, \u001b[1;36m0\u001b[0m, \u001b[1;36m0\u001b[0m, \u001b[1;36m0\u001b[0m, \u001b[1;36m0\u001b[0m, \u001b[1;36m0\u001b[0m, \u001b[1;36m0\u001b[0m\u001b[1m]\u001b[0m, \u001b[33mdevice\u001b[0m=\u001b[32m'cuda:0'\u001b[0m\u001b[1m)\u001b[0m\n"
      ]
     },
     "metadata": {},
     "output_type": "display_data"
    },
    {
     "data": {
      "text/html": [
       "<pre style=\"white-space:pre;overflow-x:auto;line-height:normal;font-family:Menlo,'DejaVu Sans Mono',consolas,'Courier New',monospace\">Prediction: <span style=\"color: #800080; text-decoration-color: #800080; font-weight: bold\">tensor</span><span style=\"font-weight: bold\">([</span><span style=\"color: #008080; text-decoration-color: #008080; font-weight: bold\">0</span>, <span style=\"color: #008080; text-decoration-color: #008080; font-weight: bold\">0</span>, <span style=\"color: #008080; text-decoration-color: #008080; font-weight: bold\">0</span>, <span style=\"color: #008080; text-decoration-color: #008080; font-weight: bold\">0</span>, <span style=\"color: #008080; text-decoration-color: #008080; font-weight: bold\">0</span>, <span style=\"color: #008080; text-decoration-color: #008080; font-weight: bold\">0</span>, <span style=\"color: #008080; text-decoration-color: #008080; font-weight: bold\">0</span>, <span style=\"color: #008080; text-decoration-color: #008080; font-weight: bold\">0</span>, <span style=\"color: #008080; text-decoration-color: #008080; font-weight: bold\">0</span>, <span style=\"color: #008080; text-decoration-color: #008080; font-weight: bold\">0</span>, <span style=\"color: #008080; text-decoration-color: #008080; font-weight: bold\">0</span>, <span style=\"color: #008080; text-decoration-color: #008080; font-weight: bold\">0</span>, <span style=\"color: #008080; text-decoration-color: #008080; font-weight: bold\">0</span>, <span style=\"color: #008080; text-decoration-color: #008080; font-weight: bold\">0</span>, <span style=\"color: #008080; text-decoration-color: #008080; font-weight: bold\">0</span>, <span style=\"color: #008080; text-decoration-color: #008080; font-weight: bold\">0</span><span style=\"font-weight: bold\">]</span>, <span style=\"color: #808000; text-decoration-color: #808000\">device</span>=<span style=\"color: #008000; text-decoration-color: #008000\">'cuda:0'</span>,\n",
       "       <span style=\"color: #808000; text-decoration-color: #808000\">dtype</span>=<span style=\"color: #800080; text-decoration-color: #800080\">torch</span>.int32<span style=\"font-weight: bold\">)</span>\n",
       "</pre>\n"
      ],
      "text/plain": [
       "Prediction: \u001b[1;35mtensor\u001b[0m\u001b[1m(\u001b[0m\u001b[1m[\u001b[0m\u001b[1;36m0\u001b[0m, \u001b[1;36m0\u001b[0m, \u001b[1;36m0\u001b[0m, \u001b[1;36m0\u001b[0m, \u001b[1;36m0\u001b[0m, \u001b[1;36m0\u001b[0m, \u001b[1;36m0\u001b[0m, \u001b[1;36m0\u001b[0m, \u001b[1;36m0\u001b[0m, \u001b[1;36m0\u001b[0m, \u001b[1;36m0\u001b[0m, \u001b[1;36m0\u001b[0m, \u001b[1;36m0\u001b[0m, \u001b[1;36m0\u001b[0m, \u001b[1;36m0\u001b[0m, \u001b[1;36m0\u001b[0m\u001b[1m]\u001b[0m, \u001b[33mdevice\u001b[0m=\u001b[32m'cuda:0'\u001b[0m,\n",
       "       \u001b[33mdtype\u001b[0m=\u001b[35mtorch\u001b[0m.int32\u001b[1m)\u001b[0m\n"
      ]
     },
     "metadata": {},
     "output_type": "display_data"
    },
    {
     "data": {
      "text/html": [
       "<pre style=\"white-space:pre;overflow-x:auto;line-height:normal;font-family:Menlo,'DejaVu Sans Mono',consolas,'Courier New',monospace\">----------------------------------------------------------------------------------------------------\n",
       "</pre>\n"
      ],
      "text/plain": [
       "----------------------------------------------------------------------------------------------------\n"
      ]
     },
     "metadata": {},
     "output_type": "display_data"
    },
    {
     "data": {
      "text/html": [
       "<pre style=\"white-space:pre;overflow-x:auto;line-height:normal;font-family:Menlo,'DejaVu Sans Mono',consolas,'Courier New',monospace\">Expected: <span style=\"color: #800080; text-decoration-color: #800080; font-weight: bold\">tensor</span><span style=\"font-weight: bold\">([</span><span style=\"color: #008080; text-decoration-color: #008080; font-weight: bold\">0</span>, <span style=\"color: #008080; text-decoration-color: #008080; font-weight: bold\">0</span>, <span style=\"color: #008080; text-decoration-color: #008080; font-weight: bold\">0</span>, <span style=\"color: #008080; text-decoration-color: #008080; font-weight: bold\">0</span>, <span style=\"color: #008080; text-decoration-color: #008080; font-weight: bold\">0</span>, <span style=\"color: #008080; text-decoration-color: #008080; font-weight: bold\">0</span>, <span style=\"color: #008080; text-decoration-color: #008080; font-weight: bold\">0</span>, <span style=\"color: #008080; text-decoration-color: #008080; font-weight: bold\">0</span>, <span style=\"color: #008080; text-decoration-color: #008080; font-weight: bold\">0</span>, <span style=\"color: #008080; text-decoration-color: #008080; font-weight: bold\">0</span>, <span style=\"color: #008080; text-decoration-color: #008080; font-weight: bold\">0</span>, <span style=\"color: #008080; text-decoration-color: #008080; font-weight: bold\">0</span>, <span style=\"color: #008080; text-decoration-color: #008080; font-weight: bold\">0</span>, <span style=\"color: #008080; text-decoration-color: #008080; font-weight: bold\">0</span>, <span style=\"color: #008080; text-decoration-color: #008080; font-weight: bold\">0</span>, <span style=\"color: #008080; text-decoration-color: #008080; font-weight: bold\">0</span><span style=\"font-weight: bold\">]</span>, <span style=\"color: #808000; text-decoration-color: #808000\">device</span>=<span style=\"color: #008000; text-decoration-color: #008000\">'cuda:0'</span><span style=\"font-weight: bold\">)</span>\n",
       "</pre>\n"
      ],
      "text/plain": [
       "Expected: \u001b[1;35mtensor\u001b[0m\u001b[1m(\u001b[0m\u001b[1m[\u001b[0m\u001b[1;36m0\u001b[0m, \u001b[1;36m0\u001b[0m, \u001b[1;36m0\u001b[0m, \u001b[1;36m0\u001b[0m, \u001b[1;36m0\u001b[0m, \u001b[1;36m0\u001b[0m, \u001b[1;36m0\u001b[0m, \u001b[1;36m0\u001b[0m, \u001b[1;36m0\u001b[0m, \u001b[1;36m0\u001b[0m, \u001b[1;36m0\u001b[0m, \u001b[1;36m0\u001b[0m, \u001b[1;36m0\u001b[0m, \u001b[1;36m0\u001b[0m, \u001b[1;36m0\u001b[0m, \u001b[1;36m0\u001b[0m\u001b[1m]\u001b[0m, \u001b[33mdevice\u001b[0m=\u001b[32m'cuda:0'\u001b[0m\u001b[1m)\u001b[0m\n"
      ]
     },
     "metadata": {},
     "output_type": "display_data"
    },
    {
     "data": {
      "text/html": [
       "<pre style=\"white-space:pre;overflow-x:auto;line-height:normal;font-family:Menlo,'DejaVu Sans Mono',consolas,'Courier New',monospace\">Prediction: <span style=\"color: #800080; text-decoration-color: #800080; font-weight: bold\">tensor</span><span style=\"font-weight: bold\">([</span><span style=\"color: #008080; text-decoration-color: #008080; font-weight: bold\">0</span>, <span style=\"color: #008080; text-decoration-color: #008080; font-weight: bold\">0</span>, <span style=\"color: #008080; text-decoration-color: #008080; font-weight: bold\">0</span>, <span style=\"color: #008080; text-decoration-color: #008080; font-weight: bold\">0</span>, <span style=\"color: #008080; text-decoration-color: #008080; font-weight: bold\">0</span>, <span style=\"color: #008080; text-decoration-color: #008080; font-weight: bold\">0</span>, <span style=\"color: #008080; text-decoration-color: #008080; font-weight: bold\">0</span>, <span style=\"color: #008080; text-decoration-color: #008080; font-weight: bold\">0</span>, <span style=\"color: #008080; text-decoration-color: #008080; font-weight: bold\">0</span>, <span style=\"color: #008080; text-decoration-color: #008080; font-weight: bold\">0</span>, <span style=\"color: #008080; text-decoration-color: #008080; font-weight: bold\">0</span>, <span style=\"color: #008080; text-decoration-color: #008080; font-weight: bold\">0</span>, <span style=\"color: #008080; text-decoration-color: #008080; font-weight: bold\">0</span>, <span style=\"color: #008080; text-decoration-color: #008080; font-weight: bold\">0</span>, <span style=\"color: #008080; text-decoration-color: #008080; font-weight: bold\">0</span>, <span style=\"color: #008080; text-decoration-color: #008080; font-weight: bold\">0</span><span style=\"font-weight: bold\">]</span>, <span style=\"color: #808000; text-decoration-color: #808000\">device</span>=<span style=\"color: #008000; text-decoration-color: #008000\">'cuda:0'</span>,\n",
       "       <span style=\"color: #808000; text-decoration-color: #808000\">dtype</span>=<span style=\"color: #800080; text-decoration-color: #800080\">torch</span>.int32<span style=\"font-weight: bold\">)</span>\n",
       "</pre>\n"
      ],
      "text/plain": [
       "Prediction: \u001b[1;35mtensor\u001b[0m\u001b[1m(\u001b[0m\u001b[1m[\u001b[0m\u001b[1;36m0\u001b[0m, \u001b[1;36m0\u001b[0m, \u001b[1;36m0\u001b[0m, \u001b[1;36m0\u001b[0m, \u001b[1;36m0\u001b[0m, \u001b[1;36m0\u001b[0m, \u001b[1;36m0\u001b[0m, \u001b[1;36m0\u001b[0m, \u001b[1;36m0\u001b[0m, \u001b[1;36m0\u001b[0m, \u001b[1;36m0\u001b[0m, \u001b[1;36m0\u001b[0m, \u001b[1;36m0\u001b[0m, \u001b[1;36m0\u001b[0m, \u001b[1;36m0\u001b[0m, \u001b[1;36m0\u001b[0m\u001b[1m]\u001b[0m, \u001b[33mdevice\u001b[0m=\u001b[32m'cuda:0'\u001b[0m,\n",
       "       \u001b[33mdtype\u001b[0m=\u001b[35mtorch\u001b[0m.int32\u001b[1m)\u001b[0m\n"
      ]
     },
     "metadata": {},
     "output_type": "display_data"
    },
    {
     "data": {
      "text/html": [
       "<pre style=\"white-space:pre;overflow-x:auto;line-height:normal;font-family:Menlo,'DejaVu Sans Mono',consolas,'Courier New',monospace\">----------------------------------------------------------------------------------------------------\n",
       "</pre>\n"
      ],
      "text/plain": [
       "----------------------------------------------------------------------------------------------------\n"
      ]
     },
     "metadata": {},
     "output_type": "display_data"
    },
    {
     "data": {
      "text/html": [
       "<pre style=\"white-space:pre;overflow-x:auto;line-height:normal;font-family:Menlo,'DejaVu Sans Mono',consolas,'Courier New',monospace\">Expected: <span style=\"color: #800080; text-decoration-color: #800080; font-weight: bold\">tensor</span><span style=\"font-weight: bold\">([</span><span style=\"color: #008080; text-decoration-color: #008080; font-weight: bold\">0</span>, <span style=\"color: #008080; text-decoration-color: #008080; font-weight: bold\">0</span>, <span style=\"color: #008080; text-decoration-color: #008080; font-weight: bold\">0</span>, <span style=\"color: #008080; text-decoration-color: #008080; font-weight: bold\">0</span>, <span style=\"color: #008080; text-decoration-color: #008080; font-weight: bold\">0</span>, <span style=\"color: #008080; text-decoration-color: #008080; font-weight: bold\">0</span>, <span style=\"color: #008080; text-decoration-color: #008080; font-weight: bold\">0</span>, <span style=\"color: #008080; text-decoration-color: #008080; font-weight: bold\">0</span>, <span style=\"color: #008080; text-decoration-color: #008080; font-weight: bold\">0</span>, <span style=\"color: #008080; text-decoration-color: #008080; font-weight: bold\">0</span>, <span style=\"color: #008080; text-decoration-color: #008080; font-weight: bold\">0</span>, <span style=\"color: #008080; text-decoration-color: #008080; font-weight: bold\">0</span>, <span style=\"color: #008080; text-decoration-color: #008080; font-weight: bold\">0</span>, <span style=\"color: #008080; text-decoration-color: #008080; font-weight: bold\">0</span>, <span style=\"color: #008080; text-decoration-color: #008080; font-weight: bold\">0</span>, <span style=\"color: #008080; text-decoration-color: #008080; font-weight: bold\">0</span><span style=\"font-weight: bold\">]</span>, <span style=\"color: #808000; text-decoration-color: #808000\">device</span>=<span style=\"color: #008000; text-decoration-color: #008000\">'cuda:0'</span><span style=\"font-weight: bold\">)</span>\n",
       "</pre>\n"
      ],
      "text/plain": [
       "Expected: \u001b[1;35mtensor\u001b[0m\u001b[1m(\u001b[0m\u001b[1m[\u001b[0m\u001b[1;36m0\u001b[0m, \u001b[1;36m0\u001b[0m, \u001b[1;36m0\u001b[0m, \u001b[1;36m0\u001b[0m, \u001b[1;36m0\u001b[0m, \u001b[1;36m0\u001b[0m, \u001b[1;36m0\u001b[0m, \u001b[1;36m0\u001b[0m, \u001b[1;36m0\u001b[0m, \u001b[1;36m0\u001b[0m, \u001b[1;36m0\u001b[0m, \u001b[1;36m0\u001b[0m, \u001b[1;36m0\u001b[0m, \u001b[1;36m0\u001b[0m, \u001b[1;36m0\u001b[0m, \u001b[1;36m0\u001b[0m\u001b[1m]\u001b[0m, \u001b[33mdevice\u001b[0m=\u001b[32m'cuda:0'\u001b[0m\u001b[1m)\u001b[0m\n"
      ]
     },
     "metadata": {},
     "output_type": "display_data"
    },
    {
     "data": {
      "text/html": [
       "<pre style=\"white-space:pre;overflow-x:auto;line-height:normal;font-family:Menlo,'DejaVu Sans Mono',consolas,'Courier New',monospace\">Prediction: <span style=\"color: #800080; text-decoration-color: #800080; font-weight: bold\">tensor</span><span style=\"font-weight: bold\">([</span><span style=\"color: #008080; text-decoration-color: #008080; font-weight: bold\">0</span>, <span style=\"color: #008080; text-decoration-color: #008080; font-weight: bold\">0</span>, <span style=\"color: #008080; text-decoration-color: #008080; font-weight: bold\">0</span>, <span style=\"color: #008080; text-decoration-color: #008080; font-weight: bold\">0</span>, <span style=\"color: #008080; text-decoration-color: #008080; font-weight: bold\">0</span>, <span style=\"color: #008080; text-decoration-color: #008080; font-weight: bold\">0</span>, <span style=\"color: #008080; text-decoration-color: #008080; font-weight: bold\">0</span>, <span style=\"color: #008080; text-decoration-color: #008080; font-weight: bold\">0</span>, <span style=\"color: #008080; text-decoration-color: #008080; font-weight: bold\">0</span>, <span style=\"color: #008080; text-decoration-color: #008080; font-weight: bold\">0</span>, <span style=\"color: #008080; text-decoration-color: #008080; font-weight: bold\">0</span>, <span style=\"color: #008080; text-decoration-color: #008080; font-weight: bold\">0</span>, <span style=\"color: #008080; text-decoration-color: #008080; font-weight: bold\">0</span>, <span style=\"color: #008080; text-decoration-color: #008080; font-weight: bold\">0</span>, <span style=\"color: #008080; text-decoration-color: #008080; font-weight: bold\">0</span>, <span style=\"color: #008080; text-decoration-color: #008080; font-weight: bold\">0</span><span style=\"font-weight: bold\">]</span>, <span style=\"color: #808000; text-decoration-color: #808000\">device</span>=<span style=\"color: #008000; text-decoration-color: #008000\">'cuda:0'</span>,\n",
       "       <span style=\"color: #808000; text-decoration-color: #808000\">dtype</span>=<span style=\"color: #800080; text-decoration-color: #800080\">torch</span>.int32<span style=\"font-weight: bold\">)</span>\n",
       "</pre>\n"
      ],
      "text/plain": [
       "Prediction: \u001b[1;35mtensor\u001b[0m\u001b[1m(\u001b[0m\u001b[1m[\u001b[0m\u001b[1;36m0\u001b[0m, \u001b[1;36m0\u001b[0m, \u001b[1;36m0\u001b[0m, \u001b[1;36m0\u001b[0m, \u001b[1;36m0\u001b[0m, \u001b[1;36m0\u001b[0m, \u001b[1;36m0\u001b[0m, \u001b[1;36m0\u001b[0m, \u001b[1;36m0\u001b[0m, \u001b[1;36m0\u001b[0m, \u001b[1;36m0\u001b[0m, \u001b[1;36m0\u001b[0m, \u001b[1;36m0\u001b[0m, \u001b[1;36m0\u001b[0m, \u001b[1;36m0\u001b[0m, \u001b[1;36m0\u001b[0m\u001b[1m]\u001b[0m, \u001b[33mdevice\u001b[0m=\u001b[32m'cuda:0'\u001b[0m,\n",
       "       \u001b[33mdtype\u001b[0m=\u001b[35mtorch\u001b[0m.int32\u001b[1m)\u001b[0m\n"
      ]
     },
     "metadata": {},
     "output_type": "display_data"
    },
    {
     "data": {
      "text/html": [
       "<pre style=\"white-space:pre;overflow-x:auto;line-height:normal;font-family:Menlo,'DejaVu Sans Mono',consolas,'Courier New',monospace\">----------------------------------------------------------------------------------------------------\n",
       "</pre>\n"
      ],
      "text/plain": [
       "----------------------------------------------------------------------------------------------------\n"
      ]
     },
     "metadata": {},
     "output_type": "display_data"
    },
    {
     "data": {
      "text/html": [
       "<pre style=\"white-space:pre;overflow-x:auto;line-height:normal;font-family:Menlo,'DejaVu Sans Mono',consolas,'Courier New',monospace\">Expected: <span style=\"color: #800080; text-decoration-color: #800080; font-weight: bold\">tensor</span><span style=\"font-weight: bold\">([</span><span style=\"color: #008080; text-decoration-color: #008080; font-weight: bold\">0</span>, <span style=\"color: #008080; text-decoration-color: #008080; font-weight: bold\">0</span>, <span style=\"color: #008080; text-decoration-color: #008080; font-weight: bold\">0</span>, <span style=\"color: #008080; text-decoration-color: #008080; font-weight: bold\">0</span>, <span style=\"color: #008080; text-decoration-color: #008080; font-weight: bold\">0</span>, <span style=\"color: #008080; text-decoration-color: #008080; font-weight: bold\">0</span>, <span style=\"color: #008080; text-decoration-color: #008080; font-weight: bold\">0</span>, <span style=\"color: #008080; text-decoration-color: #008080; font-weight: bold\">0</span>, <span style=\"color: #008080; text-decoration-color: #008080; font-weight: bold\">0</span>, <span style=\"color: #008080; text-decoration-color: #008080; font-weight: bold\">0</span>, <span style=\"color: #008080; text-decoration-color: #008080; font-weight: bold\">0</span>, <span style=\"color: #008080; text-decoration-color: #008080; font-weight: bold\">0</span>, <span style=\"color: #008080; text-decoration-color: #008080; font-weight: bold\">0</span>, <span style=\"color: #008080; text-decoration-color: #008080; font-weight: bold\">0</span>, <span style=\"color: #008080; text-decoration-color: #008080; font-weight: bold\">0</span>, <span style=\"color: #008080; text-decoration-color: #008080; font-weight: bold\">0</span><span style=\"font-weight: bold\">]</span>, <span style=\"color: #808000; text-decoration-color: #808000\">device</span>=<span style=\"color: #008000; text-decoration-color: #008000\">'cuda:0'</span><span style=\"font-weight: bold\">)</span>\n",
       "</pre>\n"
      ],
      "text/plain": [
       "Expected: \u001b[1;35mtensor\u001b[0m\u001b[1m(\u001b[0m\u001b[1m[\u001b[0m\u001b[1;36m0\u001b[0m, \u001b[1;36m0\u001b[0m, \u001b[1;36m0\u001b[0m, \u001b[1;36m0\u001b[0m, \u001b[1;36m0\u001b[0m, \u001b[1;36m0\u001b[0m, \u001b[1;36m0\u001b[0m, \u001b[1;36m0\u001b[0m, \u001b[1;36m0\u001b[0m, \u001b[1;36m0\u001b[0m, \u001b[1;36m0\u001b[0m, \u001b[1;36m0\u001b[0m, \u001b[1;36m0\u001b[0m, \u001b[1;36m0\u001b[0m, \u001b[1;36m0\u001b[0m, \u001b[1;36m0\u001b[0m\u001b[1m]\u001b[0m, \u001b[33mdevice\u001b[0m=\u001b[32m'cuda:0'\u001b[0m\u001b[1m)\u001b[0m\n"
      ]
     },
     "metadata": {},
     "output_type": "display_data"
    },
    {
     "data": {
      "text/html": [
       "<pre style=\"white-space:pre;overflow-x:auto;line-height:normal;font-family:Menlo,'DejaVu Sans Mono',consolas,'Courier New',monospace\">Prediction: <span style=\"color: #800080; text-decoration-color: #800080; font-weight: bold\">tensor</span><span style=\"font-weight: bold\">([</span><span style=\"color: #008080; text-decoration-color: #008080; font-weight: bold\">0</span>, <span style=\"color: #008080; text-decoration-color: #008080; font-weight: bold\">0</span>, <span style=\"color: #008080; text-decoration-color: #008080; font-weight: bold\">0</span>, <span style=\"color: #008080; text-decoration-color: #008080; font-weight: bold\">0</span>, <span style=\"color: #008080; text-decoration-color: #008080; font-weight: bold\">0</span>, <span style=\"color: #008080; text-decoration-color: #008080; font-weight: bold\">0</span>, <span style=\"color: #008080; text-decoration-color: #008080; font-weight: bold\">0</span>, <span style=\"color: #008080; text-decoration-color: #008080; font-weight: bold\">0</span>, <span style=\"color: #008080; text-decoration-color: #008080; font-weight: bold\">0</span>, <span style=\"color: #008080; text-decoration-color: #008080; font-weight: bold\">0</span>, <span style=\"color: #008080; text-decoration-color: #008080; font-weight: bold\">0</span>, <span style=\"color: #008080; text-decoration-color: #008080; font-weight: bold\">0</span>, <span style=\"color: #008080; text-decoration-color: #008080; font-weight: bold\">0</span>, <span style=\"color: #008080; text-decoration-color: #008080; font-weight: bold\">0</span>, <span style=\"color: #008080; text-decoration-color: #008080; font-weight: bold\">0</span>, <span style=\"color: #008080; text-decoration-color: #008080; font-weight: bold\">0</span><span style=\"font-weight: bold\">]</span>, <span style=\"color: #808000; text-decoration-color: #808000\">device</span>=<span style=\"color: #008000; text-decoration-color: #008000\">'cuda:0'</span>,\n",
       "       <span style=\"color: #808000; text-decoration-color: #808000\">dtype</span>=<span style=\"color: #800080; text-decoration-color: #800080\">torch</span>.int32<span style=\"font-weight: bold\">)</span>\n",
       "</pre>\n"
      ],
      "text/plain": [
       "Prediction: \u001b[1;35mtensor\u001b[0m\u001b[1m(\u001b[0m\u001b[1m[\u001b[0m\u001b[1;36m0\u001b[0m, \u001b[1;36m0\u001b[0m, \u001b[1;36m0\u001b[0m, \u001b[1;36m0\u001b[0m, \u001b[1;36m0\u001b[0m, \u001b[1;36m0\u001b[0m, \u001b[1;36m0\u001b[0m, \u001b[1;36m0\u001b[0m, \u001b[1;36m0\u001b[0m, \u001b[1;36m0\u001b[0m, \u001b[1;36m0\u001b[0m, \u001b[1;36m0\u001b[0m, \u001b[1;36m0\u001b[0m, \u001b[1;36m0\u001b[0m, \u001b[1;36m0\u001b[0m, \u001b[1;36m0\u001b[0m\u001b[1m]\u001b[0m, \u001b[33mdevice\u001b[0m=\u001b[32m'cuda:0'\u001b[0m,\n",
       "       \u001b[33mdtype\u001b[0m=\u001b[35mtorch\u001b[0m.int32\u001b[1m)\u001b[0m\n"
      ]
     },
     "metadata": {},
     "output_type": "display_data"
    },
    {
     "data": {
      "text/html": [
       "<pre style=\"white-space:pre;overflow-x:auto;line-height:normal;font-family:Menlo,'DejaVu Sans Mono',consolas,'Courier New',monospace\">----------------------------------------------------------------------------------------------------\n",
       "</pre>\n"
      ],
      "text/plain": [
       "----------------------------------------------------------------------------------------------------\n"
      ]
     },
     "metadata": {},
     "output_type": "display_data"
    },
    {
     "data": {
      "text/html": [
       "<pre style=\"white-space:pre;overflow-x:auto;line-height:normal;font-family:Menlo,'DejaVu Sans Mono',consolas,'Courier New',monospace\">Expected: <span style=\"color: #800080; text-decoration-color: #800080; font-weight: bold\">tensor</span><span style=\"font-weight: bold\">([</span><span style=\"color: #008080; text-decoration-color: #008080; font-weight: bold\">0</span>, <span style=\"color: #008080; text-decoration-color: #008080; font-weight: bold\">1</span>, <span style=\"color: #008080; text-decoration-color: #008080; font-weight: bold\">1</span>, <span style=\"color: #008080; text-decoration-color: #008080; font-weight: bold\">1</span>, <span style=\"color: #008080; text-decoration-color: #008080; font-weight: bold\">1</span>, <span style=\"color: #008080; text-decoration-color: #008080; font-weight: bold\">1</span>, <span style=\"color: #008080; text-decoration-color: #008080; font-weight: bold\">1</span>, <span style=\"color: #008080; text-decoration-color: #008080; font-weight: bold\">1</span>, <span style=\"color: #008080; text-decoration-color: #008080; font-weight: bold\">1</span>, <span style=\"color: #008080; text-decoration-color: #008080; font-weight: bold\">1</span>, <span style=\"color: #008080; text-decoration-color: #008080; font-weight: bold\">1</span>, <span style=\"color: #008080; text-decoration-color: #008080; font-weight: bold\">1</span>, <span style=\"color: #008080; text-decoration-color: #008080; font-weight: bold\">1</span>, <span style=\"color: #008080; text-decoration-color: #008080; font-weight: bold\">1</span>, <span style=\"color: #008080; text-decoration-color: #008080; font-weight: bold\">1</span>, <span style=\"color: #008080; text-decoration-color: #008080; font-weight: bold\">1</span><span style=\"font-weight: bold\">]</span>, <span style=\"color: #808000; text-decoration-color: #808000\">device</span>=<span style=\"color: #008000; text-decoration-color: #008000\">'cuda:0'</span><span style=\"font-weight: bold\">)</span>\n",
       "</pre>\n"
      ],
      "text/plain": [
       "Expected: \u001b[1;35mtensor\u001b[0m\u001b[1m(\u001b[0m\u001b[1m[\u001b[0m\u001b[1;36m0\u001b[0m, \u001b[1;36m1\u001b[0m, \u001b[1;36m1\u001b[0m, \u001b[1;36m1\u001b[0m, \u001b[1;36m1\u001b[0m, \u001b[1;36m1\u001b[0m, \u001b[1;36m1\u001b[0m, \u001b[1;36m1\u001b[0m, \u001b[1;36m1\u001b[0m, \u001b[1;36m1\u001b[0m, \u001b[1;36m1\u001b[0m, \u001b[1;36m1\u001b[0m, \u001b[1;36m1\u001b[0m, \u001b[1;36m1\u001b[0m, \u001b[1;36m1\u001b[0m, \u001b[1;36m1\u001b[0m\u001b[1m]\u001b[0m, \u001b[33mdevice\u001b[0m=\u001b[32m'cuda:0'\u001b[0m\u001b[1m)\u001b[0m\n"
      ]
     },
     "metadata": {},
     "output_type": "display_data"
    },
    {
     "data": {
      "text/html": [
       "<pre style=\"white-space:pre;overflow-x:auto;line-height:normal;font-family:Menlo,'DejaVu Sans Mono',consolas,'Courier New',monospace\">Prediction: <span style=\"color: #800080; text-decoration-color: #800080; font-weight: bold\">tensor</span><span style=\"font-weight: bold\">([</span><span style=\"color: #008080; text-decoration-color: #008080; font-weight: bold\">0</span>, <span style=\"color: #008080; text-decoration-color: #008080; font-weight: bold\">0</span>, <span style=\"color: #008080; text-decoration-color: #008080; font-weight: bold\">1</span>, <span style=\"color: #008080; text-decoration-color: #008080; font-weight: bold\">0</span>, <span style=\"color: #008080; text-decoration-color: #008080; font-weight: bold\">1</span>, <span style=\"color: #008080; text-decoration-color: #008080; font-weight: bold\">1</span>, <span style=\"color: #008080; text-decoration-color: #008080; font-weight: bold\">1</span>, <span style=\"color: #008080; text-decoration-color: #008080; font-weight: bold\">1</span>, <span style=\"color: #008080; text-decoration-color: #008080; font-weight: bold\">1</span>, <span style=\"color: #008080; text-decoration-color: #008080; font-weight: bold\">1</span>, <span style=\"color: #008080; text-decoration-color: #008080; font-weight: bold\">0</span>, <span style=\"color: #008080; text-decoration-color: #008080; font-weight: bold\">1</span>, <span style=\"color: #008080; text-decoration-color: #008080; font-weight: bold\">1</span>, <span style=\"color: #008080; text-decoration-color: #008080; font-weight: bold\">1</span>, <span style=\"color: #008080; text-decoration-color: #008080; font-weight: bold\">1</span>, <span style=\"color: #008080; text-decoration-color: #008080; font-weight: bold\">1</span><span style=\"font-weight: bold\">]</span>, <span style=\"color: #808000; text-decoration-color: #808000\">device</span>=<span style=\"color: #008000; text-decoration-color: #008000\">'cuda:0'</span>,\n",
       "       <span style=\"color: #808000; text-decoration-color: #808000\">dtype</span>=<span style=\"color: #800080; text-decoration-color: #800080\">torch</span>.int32<span style=\"font-weight: bold\">)</span>\n",
       "</pre>\n"
      ],
      "text/plain": [
       "Prediction: \u001b[1;35mtensor\u001b[0m\u001b[1m(\u001b[0m\u001b[1m[\u001b[0m\u001b[1;36m0\u001b[0m, \u001b[1;36m0\u001b[0m, \u001b[1;36m1\u001b[0m, \u001b[1;36m0\u001b[0m, \u001b[1;36m1\u001b[0m, \u001b[1;36m1\u001b[0m, \u001b[1;36m1\u001b[0m, \u001b[1;36m1\u001b[0m, \u001b[1;36m1\u001b[0m, \u001b[1;36m1\u001b[0m, \u001b[1;36m0\u001b[0m, \u001b[1;36m1\u001b[0m, \u001b[1;36m1\u001b[0m, \u001b[1;36m1\u001b[0m, \u001b[1;36m1\u001b[0m, \u001b[1;36m1\u001b[0m\u001b[1m]\u001b[0m, \u001b[33mdevice\u001b[0m=\u001b[32m'cuda:0'\u001b[0m,\n",
       "       \u001b[33mdtype\u001b[0m=\u001b[35mtorch\u001b[0m.int32\u001b[1m)\u001b[0m\n"
      ]
     },
     "metadata": {},
     "output_type": "display_data"
    },
    {
     "data": {
      "text/html": [
       "<pre style=\"white-space:pre;overflow-x:auto;line-height:normal;font-family:Menlo,'DejaVu Sans Mono',consolas,'Courier New',monospace\">----------------------------------------------------------------------------------------------------\n",
       "</pre>\n"
      ],
      "text/plain": [
       "----------------------------------------------------------------------------------------------------\n"
      ]
     },
     "metadata": {},
     "output_type": "display_data"
    },
    {
     "data": {
      "text/html": [
       "<pre style=\"white-space:pre;overflow-x:auto;line-height:normal;font-family:Menlo,'DejaVu Sans Mono',consolas,'Courier New',monospace\">Expected: <span style=\"color: #800080; text-decoration-color: #800080; font-weight: bold\">tensor</span><span style=\"font-weight: bold\">([</span><span style=\"color: #008080; text-decoration-color: #008080; font-weight: bold\">1</span>, <span style=\"color: #008080; text-decoration-color: #008080; font-weight: bold\">1</span>, <span style=\"color: #008080; text-decoration-color: #008080; font-weight: bold\">1</span>, <span style=\"color: #008080; text-decoration-color: #008080; font-weight: bold\">1</span>, <span style=\"color: #008080; text-decoration-color: #008080; font-weight: bold\">1</span>, <span style=\"color: #008080; text-decoration-color: #008080; font-weight: bold\">1</span>, <span style=\"color: #008080; text-decoration-color: #008080; font-weight: bold\">1</span>, <span style=\"color: #008080; text-decoration-color: #008080; font-weight: bold\">1</span>, <span style=\"color: #008080; text-decoration-color: #008080; font-weight: bold\">1</span>, <span style=\"color: #008080; text-decoration-color: #008080; font-weight: bold\">1</span>, <span style=\"color: #008080; text-decoration-color: #008080; font-weight: bold\">1</span>, <span style=\"color: #008080; text-decoration-color: #008080; font-weight: bold\">1</span>, <span style=\"color: #008080; text-decoration-color: #008080; font-weight: bold\">1</span>, <span style=\"color: #008080; text-decoration-color: #008080; font-weight: bold\">1</span>, <span style=\"color: #008080; text-decoration-color: #008080; font-weight: bold\">1</span>, <span style=\"color: #008080; text-decoration-color: #008080; font-weight: bold\">1</span><span style=\"font-weight: bold\">]</span>, <span style=\"color: #808000; text-decoration-color: #808000\">device</span>=<span style=\"color: #008000; text-decoration-color: #008000\">'cuda:0'</span><span style=\"font-weight: bold\">)</span>\n",
       "</pre>\n"
      ],
      "text/plain": [
       "Expected: \u001b[1;35mtensor\u001b[0m\u001b[1m(\u001b[0m\u001b[1m[\u001b[0m\u001b[1;36m1\u001b[0m, \u001b[1;36m1\u001b[0m, \u001b[1;36m1\u001b[0m, \u001b[1;36m1\u001b[0m, \u001b[1;36m1\u001b[0m, \u001b[1;36m1\u001b[0m, \u001b[1;36m1\u001b[0m, \u001b[1;36m1\u001b[0m, \u001b[1;36m1\u001b[0m, \u001b[1;36m1\u001b[0m, \u001b[1;36m1\u001b[0m, \u001b[1;36m1\u001b[0m, \u001b[1;36m1\u001b[0m, \u001b[1;36m1\u001b[0m, \u001b[1;36m1\u001b[0m, \u001b[1;36m1\u001b[0m\u001b[1m]\u001b[0m, \u001b[33mdevice\u001b[0m=\u001b[32m'cuda:0'\u001b[0m\u001b[1m)\u001b[0m\n"
      ]
     },
     "metadata": {},
     "output_type": "display_data"
    },
    {
     "data": {
      "text/html": [
       "<pre style=\"white-space:pre;overflow-x:auto;line-height:normal;font-family:Menlo,'DejaVu Sans Mono',consolas,'Courier New',monospace\">Prediction: <span style=\"color: #800080; text-decoration-color: #800080; font-weight: bold\">tensor</span><span style=\"font-weight: bold\">([</span><span style=\"color: #008080; text-decoration-color: #008080; font-weight: bold\">1</span>, <span style=\"color: #008080; text-decoration-color: #008080; font-weight: bold\">1</span>, <span style=\"color: #008080; text-decoration-color: #008080; font-weight: bold\">1</span>, <span style=\"color: #008080; text-decoration-color: #008080; font-weight: bold\">1</span>, <span style=\"color: #008080; text-decoration-color: #008080; font-weight: bold\">1</span>, <span style=\"color: #008080; text-decoration-color: #008080; font-weight: bold\">1</span>, <span style=\"color: #008080; text-decoration-color: #008080; font-weight: bold\">1</span>, <span style=\"color: #008080; text-decoration-color: #008080; font-weight: bold\">1</span>, <span style=\"color: #008080; text-decoration-color: #008080; font-weight: bold\">1</span>, <span style=\"color: #008080; text-decoration-color: #008080; font-weight: bold\">1</span>, <span style=\"color: #008080; text-decoration-color: #008080; font-weight: bold\">1</span>, <span style=\"color: #008080; text-decoration-color: #008080; font-weight: bold\">1</span>, <span style=\"color: #008080; text-decoration-color: #008080; font-weight: bold\">1</span>, <span style=\"color: #008080; text-decoration-color: #008080; font-weight: bold\">1</span>, <span style=\"color: #008080; text-decoration-color: #008080; font-weight: bold\">1</span>, <span style=\"color: #008080; text-decoration-color: #008080; font-weight: bold\">1</span><span style=\"font-weight: bold\">]</span>, <span style=\"color: #808000; text-decoration-color: #808000\">device</span>=<span style=\"color: #008000; text-decoration-color: #008000\">'cuda:0'</span>,\n",
       "       <span style=\"color: #808000; text-decoration-color: #808000\">dtype</span>=<span style=\"color: #800080; text-decoration-color: #800080\">torch</span>.int32<span style=\"font-weight: bold\">)</span>\n",
       "</pre>\n"
      ],
      "text/plain": [
       "Prediction: \u001b[1;35mtensor\u001b[0m\u001b[1m(\u001b[0m\u001b[1m[\u001b[0m\u001b[1;36m1\u001b[0m, \u001b[1;36m1\u001b[0m, \u001b[1;36m1\u001b[0m, \u001b[1;36m1\u001b[0m, \u001b[1;36m1\u001b[0m, \u001b[1;36m1\u001b[0m, \u001b[1;36m1\u001b[0m, \u001b[1;36m1\u001b[0m, \u001b[1;36m1\u001b[0m, \u001b[1;36m1\u001b[0m, \u001b[1;36m1\u001b[0m, \u001b[1;36m1\u001b[0m, \u001b[1;36m1\u001b[0m, \u001b[1;36m1\u001b[0m, \u001b[1;36m1\u001b[0m, \u001b[1;36m1\u001b[0m\u001b[1m]\u001b[0m, \u001b[33mdevice\u001b[0m=\u001b[32m'cuda:0'\u001b[0m,\n",
       "       \u001b[33mdtype\u001b[0m=\u001b[35mtorch\u001b[0m.int32\u001b[1m)\u001b[0m\n"
      ]
     },
     "metadata": {},
     "output_type": "display_data"
    },
    {
     "data": {
      "text/html": [
       "<pre style=\"white-space:pre;overflow-x:auto;line-height:normal;font-family:Menlo,'DejaVu Sans Mono',consolas,'Courier New',monospace\">----------------------------------------------------------------------------------------------------\n",
       "</pre>\n"
      ],
      "text/plain": [
       "----------------------------------------------------------------------------------------------------\n"
      ]
     },
     "metadata": {},
     "output_type": "display_data"
    },
    {
     "data": {
      "text/plain": [
       "{'accuracy': 0.9732142857142857,\n",
       " 'loss': 0.12085052047457014,\n",
       " 'precision': 1.0,\n",
       " 'recall': 0.9032258064516129,\n",
       " 'f1_score': 0.9491525423728814}"
      ]
     },
     "execution_count": 19,
     "metadata": {},
     "output_type": "execute_result"
    }
   ],
   "source": [
    "classification.evaluate(model, test_loader, device, criterion, edges, True)"
   ]
  },
  {
   "cell_type": "code",
   "execution_count": 26,
   "metadata": {},
   "outputs": [
    {
     "name": "stdout",
     "output_type": "stream",
     "text": [
      "Updated config.json model successfully.\n"
     ]
    }
   ],
   "source": [
    "\n",
    "update_config(CONFIG_PATH, \"model\", {\n",
    "    \"classification\": {\n",
    "        \"model_file\" : cls_model,\n",
    "        \"architecture\": model.name,\n",
    "        \"labels\": LABELS,\n",
    "        \"hidden_dim\": HIDDEN_DIM,\n",
    "        \"edges\": edges.tolist(),\n",
    "        \"epochs\": EPOCHS,\n",
    "        \"batch_size\": NUM_BATCH,\n",
    "        \"learning_rate\": LEARNING_RATE,\n",
    "        \"optimizer\": type(optimizer).__name__,\n",
    "        \"criterion\": type(criterion).__name__,\n",
    "        \"evaluation_metric\": \"precision_recall_fscore\",\n",
    "        \"device_like_type\": DeviceLikeType,\n",
    "    }\n",
    "})"
   ]
  }
 ],
 "metadata": {
  "kernelspec": {
   "display_name": "deep_learning",
   "language": "python",
   "name": "python3"
  },
  "language_info": {
   "codemirror_mode": {
    "name": "ipython",
    "version": 3
   },
   "file_extension": ".py",
   "mimetype": "text/x-python",
   "name": "python",
   "nbconvert_exporter": "python",
   "pygments_lexer": "ipython3",
   "version": "3.12.7"
  }
 },
 "nbformat": 4,
 "nbformat_minor": 2
}
