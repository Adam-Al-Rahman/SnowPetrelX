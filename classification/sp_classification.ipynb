{
 "cells": [
  {
   "cell_type": "code",
   "execution_count": null,
   "metadata": {},
   "outputs": [],
   "source": [
    "# Research Paper\n",
    "# [Spatial Temporal Graph Convolutional Networks for Skeleton-Based Action Recognition](https://arxiv.org/abs/1801.07455)\n",
    "# [On loss functions and regret bounds for multi-category classification](https://arxiv.org/abs/2005.08155)"
   ]
  },
  {
   "cell_type": "code",
   "execution_count": null,
   "metadata": {},
   "outputs": [],
   "source": [
    "# Input: Keypoints [T, num_keypoints, 2] (e.g., [30, 8, 2])\n",
    "#     ↓\n",
    "# Graph Feature Extractor (GCN):\n",
    "#     - Models relationships between body parts\n",
    "#     - Outputs spatial embeddings [T, num_keypoints, d]\n",
    "#     ↓\n",
    "# Temporal Module (GRU or Transformer):\n",
    "#     - Captures temporal dynamics in keypoint movement\n",
    "#     - Outputs temporal embeddings [T, d]\n",
    "#     ↓\n",
    "# Global Average Pooling:\n",
    "#     - Aggregates information across time\n",
    "#     ↓\n",
    "# Fully Connected Layers:\n",
    "#     - Dense layers for classification\n",
    "#     - Dropout for regularization\n",
    "#     ↓\n",
    "# Output: Behavior Class Probabilities\n"
   ]
  },
  {
   "cell_type": "code",
   "execution_count": null,
   "metadata": {},
   "outputs": [],
   "source": [
    "import matplotlib.pyplot as plt\n",
    "import numpy as np\n",
    "import pandas as pd\n",
    "\n",
    "from PIL import Image\n",
    "from rich import print\n",
    "import os"
   ]
  },
  {
   "cell_type": "code",
   "execution_count": null,
   "metadata": {},
   "outputs": [],
   "source": [
    "import torch\n",
    "import torch.nn as nn\n",
    "import torch_geometric.nn as gnn\n",
    "\n",
    "from torch.utils.data import Dataset, DataLoader\n",
    "from torchvision import models\n",
    "from torchvision import transforms"
   ]
  },
  {
   "cell_type": "code",
   "execution_count": null,
   "metadata": {},
   "outputs": [],
   "source": [
    "\n",
    "IMG_WIDTH = 320\n",
    "IMG_HEIGHT = 240\n",
    "NUM_KEYPOINTS = 7\n",
    "NUM_BATCH = 16\n",
    "\n",
    "DATASET_ROOT = \"../datasets\"\n",
    "MODEL_PATH = \"../models\"\n",
    "DATASET_FILE = DATASET_ROOT + \"/preprocessed_dataset.csv\"\n",
    "\n",
    "dataset = pd.read_csv(DATASET_FILE)\n",
    "\n",
    "# SKELETON = []"
   ]
  },
  {
   "cell_type": "code",
   "execution_count": null,
   "metadata": {},
   "outputs": [],
   "source": [
    "# Device-Agnostic\n",
    "device = torch.device('cuda' if torch.cuda.is_available() else 'cpu')\n",
    "print(f\"\"\"\n",
    "Device: {device}\n",
    "Device CUDNN enabled: {torch.backends.cudnn.enabled}\n",
    "\"\"\")"
   ]
  },
  {
   "cell_type": "code",
   "execution_count": null,
   "metadata": {},
   "outputs": [],
   "source": [
    "\n",
    "class BirdBehaviorClassifier(nn.Module):\n",
    "    def __init__(self, num_keypoints: int, num_classes: int, hidden_dim: int = 128):\n",
    "        super(BirdBehaviorClassifier, self).__init__()\n",
    "        # Spatial GCN\n",
    "        self.gcn = gnn.GCNConv(num_keypoints * 2, hidden_dim)\n",
    "        \n",
    "        # Temporal Module (GRU)\n",
    "        self.temporal_gru = nn.GRU(hidden_dim, hidden_dim, batch_first=True)\n",
    "        \n",
    "        # Classification Head\n",
    "        self.fc = nn.Sequential(\n",
    "            nn.Linear(hidden_dim, 64),\n",
    "            nn.ReLU(),\n",
    "            nn.Dropout(0.3),\n",
    "            nn.Linear(64, num_classes)\n",
    "        )\n",
    "\n",
    "    def forward(self, keypoints: torch.Tensor, edges: torch.Tensor):\n",
    "        # Spatial GCN\n",
    "        batch_size, time_steps, num_keypoints, _ = keypoints.shape\n",
    "        keypoints = keypoints.view(batch_size * time_steps, num_keypoints, 2).permute(0, 2, 1)  # [B*T, 2, num_keypoints]\n",
    "        gcn_out = self.gcn(keypoints, edges)  # Apply GCN\n",
    "        \n",
    "        # Temporal Module\n",
    "        gcn_out = gcn_out.view(batch_size, time_steps, -1)  # Reshape for GRU\n",
    "        temporal_out, _ = self.temporal_gru(gcn_out)\n",
    "        \n",
    "        # Classification Head\n",
    "        temporal_out = temporal_out.mean(dim=1)  # Global Average Pooling\n",
    "        out = self.fc(temporal_out)  # Behavior Prediction\n",
    "        return out\n"
   ]
  }
 ],
 "metadata": {
  "kernelspec": {
   "display_name": "deep_learning",
   "language": "python",
   "name": "python3"
  },
  "language_info": {
   "codemirror_mode": {
    "name": "ipython",
    "version": 3
   },
   "file_extension": ".py",
   "mimetype": "text/x-python",
   "name": "python",
   "nbconvert_exporter": "python",
   "pygments_lexer": "ipython3",
   "version": "3.12.7"
  }
 },
 "nbformat": 4,
 "nbformat_minor": 2
}
